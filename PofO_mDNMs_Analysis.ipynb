{
 "cells": [
  {
   "cell_type": "code",
   "execution_count": 2,
   "id": "59215ed9-6d03-4ca9-ae50-87f2704d873b",
   "metadata": {},
   "outputs": [],
   "source": [
    "# Introduction :"
   ]
  },
  {
   "cell_type": "code",
   "execution_count": 135,
   "id": "ee0c698f-2d47-4b09-88d0-5bc9470fa396",
   "metadata": {},
   "outputs": [],
   "source": [
    "#\n",
    "\n",
    "import re\n",
    "from tqdm import tqdm\n",
    "from ast import literal_eval\n",
    "import os\n",
    "import vcf\n",
    "import gzip\n",
    "from tqdm import tqdm\n",
    "from collections import Counter\n",
    "import pandas as pd\n",
    "import os\n",
    "import numpy as np\n",
    "import itertools\n",
    "import re\n",
    "import matplotlib.pyplot as plt\n",
    "import numpy as np\n",
    "from pysam import VariantFile\n",
    "import json\n",
    "import pysam"
   ]
  },
  {
   "cell_type": "code",
   "execution_count": 3,
   "id": "e0e4a75b-f994-4c2b-9931-83e694948699",
   "metadata": {},
   "outputs": [],
   "source": [
    "# Analysing the Microsatellite Denovo parent of origin.\n",
    "\n",
    "\n",
    "# 1. Question one is to see the distribution of number of mDNMs from each trio.\n",
    "# 2. Question 2 is to check the distribution between counts of 'P' & 'M'.\n",
    "#"
   ]
  },
  {
   "cell_type": "code",
   "execution_count": 110,
   "id": "5cc25e07-cf70-4874-bc93-3feb523a56d8",
   "metadata": {},
   "outputs": [],
   "source": [
    "# Dictionary which contains the Union of Phased mDNMs and frequency in all individuals.\n",
    "\n",
    "Phased_mDMNs = {}"
   ]
  },
  {
   "cell_type": "code",
   "execution_count": 111,
   "id": "63e7348d-7350-4c14-82bf-bd1e225fdcf5",
   "metadata": {
    "tags": []
   },
   "outputs": [],
   "source": [
    "\n",
    "def Phased_files(infile):\n",
    "\n",
    "    with gzip.open(f'../../Analysis_KT/SNP_Denovo/SNPs_Intermediate_Files/SNPs_AssociatedDenovoSTR_lens/{infile}', 'rt') as mDNMs :\n",
    "            mDNMs.readline()\n",
    "\n",
    "            for Dregion in mDNMs:\n",
    "                Dregion = Dregion.strip().split('\\t')\n",
    "                if int(Dregion[-1]) == 0: continue\n",
    "                if len(Dregion[3]) == 1: continue\n",
    "                region = f'{Dregion[0]}:{Dregion[1]}-{Dregion[2]}'\n",
    "                Denovo_alleles = Dregion[7].split('|')\n",
    "                phased_alleles_info = Dregion[-2].split(':')\n",
    "\n",
    "\n",
    "                # Checking if phased alleles are part of Denovo alleles.\n",
    "                usefull_allele_info = []\n",
    "                test = [usefull_allele_info.append(1) for x in phased_alleles_info  if len(set(Denovo_alleles) - set(x.split('/'))) == 0]\n",
    "                \n",
    "                # Checking regions where both mDNMs got phased and updating to dictionary- where we get the union of all mDNMs regions and their frequency among the samples.\n",
    "                if len(usefull_allele_info) != 0:\n",
    "                    if region not in Phased_mDMNs: Phased_mDMNs[region] = 1\n",
    "                    else: Phased_mDMNs[region] += 1\n"
   ]
  },
  {
   "cell_type": "code",
   "execution_count": 112,
   "id": "2a8f435d-d8a7-4e45-94cc-40b38a5dfa0d",
   "metadata": {},
   "outputs": [
    {
     "name": "stderr",
     "output_type": "stream",
     "text": [
      "100%|█████████████████████████████████████████████████████████████████████████████████████████████████████████████████████████████████████████████████████████████████████| 597/597 [00:01<00:00, 356.23it/s]\n"
     ]
    }
   ],
   "source": [
    "# itterating the files.\n",
    "\n",
    "read_directory = '../../Analysis_KT/SNP_Denovo/SNPs_Intermediate_Files/SNPs_AssociatedDenovoSTR_lens/'\n",
    "\n",
    "for file in tqdm(os.listdir(read_directory)):\n",
    "    \n",
    "    # checking if the file has any info or not.\n",
    "    if file.endswith('_Phased_mDNMs.tsv.gz') :\n",
    "        Phased_files(file)"
   ]
  },
  {
   "cell_type": "code",
   "execution_count": 113,
   "id": "ad2a14de-c2f7-4d7f-9d1f-8367843d77d7",
   "metadata": {
    "tags": []
   },
   "outputs": [
    {
     "data": {
      "text/plain": [
       "41710"
      ]
     },
     "execution_count": 113,
     "metadata": {},
     "output_type": "execute_result"
    }
   ],
   "source": [
    "len(Phased_mDMNs)"
   ]
  },
  {
   "cell_type": "markdown",
   "id": "39c31bfe-cda0-4e18-844a-18ad6a8c4e25",
   "metadata": {},
   "source": [
    "# RESULT : Here we see 1.6 lakhs STR regions which got phased.\n",
    "### We see without Monomers, 41,710 thousand STR regions ----- why monomers why ... ?"
   ]
  },
  {
   "cell_type": "code",
   "execution_count": 136,
   "id": "d05a013b-3b20-4231-8b6e-d287c3dff267",
   "metadata": {},
   "outputs": [],
   "source": [
    "# list of list containing the each sample \"Maternal and Paternal\" region counts. Out of 8,311.\n",
    "\n",
    "Paternal_Maternal_counts = [[], [], []] # [Number of mDNMs] [P alleles] [M alleles]"
   ]
  },
  {
   "cell_type": "code",
   "execution_count": 137,
   "id": "c5223701-26cd-4ec5-afa9-c2a40abb95a7",
   "metadata": {},
   "outputs": [],
   "source": [
    "# Function : Checking if phased alleles are part of Denovo alleles.\n",
    "\n",
    "def checking_phased_alleles(Dregion, phased_alleles_info, Denovo_alleles):\n",
    "    \n",
    "    usefull_allele_info = []\n",
    "    check = [usefull_allele_info.append(i) for i,x in enumerate(phased_alleles_info)  if len(set(Denovo_alleles) - set(x.split('/'))) == 0]\n",
    "\n",
    "    # Checking regions where both mDNMs got phased and updating to dictionary- where we get the union of all mDNMs regions and their frequency among the samples.\n",
    "    if len(usefull_allele_info) > 0:\n",
    "        return usefull_allele_info[0]\n"
   ]
  },
  {
   "cell_type": "code",
   "execution_count": 138,
   "id": "21b76011-26f3-49da-b4c8-4191f171ed13",
   "metadata": {},
   "outputs": [],
   "source": [
    "# Function : returning the Denovo allele and its parent of origin.\n",
    "# ([['30', 'G'], ['36', 'A']], [['G', 'M'], ['A', 'P']], '36')\n",
    "def Denovo_allele_origin(informative_Dallele_info, informative_Snp_allele_info, Denovo_allele, Dregion):\n",
    "    \n",
    "    Dallele_split = re.split(r',|:', informative_Dallele_info)  # check the format after splitting the alleles and snp info\n",
    "    Snp_PofO = re.split(r';|:|,', informative_Snp_allele_info) # check the format\n",
    "    \n",
    "    Dallele_info = [Dallele_split[0:2], Dallele_split[3:5]]         # check the '_12' ******************\n",
    "    Snp_PofO = [Snp_PofO[1:3], Snp_PofO[3:]]                        # check the '_A' *******************\n",
    "    \n",
    "    # Creating the dictionary to fetch the info stright.\n",
    "    SNP_allele_info = {Snp_PofO[0][0]: Snp_PofO[0][1], Snp_PofO[1][0]: Snp_PofO[1][1]}\n",
    "    Denovo_allele_pofo = {Dallele_info[0][0]: Dallele_info[0][1], Dallele_info[1][0]: Dallele_info[1][1]}\n",
    "    \n",
    "    # PofO = None\n",
    "    # Here we get the Denovo allele has come from the Paternal or Maternal side.\n",
    "    if Denovo_allele in Denovo_allele_pofo: \n",
    "        PofO = SNP_allele_info[Denovo_allele_pofo[Denovo_allele]]\n",
    "        return PofO #, Dallele_info, Snp_PofO, SNP_allele_info, Denovo_allele_pofo, Denovo_allele\n"
   ]
  },
  {
   "cell_type": "code",
   "execution_count": 144,
   "id": "070d6d78-c5b7-4e3c-9745-369d244ce2eb",
   "metadata": {
    "tags": []
   },
   "outputs": [
    {
     "name": "stdout",
     "output_type": "stream",
     "text": [
      "Counter() 375 1260 375\n"
     ]
    }
   ],
   "source": [
    "# A very 1st question :\n",
    "\n",
    "#-----> one:- Number of mDNMs in maternal and paternal side.\n",
    "t = []\n",
    "\n",
    "def Phased_files1(infile):\n",
    "    #\n",
    "    i = 0\n",
    "    j = 0\n",
    "    Maternal_Paternal_counts = []\n",
    "    \n",
    "    with open(f'../../Analysis_KT/SNP_Denovo/SNPs_Intermediate_Files/SNPs_AssociatedDenovoSTR_lens/{infile}') as mDNMs :\n",
    "            mDNMs.readline()\n",
    "            \n",
    "            for i,Dregion in enumerate(mDNMs):\n",
    "                Dregion = Dregion.strip().split('\\t')\n",
    "                if int(Dregion[-1]) == 0: continue\n",
    "                if len(Dregion[3]) == 1: continue\n",
    "                j += 1\n",
    "                #\n",
    "                Denovo_alleles = Dregion[7].split('|')\n",
    "                phased_alleles_info = Dregion[-2].split(':')\n",
    "                \n",
    "                # Passing the arguments to see if the phased alleles are part of Denovo alleles.\n",
    "                usefull_index = checking_phased_alleles(Dregion, phased_alleles_info, Denovo_alleles)\n",
    "                \n",
    "                #\n",
    "                if usefull_index != None:\n",
    "                    informative_Dallele_info = Dregion[-3].split(';')[usefull_index].strip()\n",
    "                    informative_Snp_allele_info = Dregion[-5].split('-')[usefull_index].strip()\n",
    "                    Denovo_allele = Dregion[8]\n",
    "                    \n",
    "                    # Here we look into the phased Denovo_allele and to count the M or P contribution.\n",
    "                    temp = Denovo_allele_origin(informative_Dallele_info, informative_Snp_allele_info, Denovo_allele,Dregion)\n",
    "                    Maternal_Paternal_counts.append(temp)\n",
    "                    # print(temp)\n",
    "                \n",
    "                else: t.append(1)\n",
    "                \n",
    "                \n",
    "                            \n",
    "                    \n",
    "    Trio_phased_info = Counter(Maternal_Paternal_counts)\n",
    "    # if int(Trio_phased_info['P']) > int(Trio_phased_info['M']):\n",
    "    print(Trio_phased_info, len(t), i,j)\n",
    "        \n",
    "Phased_files1('TRIO0001_test.tsv')"
   ]
  },
  {
   "cell_type": "code",
   "execution_count": 120,
   "id": "014db026-e4c8-40ce-9265-32af6c2937e9",
   "metadata": {
    "tags": []
   },
   "outputs": [],
   "source": [
    "# itterating the files.\n",
    "\n",
    "# read_directory = '../../Analysis_KT/SNP_Denovo/SNPs_Intermediate_Files/SNPs_AssociatedDenovoSTR_lens/'\n",
    "\n",
    "# for file in tqdm(os.listdir(read_directory)):\n",
    "    \n",
    "#     # checking if the file has any info or not.\n",
    "#     if file.endswith('_Phased_mDNMs.tsv.gz') :\n",
    "#         Phased_files1(file)"
   ]
  }
 ],
 "metadata": {
  "kernelspec": {
   "display_name": "Python 3 (ipykernel)",
   "language": "python",
   "name": "python3"
  },
  "language_info": {
   "codemirror_mode": {
    "name": "ipython",
    "version": 3
   },
   "file_extension": ".py",
   "mimetype": "text/x-python",
   "name": "python",
   "nbconvert_exporter": "python",
   "pygments_lexer": "ipython3",
   "version": "3.9.18"
  }
 },
 "nbformat": 4,
 "nbformat_minor": 5
}
