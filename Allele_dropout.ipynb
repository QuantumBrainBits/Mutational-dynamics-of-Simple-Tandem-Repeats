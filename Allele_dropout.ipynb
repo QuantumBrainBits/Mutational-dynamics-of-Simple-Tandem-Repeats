{
 "cells": [
  {
   "cell_type": "code",
   "execution_count": 5,
   "id": "3f57ec19-6d86-4226-8668-1c597fcc5256",
   "metadata": {},
   "outputs": [],
   "source": [
    "from IPython.display import Image, display\n",
    "import re\n",
    "from tqdm import tqdm\n",
    "from ast import literal_eval\n",
    "import os\n",
    "import vcf\n",
    "import gzip\n",
    "from tqdm import tqdm\n",
    "from collections import Counter\n",
    "import pandas as pd\n",
    "import os\n",
    "import numpy as np\n",
    "import itertools\n",
    "import re\n",
    "import matplotlib.pyplot as plt\n",
    "import numpy as np\n",
    "from pysam import VariantFile\n",
    "import json\n",
    "import pysam\n",
    "import seaborn as sns\n",
    "import plotly.express as px \n",
    "from statistics import mean\n",
    "import statistics"
   ]
  },
  {
   "cell_type": "code",
   "execution_count": 2,
   "id": "3a410308-f9f5-4aac-a8e1-ffe24f9eab92",
   "metadata": {
    "jupyter": {
     "source_hidden": true
    },
    "tags": []
   },
   "outputs": [
    {
     "data": {
      "image/jpeg": "[encoded data removed]",
      "text/plain": [
       "<IPython.core.display.Image object>"
      ]
     },
     "metadata": {},
     "output_type": "display_data"
    }
   ],
   "source": [
    "display(Image(filename='../../Analysis_KT/Calls_stats/Call qualities stutter dp.jpg'))"
   ]
  },
  {
   "cell_type": "markdown",
   "id": "2bc3c30c-faeb-4178-8368-eb01873ed151",
   "metadata": {},
   "source": [
    "### Here we are taking the reference as STRaw file to check there is any regions with \"Allele drop out\" compared to parents.\n",
    "\n",
    "##### HipSTR :       Offspring - HG00405\n",
    "##### STRaw :        Maternal - HG00404,  Paternal - HG00403 \n"
   ]
  },
  {
   "cell_type": "code",
   "execution_count": 62,
   "id": "e1117745-e0a6-44c5-bc71-e270244c19eb",
   "metadata": {},
   "outputs": [
    {
     "name": "stderr",
     "output_type": "stream",
     "text": [
      "597it [00:00, 369266.99it/s]\n"
     ]
    }
   ],
   "source": [
    "Trio_files = {}\n",
    "\n",
    "with open('../1KG_Trio_Samples.tsv') as file_ids:\n",
    "    file_ids.readline()\n",
    "    \n",
    "    for file in tqdm(file_ids):\n",
    "        \n",
    "        file = file.strip().split('\\t')\n",
    "        Trio_files[file[0]] = file[3], file[4]\n"
   ]
  },
  {
   "cell_type": "code",
   "execution_count": 63,
   "id": "ac822386-8009-47e4-b32f-f2689a54f0dc",
   "metadata": {},
   "outputs": [],
   "source": [
    "# Maternal and Paternal STRaw genotypes are being returned.\n",
    "\n",
    "maternal_region_info = {}\n",
    "paternal_region_info = {}\n",
    "\n",
    "def parents_files(maternal_infile, paternal_infile):\n",
    "    \n",
    "    with gzip.open(f'../../data_pysam/STRaw_files/{maternal_infile}_straweCall.tsv.gz', 'rt') as maternal_regions, gzip.open(f'../../data_pysam/STRaw_files/{paternal_infile}_straweCall.tsv.gz', 'rt') as paternal_regions:\n",
    "            maternal_regions.readline()\n",
    "            paternal_regions.readline()\n",
    "            \n",
    "            # Maternal regions\n",
    "            for regions_info in tqdm(maternal_regions):\n",
    "                \n",
    "                regions_info = regions_info.strip().split('\\t')\n",
    "                \n",
    "                # ignoring the substitutions & same as refn.\n",
    "                if regions_info[-3].startswith('(ref') or regions_info[-3].startswith('(S'): continue\n",
    "                \n",
    "                #\n",
    "                m_region = f'{regions_info[0]}:{regions_info[1]}-{regions_info[2]}'\n",
    "                set_alleles_info = re.split(r\"[,:\\s]\\s*\", regions_info[-2])\n",
    "                \n",
    "                # set of alleles and supporting reads\n",
    "                set_alleles = set_alleles_info[0::2]\n",
    "                alleles_supporting_reads = set_alleles_info[1::2]\n",
    "                \n",
    "                # updating in the dictionary.\n",
    "                maternal_region_info[m_region] = set_alleles, alleles_supporting_reads, regions_info[-1]\n",
    "\n",
    "                \n",
    "            # Paternal regions\n",
    "            for regions_info in tqdm(paternal_regions):\n",
    "                \n",
    "                regions_info = regions_info.strip().split('\\t')\n",
    "                \n",
    "                # ignoring the substitutions & same as refn.\n",
    "                if regions_info[-3].startswith('(ref') or regions_info[-3].startswith('(S'): continue\n",
    "                \n",
    "                #\n",
    "                p_region = f'{regions_info[0]}:{regions_info[1]}-{regions_info[2]}'\n",
    "                set_alleles_info = re.split(r\"[,:\\s]\\s*\", regions_info[-2])\n",
    "                \n",
    "                # set of alleles and supporting reads\n",
    "                set_alleles = set_alleles_info[0::2]\n",
    "                alleles_supporting_reads = set_alleles_info[1::2]\n",
    "                \n",
    "                # updating in the dictionary.\n",
    "                paternal_region_info[p_region] = set_alleles, alleles_supporting_reads, regions_info[-1]\n",
    "\n",
    "            \n",
    "    return maternal_region_info, paternal_region_info\n",
    "    \n",
    "# parents_files('HG00403','HG00404')"
   ]
  },
  {
   "cell_type": "code",
   "execution_count": 146,
   "id": "1dd64f9b-8c57-44c5-831d-186767b03353",
   "metadata": {},
   "outputs": [],
   "source": [
    "#\n",
    "\n",
    "def offspring_file(file):\n",
    "    \n",
    "    Trio_id = file.split('_')[0]\n",
    "    \n",
    "    # Passing the parents files to get return the dictionary with { region:\n",
    "    maternal_file = Trio_files[Trio_id][0]\n",
    "    paternal_file = Trio_files[Trio_id][1]\n",
    "    # dictionary having maternal and paternal regions.    \n",
    "    Allele_drop_out_dicts = parents_files(maternal_file, paternal_file)\n",
    "    \n",
    "    # outfile\n",
    "    out = open('../../Analysis_KT/Calls_stats/Allele_DropOut.tsv', 'w')\n",
    "    \n",
    "    with gzip.open(f'../../Analysis_AV/denovo/{file}', 'rt') as denovo_regions:\n",
    "        denovo_regions.readline()\n",
    "        \n",
    "        for dregion_info in denovo_regions:\n",
    "            \n",
    "            dregion_info = dregion_info.strip().split('\\t')\n",
    "            if dregion_info[-1] != '-': continue\n",
    "            \n",
    "            # Offspring info\n",
    "            denovo_allele = dregion_info[-6]\n",
    "            offspring_alleles = dregion_info[-13]\n",
    "            offspring_region = f'{dregion_info[0]}:{dregion_info[1]}-{dregion_info[2]}'\n",
    "            repeat_len = int(dregion_info[2]) - int(dregion_info[1])\n",
    "            repeat_motif = dregion_info[3]\n",
    "            \n",
    "            # parent info\n",
    "            maternal_regions = Allele_drop_out_dicts[0]\n",
    "            paternal_regions = Allele_drop_out_dicts[1]\n",
    "            \n",
    "            # Maternal\n",
    "            if offspring_region in maternal_regions and denovo_allele in maternal_regions[offspring_region][0]:\n",
    "                \n",
    "                STRaw_totalm_reads = int(maternal_regions[offspring_region][-1])\n",
    "                m_alleles = maternal_regions[offspring_region][0]\n",
    "                m_read_counts = maternal_regions[offspring_region][1]\n",
    "                DropedAllele_supportingm_reads = m_read_counts[m_alleles.index(denovo_allele)]                \n",
    "                Allele_droped_out_m = f'{denovo_allele}:{round((int(DropedAllele_supportingm_reads)/int(STRaw_totalm_reads))*100)}:Maternal'\n",
    "                \n",
    "                print(offspring_region,offspring_alleles, Allele_droped_out_m,f'{DropedAllele_supportingm_reads}/{STRaw_totalm_reads}', file=out, sep='\\t')\n",
    "            \n",
    "            # Paternal            \n",
    "            if offspring_region in paternal_regions and denovo_allele in paternal_regions[offspring_region][0]:\n",
    "                \n",
    "                STRaw_totalp_reads = int(paternal_regions[offspring_region][-1])\n",
    "                p_alleles = paternal_regions[offspring_region][0]\n",
    "                p_read_counts = paternal_regions[offspring_region][1]                \n",
    "                DropedAllele_supportingp_reads = p_read_counts[p_alleles.index(denovo_allele)]                \n",
    "                Allele_droped_out_p = f'{denovo_allele}:{round((int(DropedAllele_supportingp_reads)/int(STRaw_totalp_reads))*100)}:Paternal'\n",
    "\n",
    "                \n",
    "                print(offspring_region,offspring_alleles, Allele_droped_out_p,f'{DropedAllele_supportingp_reads}/{STRaw_totalp_reads}', file=out, sep='\\t')\n"
   ]
  },
  {
   "cell_type": "code",
   "execution_count": 147,
   "id": "1f147820-d53a-4bde-bcf7-11e8f55e0944",
   "metadata": {
    "tags": []
   },
   "outputs": [
    {
     "name": "stderr",
     "output_type": "stream",
     "text": [
      "3646473it [00:04, 734233.21it/s]\n",
      "3656211it [00:05, 729080.08it/s]\n"
     ]
    }
   ],
   "source": [
    "#\n",
    "offspring_file('TRIO0001_denovo.tsv.gz')"
   ]
  },
  {
   "cell_type": "code",
   "execution_count": 145,
   "id": "17bb3c3a-5ad4-4571-a9bb-8af8c419cf47",
   "metadata": {
    "collapsed": true,
    "jupyter": {
     "outputs_hidden": true,
     "source_hidden": true
    },
    "tags": []
   },
   "outputs": [
    {
     "name": "stderr",
     "output_type": "stream",
     "text": [
      "49053it [00:00, 385062.62it/s]"
     ]
    },
    {
     "name": "stdout",
     "output_type": "stream",
     "text": [
      "6648 3635 10283 10283\n"
     ]
    },
    {
     "name": "stderr",
     "output_type": "stream",
     "text": [
      "\n"
     ]
    }
   ],
   "source": [
    "len_wise_not_denovo = 0\n",
    "len_wise_denovo = 0\n",
    "i = 0\n",
    "\n",
    "with gzip.open(f'../../Analysis_AV/denovo/TRIO0002_denovo.tsv.gz', 'rt') as denovo_regions:\n",
    "        denovo_regions.readline()\n",
    "        \n",
    "        for dregion_info in tqdm(denovo_regions):\n",
    "            \n",
    "            dregion_info = dregion_info.strip().split('\\t')\n",
    "            if dregion_info[-1] != '-': continue\n",
    "            i += 1\n",
    "            \n",
    "            #\n",
    "            list_alleles = dregion_info[8].split('|') + dregion_info[12].split('|')\n",
    "            \n",
    "            if dregion_info[-6] in list_alleles:  \n",
    "                len_wise_not_denovo += 1\n",
    "            \n",
    "            if dregion_info[-6] not in list_alleles:\n",
    "                len_wise_denovo += 1\n",
    "\n",
    "print(len_wise_denovo, len_wise_not_denovo, len_wise_denovo+len_wise_not_denovo, i)"
   ]
  },
  {
   "cell_type": "code",
   "execution_count": null,
   "id": "ac299074-6c18-4692-875c-3c9e1d227e86",
   "metadata": {},
   "outputs": [],
   "source": []
  }
 ],
 "metadata": {
  "kernelspec": {
   "display_name": "Python 3 (ipykernel)",
   "language": "python",
   "name": "python3"
  },
  "language_info": {
   "codemirror_mode": {
    "name": "ipython",
    "version": 3
   },
   "file_extension": ".py",
   "mimetype": "text/x-python",
   "name": "python",
   "nbconvert_exporter": "python",
   "pygments_lexer": "ipython3",
   "version": "3.9.7"
  }
 },
 "nbformat": 4,
 "nbformat_minor": 5
}
