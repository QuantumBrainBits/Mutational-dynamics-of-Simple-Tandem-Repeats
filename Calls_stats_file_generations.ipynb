{
 "cells": [
  {
   "cell_type": "code",
   "execution_count": 1,
   "id": "76c8aa23-ff56-428f-80e4-dc19d416f634",
   "metadata": {
    "collapsed": true,
    "jupyter": {
     "outputs_hidden": true
    },
    "tags": []
   },
   "outputs": [
    {
     "ename": "NameError",
     "evalue": "name 'argv' is not defined",
     "output_type": "error",
     "traceback": [
      "\u001b[0;31m---------------------------------------------------------------------------\u001b[0m",
      "\u001b[0;31mNameError\u001b[0m                                 Traceback (most recent call last)",
      "Cell \u001b[0;32mIn[1], line 9\u001b[0m\n\u001b[1;32m      5\u001b[0m \u001b[38;5;28;01mimport\u001b[39;00m \u001b[38;5;21;01mgzip\u001b[39;00m\n\u001b[1;32m      7\u001b[0m \u001b[38;5;66;03m# Here we create a dictionary which stores the trio ids, where while itterating the files we can fetch parent files.\u001b[39;00m\n\u001b[0;32m----> 9\u001b[0m file_itr \u001b[38;5;241m=\u001b[39m \u001b[43margv\u001b[49m[\u001b[38;5;241m1\u001b[39m]\n\u001b[1;32m     12\u001b[0m \u001b[38;5;66;03m# Here we are looking into the Denovo Genotype call qualities and the stutter_up and stutter_down values.\u001b[39;00m\n\u001b[1;32m     13\u001b[0m \n\u001b[1;32m     14\u001b[0m \u001b[38;5;66;03m# we itterate through the all filtered vcf files to fecth the Total call qualities and only SameAsrefn calls.\u001b[39;00m\n\u001b[1;32m     16\u001b[0m \u001b[38;5;28;01mdef\u001b[39;00m \u001b[38;5;21mfiltered_vcfs\u001b[39m(infile):\n",
      "\u001b[0;31mNameError\u001b[0m: name 'argv' is not defined"
     ]
    }
   ],
   "source": [
    "import os\n",
    "import sys\n",
    "import re\n",
    "from tqdm import tqdm\n",
    "import gzip\n",
    "\n",
    "# Here we create a dictionary which stores the trio ids, where while itterating the files we can fetch parent files.\n",
    "\n",
    "Trio_files = {}\n",
    "\n",
    "with open('../1KG_Trio_Samples.tsv') as file_ids:\n",
    "    file_ids.readline()\n",
    "    \n",
    "    for file in tqdm(file_ids):\n",
    "        \n",
    "        file = file.strip().split('\\t')\n",
    "        Trio_files[file[0]] = ''\n",
    "\n",
    "\n",
    "\n",
    "# file_itr = argv[1]\n",
    "        \n",
    "\n",
    "# Here we are looking into the Denovo Genotype call qualities and the stutter_up and stutter_down values.\n",
    "\n",
    "# we itterate through the all filtered vcf files to fecth the Total call qualities and only SameAsrefn calls.\n",
    "\n",
    "def filtered_vcfs(infile):\n",
    "\n",
    "    with gzip.open(f'../Analysis_AV/filtered_vcfs/{infile}_filtered.vcf.gz', 'rt') as filtered_offspring_file:\n",
    "\n",
    "        # out = open('../Analysis_KT/Calls_stats/Calls_Quality_Stutter_Dp_values.tsv', 'a')\n",
    "\n",
    "        for info in filtered_offspring_file:\n",
    "\n",
    "            info = info.strip().split('\\t')\n",
    "            if info[0].startswith('#'): continue\n",
    "\n",
    "            info_field = info[-1].split(':')\n",
    "            if info_field[-1].endswith('MISS') or info_field[-1].startswith('.') or info_field[-2] == 'PASS': continue\n",
    "            \n",
    "            \n",
    "            # indexs\n",
    "            info_field_names = info[-2].strip().split(':')\n",
    "            region = f'{info[0]}:{info[1]}-{info[2]}'\n",
    "            qual_index = info_field_names.index('Q')\n",
    "            stutter_index = info_field_names.index('DSTUTTER')\n",
    "            dp_index = info_field_names.index('DP')\n",
    "            \n",
    "            \n",
    "            # call qualities\n",
    "            call_qual = int(float(info_field[qual_index]) * 100)\n",
    "            # stutter normalised\n",
    "            stutter_normalised = int(int(info_field[stutter_index])/ int(info_field[dp_index])* 100)\n",
    "            # depth for each call.\n",
    "            call_dp = info_field[dp_index]\n",
    "\n",
    "            \n",
    "            #\n",
    "            print(region, call_qual, stutter_normalised, call_dp, file=out, sep='\\t')\n",
    "            \n",
    "        # out.close()\n",
    "        \n",
    "# file_itr = Trio_files[file_itr.split('_')[0]]  \n",
    "# filtered_vcfs(file_itr)\n",
    "\n",
    "filtered_vcfs('')"
   ]
  },
  {
   "cell_type": "markdown",
   "id": "8ac6d5f8-745f-45c6-97ba-a153dedbb6b1",
   "metadata": {},
   "source": [
    "# Denovo regions call qualities"
   ]
  },
  {
   "cell_type": "code",
   "execution_count": 21,
   "id": "a440f76a-28ec-415e-ac3d-38103459e391",
   "metadata": {},
   "outputs": [],
   "source": [
    "# mDNMs = [[],[],[]]"
   ]
  },
  {
   "cell_type": "code",
   "execution_count": 172,
   "id": "aaf35dd6-26f3-403f-ae64-55c7289c52b2",
   "metadata": {},
   "outputs": [
    {
     "name": "stderr",
     "output_type": "stream",
     "text": [
      "597it [00:00, 652423.00it/s]\n"
     ]
    }
   ],
   "source": [
    "Trio_files = {}\n",
    "\n",
    "with open('../1KG_Trio_Samples.tsv') as file_ids:\n",
    "    file_ids.readline()\n",
    "    \n",
    "    for file in tqdm(file_ids):\n",
    "        \n",
    "        file = file.strip().split('\\t')\n",
    "        Trio_files[file[0]] = file[2]\n"
   ]
  },
  {
   "cell_type": "code",
   "execution_count": 176,
   "id": "599567fb-029d-4d69-bca4-af169d551246",
   "metadata": {},
   "outputs": [],
   "source": [
    "current_sample_mDNMs = {}\n",
    "\n",
    "def list_mDNMs(infile):\n",
    "    \n",
    "    with gzip.open(f'../../Analysis_AV/denovo/{infile}_denovo.tsv.gz', 'rt') as fh:\n",
    "        fh.readline()\n",
    "\n",
    "        for line in fh:\n",
    "\n",
    "            line = line.strip().split('\\t')\n",
    "            if line[-1] != '-': continue\n",
    "            region = f'{line[0]}:{line[1]}-{line[2]}'\n",
    "            current_sample_mDNMs[region] = ''\n",
    "        print(len(current_sample_mDNMs))\n",
    "    \n",
    "    return current_sample_mDNMs"
   ]
  },
  {
   "cell_type": "code",
   "execution_count": 177,
   "id": "9912fe9d-135a-44cc-99a0-56447835bc1a",
   "metadata": {},
   "outputs": [
    {
     "name": "stdout",
     "output_type": "stream",
     "text": [
      "9929\n",
      "9902 9929\n"
     ]
    }
   ],
   "source": [
    "\n",
    "def denovo_file(infile):\n",
    "    \n",
    "    if infile.split('_')[0] in Trio_files:\n",
    "        \n",
    "        filter_vcf_file = Trio_files[infile.split('_')[0]]\n",
    "        i = 0\n",
    "        with gzip.open(f'../../Analysis_AV/filtered_vcfs/{filter_vcf_file}_filtered.vcf.gz', 'rt') as filtered_offspring_file:\n",
    "\n",
    "                # out = open('../../Analysis_KT/Calls_stats/Denovo_calls_info.tsv', 'a')\n",
    "\n",
    "                #\n",
    "                Denovo_regions = list_mDNMs(infile.split('_')[0])                \n",
    "\n",
    "                for info in filtered_offspring_file:\n",
    "\n",
    "                    info = info.strip().split('\\t')\n",
    "                    if info[0].startswith('#'): continue\n",
    "                    info_field = info[-1].split(':')\n",
    "                    \n",
    "                    #\n",
    "                    if info_field[-1].endswith('MISS') or info_field[-1].startswith('.') or info_field[-2] != 'PASS': continue\n",
    "                    \n",
    "                    corridinates = re.split(r\"[;=\\s]\\s*\",info[-3])[1::2]\n",
    "                    Start = corridinates[6]\n",
    "                    End = corridinates[7]\n",
    "                    region = f'{info[0]}:{Start}-{End}'\n",
    "                        \n",
    "                    #    \n",
    "                    if region in Denovo_regions:\n",
    "\n",
    "                        # indexs\n",
    "                        info_field_names = info[-2].strip().split(':')                        \n",
    "                        \n",
    "                        qual_index = info_field_names.index('Q')\n",
    "                        stutter_index = info_field_names.index('DSTUTTER')\n",
    "                        dp_index = info_field_names.index('DP')\n",
    "\n",
    "                        # checking we have failed or missing logic in code\n",
    "                        call_qual = info_field[qual_index]\n",
    "                        d = info_field[dp_index]\n",
    "                        s = info_field[stutter_index]\n",
    "                        \n",
    "                        # call qualities\n",
    "                        call_qual = int(float(info_field[qual_index]) * 100)\n",
    "                        # stutter normalised\n",
    "                        stutter_normalised = int(int(info_field[stutter_index])/ int(info_field[dp_index])* 100)\n",
    "                        # depth for each call.\n",
    "                        call_dp = info_field[dp_index]\n",
    "                            \n",
    "                        i += 1\n",
    "                print(i, len(Denovo_regions))\n",
    "                        # print(region, call_qual, stutter_normalised, call_dp, file=out, sep='\\t')\n",
    "\n",
    "                # out.close()         \n",
    "\n",
    "                    \n",
    "denovo_file('TRIO0001_denovo.tsv.gz')"
   ]
  },
  {
   "cell_type": "code",
   "execution_count": 171,
   "id": "d9fae876-8623-4631-8d8e-838bc3d09e1b",
   "metadata": {
    "tags": []
   },
   "outputs": [
    {
     "name": "stderr",
     "output_type": "stream",
     "text": [
      "599it [1:39:59, 10.02s/it]\n"
     ]
    }
   ],
   "source": [
    "# only sharing the denovo files.\n",
    "\n",
    "with gzip.open('../../Analysis_KT/Calls_stats/denovo_file_ids.tsv.gz', 'rt') as denovo_files:\n",
    "    \n",
    "    for file in tqdm(denovo_files):\n",
    "        \n",
    "        file = file.strip()\n",
    "        denovo_file(file)\n"
   ]
  },
  {
   "cell_type": "code",
   "execution_count": 188,
   "id": "f68fda75-539f-493e-9173-3c51d23f2006",
   "metadata": {},
   "outputs": [
    {
     "name": "stdout",
     "output_type": "stream",
     "text": [
      "['chr6', '14152048', 'TCC', 'TTCCTCCTCCTCCT', 'TTCCTCCTCTCCT', '.', '.', 'INFRAME_PGEOM=0.95;INFRAME_UP=0.05;INFRAME_DOWN=0.05;OUTFRAME_PGEOM=1;OUTFRAME_UP=0.05;OUTFRAME_DOWN=0.1;START=14152048;END=14152061;PERIOD=3;NSKIP=0;NFILT=0;BPDIFFS=-1;DP=17;DSNP=0;DSTUTTER=16;DFLANKINDEL=0;AN=2;REFAC=1;AC=1;LENGTH=13', 'GT:GB:Q:PQ:DP:DSNP:DSTUTTER:DFLANKINDEL:PDP:PSNP:GLDIFF:AB:DAB:FS:ALLREADS:MALLREADS:GL:PL:PHASEDGL:FILTER:GENOTYPE', '0|1:0|-1:1:0.5:17:0:16:0:15.93|1.07:0|0:4.38:-3.56:17:-0.63:-1|1;0|14:-4|1;-3|13:-85.04,-80.66,-196.17:43,0,999:-85.04,-80.66,-80.66,-196.17:PASS:12|13'] 100 94 17\n",
      "['chrX', '132839272', 'TA', 'GTATATATATATATATATATATATATATATATATATATATATATAC', 'GTATATATATATATATATATATATAT', '.', '.', 'INFRAME_PGEOM=0.91;INFRAME_UP=0.41;INFRAME_DOWN=0.34;OUTFRAME_PGEOM=0.95;OUTFRAME_UP=0.04;OUTFRAME_DOWN=0.04;START=132839272;END=132839316;PERIOD=2;NSKIP=0;NFILT=0;BPDIFFS=-20;DP=47;DSNP=0;DSTUTTER=44;DFLANKINDEL=0;AN=2;REFAC=0;AC=2;LENGTH=44', 'GT:GB:Q:PQ:DP:DSNP:DSTUTTER:DFLANKINDEL:PDP:PSNP:GLDIFF:AB:DAB:FS:ALLREADS:MALLREADS:GL:PL:PHASEDGL:FILTER:GENOTYPE', '1|1:-20|-20:1:1:47:0:44:0:23.50|23.50:0|0:11.85:0:.:0:-22|12;-20|3;-18|14;-16|1;0|2:-22|16;-20|3;-18|13;-16|1:-655.97,-164.5,-152.64:999,118,0:-655.97,-164.5,-164.5,-152.64:PASS:24|24'] 100 93 47\n"
     ]
    }
   ],
   "source": [
    "# test\n",
    "\n",
    "\n",
    "with gzip.open(f'../../Analysis_AV/filtered_vcfs/HG00405_filtered.vcf.gz', 'rt') as filtered_offspring_file:\n",
    "\n",
    "\n",
    "                for info in filtered_offspring_file:\n",
    "\n",
    "                    info = info.strip().split('\\t')\n",
    "                    if info[0].startswith('#'): continue\n",
    "                    info_field = info[-1].split(':')\n",
    "                    \n",
    "                    #\n",
    "                    if info_field[-1].endswith('MISS') or info_field[-1].startswith('.') or info_field[-2] != 'PASS': continue\n",
    "                    \n",
    "                    corridinates = re.split(r\"[;=\\s]\\s*\",info[-3])[1::2]\n",
    "                    Start = corridinates[6]\n",
    "                    End = corridinates[7]\n",
    "                    region = f'{info[0]}:{Start}-{End}'\n",
    "                        \n",
    "                    info_field_names = info[-2].strip().split(':')                        \n",
    "\n",
    "                    qual_index = info_field_names.index('Q')\n",
    "                    stutter_index = info_field_names.index('DSTUTTER')\n",
    "                    dp_index = info_field_names.index('DP')\n",
    "\n",
    "                    # call qualities\n",
    "                    call_qual = int(float(info_field[qual_index]) * 100)\n",
    "                    # stutter normalised\n",
    "                    stutter_normalised = int(int(info_field[stutter_index])/ int(info_field[dp_index])* 100)\n",
    "                    # depth for each call.\n",
    "                    call_dp = info_field[dp_index]\n",
    "                    \n",
    "                    #checking if stutter > 90%\n",
    "                    if stutter_normalised > 90:\n",
    "                        print(info,call_qual, stutter_normalised, call_dp)\n",
    "                        \n",
    "                        \n"
   ]
  },
  {
   "cell_type": "code",
   "execution_count": null,
   "id": "018b2866-507c-4c95-8f47-eb4b772edbd8",
   "metadata": {},
   "outputs": [],
   "source": []
  }
 ],
 "metadata": {
  "kernelspec": {
   "display_name": "Python 3 (ipykernel)",
   "language": "python",
   "name": "python3"
  },
  "language_info": {
   "codemirror_mode": {
    "name": "ipython",
    "version": 3
   },
   "file_extension": ".py",
   "mimetype": "text/x-python",
   "name": "python",
   "nbconvert_exporter": "python",
   "pygments_lexer": "ipython3",
   "version": "3.9.18"
  }
 },
 "nbformat": 4,
 "nbformat_minor": 5
}
