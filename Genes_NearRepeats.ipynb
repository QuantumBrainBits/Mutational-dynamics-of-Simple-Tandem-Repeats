{
 "cells": [
  {
   "cell_type": "code",
   "execution_count": 2,
   "id": "ff69b3ab-e4cb-40f9-b092-1b84c023aed4",
   "metadata": {},
   "outputs": [],
   "source": [
    "import gzip\n",
    "from tqdm import tqdm\n",
    "from collections import Counter\n",
    "import pandas as pd"
   ]
  },
  {
   "cell_type": "code",
   "execution_count": 12,
   "id": "994d8ac9-ecde-49fa-8521-e0ebae510478",
   "metadata": {},
   "outputs": [],
   "source": [
    "# few genes from the Hippocampus.\n",
    "\n",
    "df = pd.read_csv('../Analysis_KT/Tissue_specific_analysis/mart_export.txt', sep='\\t')\n"
   ]
  },
  {
   "cell_type": "code",
   "execution_count": 44,
   "id": "9b4145d0-5c72-4cfa-a0d6-0a2c6c5b7193",
   "metadata": {},
   "outputs": [
    {
     "data": {
      "text/html": [
       "<div>\n",
       "<style scoped>\n",
       "    .dataframe tbody tr th:only-of-type {\n",
       "        vertical-align: middle;\n",
       "    }\n",
       "\n",
       "    .dataframe tbody tr th {\n",
       "        vertical-align: top;\n",
       "    }\n",
       "\n",
       "    .dataframe thead th {\n",
       "        text-align: right;\n",
       "    }\n",
       "</style>\n",
       "<table border=\"1\" class=\"dataframe\">\n",
       "  <thead>\n",
       "    <tr style=\"text-align: right;\">\n",
       "      <th></th>\n",
       "      <th>Gene stable ID</th>\n",
       "      <th>Gene stable ID version</th>\n",
       "      <th>Transcript stable ID</th>\n",
       "      <th>Transcript stable ID version</th>\n",
       "    </tr>\n",
       "  </thead>\n",
       "  <tbody>\n",
       "    <tr>\n",
       "      <th>0</th>\n",
       "      <td>ENSG00000009780</td>\n",
       "      <td>ENSG00000009780.16</td>\n",
       "      <td>ENST00000010299</td>\n",
       "      <td>ENST00000010299.10</td>\n",
       "    </tr>\n",
       "    <tr>\n",
       "      <th>1</th>\n",
       "      <td>ENSG00000048707</td>\n",
       "      <td>ENSG00000048707.15</td>\n",
       "      <td>ENST00000011700</td>\n",
       "      <td>ENST00000011700.10</td>\n",
       "    </tr>\n",
       "    <tr>\n",
       "      <th>2</th>\n",
       "      <td>ENSG00000049245</td>\n",
       "      <td>ENSG00000049245.13</td>\n",
       "      <td>ENST00000054666</td>\n",
       "      <td>ENST00000054666.11</td>\n",
       "    </tr>\n",
       "    <tr>\n",
       "      <th>3</th>\n",
       "      <td>ENSG00000069424</td>\n",
       "      <td>ENSG00000069424.16</td>\n",
       "      <td>ENST00000164247</td>\n",
       "      <td>ENST00000164247.5</td>\n",
       "    </tr>\n",
       "    <tr>\n",
       "      <th>4</th>\n",
       "      <td>ENSG00000070886</td>\n",
       "      <td>ENSG00000070886.12</td>\n",
       "      <td>ENST00000166244</td>\n",
       "      <td>ENST00000166244.8</td>\n",
       "    </tr>\n",
       "  </tbody>\n",
       "</table>\n",
       "</div>"
      ],
      "text/plain": [
       "    Gene stable ID Gene stable ID version Transcript stable ID  \\\n",
       "0  ENSG00000009780     ENSG00000009780.16      ENST00000010299   \n",
       "1  ENSG00000048707     ENSG00000048707.15      ENST00000011700   \n",
       "2  ENSG00000049245     ENSG00000049245.13      ENST00000054666   \n",
       "3  ENSG00000069424     ENSG00000069424.16      ENST00000164247   \n",
       "4  ENSG00000070886     ENSG00000070886.12      ENST00000166244   \n",
       "\n",
       "  Transcript stable ID version  \n",
       "0           ENST00000010299.10  \n",
       "1           ENST00000011700.10  \n",
       "2           ENST00000054666.11  \n",
       "3            ENST00000164247.5  \n",
       "4            ENST00000166244.8  "
      ]
     },
     "execution_count": 44,
     "metadata": {},
     "output_type": "execute_result"
    }
   ],
   "source": [
    "df.head()"
   ]
  },
  {
   "cell_type": "code",
   "execution_count": 16,
   "id": "a7b8bdb1-cd0d-4865-8291-7dc25679b453",
   "metadata": {},
   "outputs": [],
   "source": [
    "# Counter of list of gene ids.\n",
    "\n",
    "Gene_ids = Counter(df['Gene stable ID version'])"
   ]
  },
  {
   "cell_type": "code",
   "execution_count": 8,
   "id": "ac815d58-399f-42b6-a412-1cd1f7ac6de7",
   "metadata": {},
   "outputs": [
    {
     "name": "stderr",
     "output_type": "stream",
     "text": [
      "529782it [00:00, 1098070.11it/s]\n"
     ]
    }
   ],
   "source": [
    "# 1 - variable regions, 2 - non-variable regions.\n",
    "\n",
    "# As there are many transcript ids for one region, we can take the closest repeat seq region.\n",
    "\n",
    "STR_transcript_distance = []\n",
    "transcript_ids = {}\n",
    "\n",
    "out = open('../Analysis_KT/Tissue_specific_analysis/Variable_transcript_ids.tsv', 'w')\n",
    "\n",
    "with open('hg38_2-9mer_varloci_anno.tsv') as variable:\n",
    "    variable.readline()\n",
    "    for line in tqdm(variable):\n",
    "        \n",
    "        line = line.strip().split('\\t')\n",
    "        if line[-2] not in transcript_ids:\n",
    "            STR_transcript_distance.append(line[-1])\n",
    "            print(line[-2], file = out)\n",
    "        transcript_ids[line[-2]] = ''\n",
    "\n",
    "out.close()\n",
    "    "
   ]
  },
  {
   "cell_type": "code",
   "execution_count": 43,
   "id": "b3c16bd6-3a9c-48ee-b405-bc0d73ce9ee1",
   "metadata": {},
   "outputs": [
    {
     "name": "stderr",
     "output_type": "stream",
     "text": [
      "56201it [00:00, 134679.16it/s]\n"
     ]
    }
   ],
   "source": [
    "# 1 - variable regions, 2 - non-variable regions.\n",
    "\n",
    "# As there are many transcript ids for one region, we can take the closest repeat seq region.\n",
    "\n",
    "out = open('../Analysis_KT/Tissue_specific_analysis/Hippocampus_gene_counts.tsv', 'w')\n",
    "\n",
    "with gzip.open('../Analysis_KT/Tissue_specific_analysis/gene_reads_2017-06-05_v8_brain_hippocampus.gct.gz', 'rt') as fh:\n",
    "    fh.readlines(5)\n",
    "    \n",
    "    for line in tqdm(fh):\n",
    "        \n",
    "        line = line.strip().split('\\t')\n",
    "        if line[1].startswith('ENSG') and line[1] in Gene_ids:\n",
    "            print(line[1], *line[3:], file = out, sep = '\\t')\n",
    "\n",
    "out.close()\n",
    "    "
   ]
  },
  {
   "cell_type": "code",
   "execution_count": null,
   "id": "91cf52fb-6ce2-4ef5-8b55-f02392d2f666",
   "metadata": {},
   "outputs": [],
   "source": []
  }
 ],
 "metadata": {
  "kernelspec": {
   "display_name": "Python 3 (ipykernel)",
   "language": "python",
   "name": "python3"
  },
  "language_info": {
   "codemirror_mode": {
    "name": "ipython",
    "version": 3
   },
   "file_extension": ".py",
   "mimetype": "text/x-python",
   "name": "python",
   "nbconvert_exporter": "python",
   "pygments_lexer": "ipython3",
   "version": "3.9.7"
  }
 },
 "nbformat": 4,
 "nbformat_minor": 5
}
