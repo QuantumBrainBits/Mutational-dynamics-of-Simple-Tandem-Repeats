{
 "cells": [
  {
   "cell_type": "code",
   "execution_count": 468,
   "id": "6321710f-52ce-400e-9e12-7475afd65cae",
   "metadata": {},
   "outputs": [],
   "source": [
    "#\n",
    "\n",
    "import re\n",
    "from tqdm import tqdm\n",
    "from ast import literal_eval\n",
    "import os\n",
    "import vcf\n",
    "import gzip\n",
    "from tqdm import tqdm\n",
    "from collections import Counter\n",
    "import pandas as pd\n",
    "import os\n",
    "import numpy as np\n",
    "import itertools\n",
    "import re\n",
    "import matplotlib.pyplot as plt\n",
    "import numpy as np\n",
    "from pysam import VariantFile\n",
    "import json\n",
    "import pysam\n",
    "import seaborn as sns\n",
    "import plotly.express as px \n",
    "from statistics import mean\n",
    "import statistics"
   ]
  },
  {
   "cell_type": "code",
   "execution_count": 136,
   "id": "3801f22e-b2f8-44da-882b-2f5029470ced",
   "metadata": {},
   "outputs": [],
   "source": [
    "# Segrigating the call quality values in percentages wise.\n",
    "\n",
    "# All offspring samples: >= 90%, 0-10, 10-20, 20-30, ...90-100\n",
    "\n",
    "# Only denovo alleles : >= 90%, 0-10, 10-20, 20-30, ...90-100"
   ]
  },
  {
   "cell_type": "code",
   "execution_count": 150,
   "id": "805fda61-7759-4c58-8eb0-1f6e1e409057",
   "metadata": {
    "tags": []
   },
   "outputs": [
    {
     "name": "stderr",
     "output_type": "stream",
     "text": [
      "597it [00:00, 543756.67it/s]\n"
     ]
    }
   ],
   "source": [
    "# Here we create a dictionary which stores the trio ids, where while itterating the files we can fetch parent files.\n",
    "\n",
    "Trio_files = {}\n",
    "\n",
    "with open('../1KG_Trio_Samples.tsv') as file_ids:\n",
    "    file_ids.readline()\n",
    "    \n",
    "    for file in tqdm(file_ids):\n",
    "        \n",
    "        file = file.strip().split('\\t')\n",
    "        Trio_files[file[2]] = ''\n"
   ]
  },
  {
   "cell_type": "markdown",
   "id": "c79910ff-e471-4faf-8447-4dc894b54226",
   "metadata": {},
   "source": [
    "# All offspring samples: >= 90%, 0-10, 10-20, 20-30, ...90-100"
   ]
  },
  {
   "cell_type": "code",
   "execution_count": 176,
   "id": "75a30d58-c19a-4a2c-bcbc-31cb711cdcbc",
   "metadata": {
    "tags": []
   },
   "outputs": [],
   "source": [
    "# # Here we are looking into the Denovo Genotype call qualities and the stutter_up and stutter_down values.\n",
    "\n",
    "# # we itterate through the all filtered vcf files to fecth the Total call qualities and only SameAsrefn calls.\n",
    "\n",
    "# def filtered_vcfs(infile):\n",
    "\n",
    "#     with gzip.open(f'../filtered_vcfs/{infile}', 'rt') as filtered_offspring_file:\n",
    "\n",
    "#         out = open('../../Analysis_KT/Calls_stats/Calls_Quality_Stutter_values.tsv', 'a')\n",
    "\n",
    "#         for info in filtered_offspring_file:\n",
    "\n",
    "#             info = info.strip().split('\\t')\n",
    "#             if info[0].startswith('#'): continue\n",
    "\n",
    "#             info_field = info[-1].split(':')\n",
    "#             if info_field[-1].endswith('MISS') or info_field[-2] != 'PASS': continue\n",
    "            \n",
    "#             # indexs\n",
    "#             info_field_names = info[-2].split(':')\n",
    "#             qual_index = info_field_names.index('Q')\n",
    "#             stutter_index = info_field_names.index('DSTUTTER')\n",
    "#             dp_index = info_field_names.index('DP')\n",
    "\n",
    "# #             # call qualities\n",
    "# #             call_qual = float(info_field[qual_index]) * 100\n",
    "# #             if call_qual not in Call_qualities:\n",
    "# #                 Call_qualities[call_qual] = 1\n",
    "# #             else:Call_qualities[call_qual] += 1\n",
    "            \n",
    "# #             # stutter normalised\n",
    "# #             stutter_normalised = int(int(info_field[stutter_index])/ int(info_field[dp_index])* 100) # index\n",
    "# #             if stutter_normalised not in Call_stutter:\n",
    "# #                 Call_stutter[stutter_normalised] = 1\n",
    "# #             else: Call_stutter[stutter_normalised] += 1\n",
    "            \n",
    "# #             # depth for each call.\n",
    "# #             if int(info_field[dp_index]) not in Call_dp: # index\n",
    "# #                 Call_dp[int(info_field[dp_index])]  = 1\n",
    "# #             else: Call_dp[int(info_field[dp_index])]  += 1\n",
    "            \n",
    "    \n",
    "# # filtered_vcfs('HG00405_filtered.vcf.gz')"
   ]
  },
  {
   "cell_type": "code",
   "execution_count": 177,
   "id": "ce769f55-955e-46ed-9343-58909530282b",
   "metadata": {
    "tags": []
   },
   "outputs": [],
   "source": [
    "# itterating the files.\n",
    "\n",
    "# read_directory = '../filtered_vcfs/'\n",
    "\n",
    "# for file in tqdm(os.listdir(read_directory)):\n",
    "    \n",
    "#     # considereing only offspring files.\n",
    "#     file_id = file.split('_')[0]\n",
    "\n",
    "#     if file.endswith('_filtered.vcf.gz'):\n",
    "#         if file_id in Trio_files: \n",
    "#             print(file)\n"
   ]
  },
  {
   "cell_type": "code",
   "execution_count": 182,
   "id": "801a01ba-5374-468c-bbee-6913ed6b4606",
   "metadata": {
    "tags": []
   },
   "outputs": [],
   "source": [
    "#\n",
    "Call_qualities = {}\n",
    "Call_stutter = {}\n",
    "\n",
    "def infile(file):\n",
    "\n",
    "    with gzip.open(f'../../Analysis_KT/Calls_stats/Samples_call_info/{file}', 'rt') as fh:\n",
    "\n",
    "        for line in fh:\n",
    "\n",
    "            line = line.strip().split('\\t')\n",
    "\n",
    "            # call qualities\n",
    "            call_qual = line[1]\n",
    "            if call_qual not in Call_qualities:\n",
    "                Call_qualities[call_qual] = 1\n",
    "            else:Call_qualities[call_qual] += 1\n",
    "\n",
    "            # stutter normalised\n",
    "            stutter_normalised =  line[2]\n",
    "            if stutter_normalised not in Call_stutter:\n",
    "                Call_stutter[stutter_normalised] = 1\n",
    "            else: Call_stutter[stutter_normalised] += 1\n",
    "\n"
   ]
  },
  {
   "cell_type": "code",
   "execution_count": 183,
   "id": "6d679cd9-8ee3-4329-9605-8d06a47fafa7",
   "metadata": {},
   "outputs": [
    {
     "name": "stderr",
     "output_type": "stream",
     "text": [
      "100%|██████████████████████████████████████████████████████████████████████████████████████████████████████████████████████████████████████████████████████████████████████| 597/597 [04:29<00:00,  2.22it/s]\n"
     ]
    }
   ],
   "source": [
    "# itterating the files.\n",
    "\n",
    "read_directory = '../../Analysis_KT/Calls_stats/Samples_call_info/'\n",
    "\n",
    "for file in tqdm(os.listdir(read_directory)):\n",
    "    \n",
    "    if file.endswith('Quality_Situtter_Dp_values.tsv.gz'):\n",
    "        infile(file)\n",
    "            \n"
   ]
  },
  {
   "cell_type": "code",
   "execution_count": 316,
   "id": "edd4293d-0b42-419c-b07a-05b679cdda71",
   "metadata": {
    "tags": []
   },
   "outputs": [],
   "source": [
    "Call_qualities_copy = Call_qualities.copy()\n",
    "Call_stutter_copy = Call_stutter.copy()"
   ]
  },
  {
   "cell_type": "code",
   "execution_count": 436,
   "id": "18c29ea6-2d6f-49fc-b753-866007b30097",
   "metadata": {
    "tags": []
   },
   "outputs": [],
   "source": [
    "#\n",
    "\n",
    "Call_qualities_copy1 = sorted(Call_qualities_copy.items(), key=lambda kv:(kv[1], kv[0]))\n",
    "x_y = list(sum(Call_qualities_copy1, ()))\n",
    "\n",
    "#\n",
    "df = pd.DataFrame({'Percentage':x_y[::2],'Number_location_with%':x_y[1::2]})\n",
    "df = df.astype(int)\n",
    "\n",
    "df = df.sort_values(by=['Percentage'], ascending=True)"
   ]
  },
  {
   "cell_type": "code",
   "execution_count": 437,
   "id": "7e66e6d2-3eba-4d12-be4e-ce1f967ffc62",
   "metadata": {},
   "outputs": [],
   "source": [
    "#\n",
    "x = Call_stutter_copy.keys()\n",
    "y = Call_stutter_copy.values()\n",
    "\n",
    "#\n",
    "df1 = pd.DataFrame({'Percentage':x,'Number_location_with%':y})\n",
    "df1 = df1.astype(int)\n",
    "df1 = df1.sort_values(by=['Percentage'], ascending=True)\n",
    "df1['Percentage'] = df1['Percentage'].astype(str)\n",
    "\n"
   ]
  },
  {
   "cell_type": "code",
   "execution_count": 352,
   "id": "ff61db78-88fe-46dc-bc40-cc20984c2a93",
   "metadata": {
    "collapsed": true,
    "jupyter": {
     "outputs_hidden": true
    },
    "tags": []
   },
   "outputs": [
    {
     "data": {
      "application/vnd.plotly.v1+json": {
       "config": {
        "plotlyServerURL": "https://plot.ly"
       },
       "data": [
        {
         "branchvalues": "total",
         "domain": {
          "x": [
           0,
           1
          ],
          "y": [
           0,
           1
          ]
         },
         "hovertemplate": "labels=%{label}<br>Percentage=%{value}<br>parent=%{parent}<br>id=%{id}<extra></extra>",
         "ids": [
          "265091840/0",
          "5273876/1",
          "1332062/10",
          "67/100",
          "908811/11",
          "754685/12",
          "681538/13",
          "568973/14",
          "623073/15",
          "625530/16",
          "736439/17",
          "653455/18",
          "503904/19",
          "46443840/2",
          "856063/20",
          "690942/21",
          "593462/22",
          "570304/23",
          "377188/24",
          "645144/25",
          "407398/26",
          "369043/27",
          "327557/28",
          "233849/29",
          "16373669/3",
          "253156/30",
          "178384/31",
          "141789/32",
          "120448/33",
          "106150/34",
          "82078/35",
          "62597/36",
          "48800/37",
          "36797/38",
          "21819/39",
          "11685762/4",
          "29996/40",
          "19044/41",
          "14938/42",
          "10154/43",
          "9113/44",
          "8336/45",
          "6138/46",
          "5125/47",
          "5098/48",
          "705/49",
          "9768215/5",
          "5483/50",
          "2969/51",
          "2641/52",
          "2046/53",
          "1728/54",
          "1772/55",
          "1535/56",
          "1499/57",
          "1368/58",
          "893/59",
          "5994533/6",
          "1585/60",
          "1215/61",
          "1229/62",
          "975/63",
          "1125/64",
          "1315/65",
          "1186/66",
          "903/67",
          "1207/68",
          "965/69",
          "3420501/7",
          "1320/70",
          "1050/71",
          "1219/72",
          "1069/73",
          "787/74",
          "1423/75",
          "1136/76",
          "918/77",
          "1043/78",
          "658/79",
          "2512304/8",
          "1150/80",
          "816/81",
          "798/82",
          "640/83",
          "695/84",
          "579/85",
          "615/86",
          "441/87",
          "471/88",
          "297/89",
          "1528190/9",
          "397/90",
          "263/91",
          "277/92",
          "249/93",
          "206/94",
          "176/95",
          "168/96",
          "156/97",
          "24/98",
          "2/99",
          "2",
          "24",
          "67",
          "156",
          "168",
          "176",
          "206",
          "249",
          "263",
          "277",
          "297",
          "397",
          "441",
          "471",
          "579",
          "615",
          "640",
          "658",
          "695",
          "705",
          "787",
          "798",
          "816",
          "893",
          "903",
          "918",
          "965",
          "975",
          "1043",
          "1050",
          "1069",
          "1125",
          "1136",
          "1150",
          "1186",
          "1207",
          "1215",
          "1219",
          "1229",
          "1315",
          "1320",
          "1368",
          "1423",
          "1499",
          "1535",
          "1585",
          "1728",
          "1772",
          "2046",
          "2641",
          "2969",
          "5098",
          "5125",
          "5483",
          "6138",
          "8336",
          "9113",
          "10154",
          "14938",
          "19044",
          "21819",
          "29996",
          "36797",
          "48800",
          "62597",
          "82078",
          "106150",
          "120448",
          "141789",
          "178384",
          "233849",
          "253156",
          "327557",
          "369043",
          "377188",
          "407398",
          "503904",
          "568973",
          "570304",
          "593462",
          "623073",
          "625530",
          "645144",
          "653455",
          "681538",
          "690942",
          "736439",
          "754685",
          "856063",
          "908811",
          "1332062",
          "1528190",
          "2512304",
          "3420501",
          "5273876",
          "5994533",
          "9768215",
          "11685762",
          "16373669",
          "46443840",
          "265091840"
         ],
         "labels": [
          "0",
          "1",
          "10",
          "100",
          "11",
          "12",
          "13",
          "14",
          "15",
          "16",
          "17",
          "18",
          "19",
          "2",
          "20",
          "21",
          "22",
          "23",
          "24",
          "25",
          "26",
          "27",
          "28",
          "29",
          "3",
          "30",
          "31",
          "32",
          "33",
          "34",
          "35",
          "36",
          "37",
          "38",
          "39",
          "4",
          "40",
          "41",
          "42",
          "43",
          "44",
          "45",
          "46",
          "47",
          "48",
          "49",
          "5",
          "50",
          "51",
          "52",
          "53",
          "54",
          "55",
          "56",
          "57",
          "58",
          "59",
          "6",
          "60",
          "61",
          "62",
          "63",
          "64",
          "65",
          "66",
          "67",
          "68",
          "69",
          "7",
          "70",
          "71",
          "72",
          "73",
          "74",
          "75",
          "76",
          "77",
          "78",
          "79",
          "8",
          "80",
          "81",
          "82",
          "83",
          "84",
          "85",
          "86",
          "87",
          "88",
          "89",
          "9",
          "90",
          "91",
          "92",
          "93",
          "94",
          "95",
          "96",
          "97",
          "98",
          "99",
          "2",
          "24",
          "67",
          "156",
          "168",
          "176",
          "206",
          "249",
          "263",
          "277",
          "297",
          "397",
          "441",
          "471",
          "579",
          "615",
          "640",
          "658",
          "695",
          "705",
          "787",
          "798",
          "816",
          "893",
          "903",
          "918",
          "965",
          "975",
          "1043",
          "1050",
          "1069",
          "1125",
          "1136",
          "1150",
          "1186",
          "1207",
          "1215",
          "1219",
          "1229",
          "1315",
          "1320",
          "1368",
          "1423",
          "1499",
          "1535",
          "1585",
          "1728",
          "1772",
          "2046",
          "2641",
          "2969",
          "5098",
          "5125",
          "5483",
          "6138",
          "8336",
          "9113",
          "10154",
          "14938",
          "19044",
          "21819",
          "29996",
          "36797",
          "48800",
          "62597",
          "82078",
          "106150",
          "120448",
          "141789",
          "178384",
          "233849",
          "253156",
          "327557",
          "369043",
          "377188",
          "407398",
          "503904",
          "568973",
          "570304",
          "593462",
          "623073",
          "625530",
          "645144",
          "653455",
          "681538",
          "690942",
          "736439",
          "754685",
          "856063",
          "908811",
          "1332062",
          "1528190",
          "2512304",
          "3420501",
          "5273876",
          "5994533",
          "9768215",
          "11685762",
          "16373669",
          "46443840",
          "265091840"
         ],
         "name": "",
         "parents": [
          "265091840",
          "5273876",
          "1332062",
          "67",
          "908811",
          "754685",
          "681538",
          "568973",
          "623073",
          "625530",
          "736439",
          "653455",
          "503904",
          "46443840",
          "856063",
          "690942",
          "593462",
          "570304",
          "377188",
          "645144",
          "407398",
          "369043",
          "327557",
          "233849",
          "16373669",
          "253156",
          "178384",
          "141789",
          "120448",
          "106150",
          "82078",
          "62597",
          "48800",
          "36797",
          "21819",
          "11685762",
          "29996",
          "19044",
          "14938",
          "10154",
          "9113",
          "8336",
          "6138",
          "5125",
          "5098",
          "705",
          "9768215",
          "5483",
          "2969",
          "2641",
          "2046",
          "1728",
          "1772",
          "1535",
          "1499",
          "1368",
          "893",
          "5994533",
          "1585",
          "1215",
          "1229",
          "975",
          "1125",
          "1315",
          "1186",
          "903",
          "1207",
          "965",
          "3420501",
          "1320",
          "1050",
          "1219",
          "1069",
          "787",
          "1423",
          "1136",
          "918",
          "1043",
          "658",
          "2512304",
          "1150",
          "816",
          "798",
          "640",
          "695",
          "579",
          "615",
          "441",
          "471",
          "297",
          "1528190",
          "397",
          "263",
          "277",
          "249",
          "206",
          "176",
          "168",
          "156",
          "24",
          "2",
          "",
          "",
          "",
          "",
          "",
          "",
          "",
          "",
          "",
          "",
          "",
          "",
          "",
          "",
          "",
          "",
          "",
          "",
          "",
          "",
          "",
          "",
          "",
          "",
          "",
          "",
          "",
          "",
          "",
          "",
          "",
          "",
          "",
          "",
          "",
          "",
          "",
          "",
          "",
          "",
          "",
          "",
          "",
          "",
          "",
          "",
          "",
          "",
          "",
          "",
          "",
          "",
          "",
          "",
          "",
          "",
          "",
          "",
          "",
          "",
          "",
          "",
          "",
          "",
          "",
          "",
          "",
          "",
          "",
          "",
          "",
          "",
          "",
          "",
          "",
          "",
          "",
          "",
          "",
          "",
          "",
          "",
          "",
          "",
          "",
          "",
          "",
          "",
          "",
          "",
          "",
          "",
          "",
          "",
          "",
          "",
          "",
          "",
          "",
          "",
          ""
         ],
         "type": "treemap",
         "values": [
          0,
          1,
          10,
          100,
          11,
          12,
          13,
          14,
          15,
          16,
          17,
          18,
          19,
          2,
          20,
          21,
          22,
          23,
          24,
          25,
          26,
          27,
          28,
          29,
          3,
          30,
          31,
          32,
          33,
          34,
          35,
          36,
          37,
          38,
          39,
          4,
          40,
          41,
          42,
          43,
          44,
          45,
          46,
          47,
          48,
          49,
          5,
          50,
          51,
          52,
          53,
          54,
          55,
          56,
          57,
          58,
          59,
          6,
          60,
          61,
          62,
          63,
          64,
          65,
          66,
          67,
          68,
          69,
          7,
          70,
          71,
          72,
          73,
          74,
          75,
          76,
          77,
          78,
          79,
          8,
          80,
          81,
          82,
          83,
          84,
          85,
          86,
          87,
          88,
          89,
          9,
          90,
          91,
          92,
          93,
          94,
          95,
          96,
          97,
          98,
          99,
          99,
          98,
          100,
          97,
          96,
          95,
          94,
          93,
          91,
          92,
          89,
          90,
          87,
          88,
          85,
          86,
          83,
          79,
          84,
          49,
          74,
          82,
          81,
          59,
          67,
          77,
          69,
          63,
          78,
          71,
          73,
          64,
          76,
          80,
          66,
          68,
          61,
          72,
          62,
          65,
          70,
          58,
          75,
          57,
          56,
          60,
          54,
          55,
          53,
          52,
          51,
          48,
          47,
          50,
          46,
          45,
          44,
          43,
          42,
          41,
          39,
          40,
          38,
          37,
          36,
          35,
          34,
          33,
          32,
          31,
          29,
          30,
          28,
          27,
          24,
          26,
          19,
          14,
          23,
          22,
          15,
          16,
          25,
          18,
          13,
          21,
          17,
          12,
          20,
          11,
          10,
          9,
          8,
          7,
          1,
          6,
          5,
          4,
          3,
          2,
          0
         ]
        }
       ],
       "layout": {
        "autosize": true,
        "legend": {
         "tracegroupgap": 0
        },
        "margin": {
         "r": 200,
         "t": 60
        },
        "template": {
         "data": {
          "bar": [
           {
            "error_x": {
             "color": "#2a3f5f"
            },
            "error_y": {
             "color": "#2a3f5f"
            },
            "marker": {
             "line": {
              "color": "#E5ECF6",
              "width": 0.5
             },
             "pattern": {
              "fillmode": "overlay",
              "size": 10,
              "solidity": 0.2
             }
            },
            "type": "bar"
           }
          ],
          "barpolar": [
           {
            "marker": {
             "line": {
              "color": "#E5ECF6",
              "width": 0.5
             },
             "pattern": {
              "fillmode": "overlay",
              "size": 10,
              "solidity": 0.2
             }
            },
            "type": "barpolar"
           }
          ],
          "carpet": [
           {
            "aaxis": {
             "endlinecolor": "#2a3f5f",
             "gridcolor": "white",
             "linecolor": "white",
             "minorgridcolor": "white",
             "startlinecolor": "#2a3f5f"
            },
            "baxis": {
             "endlinecolor": "#2a3f5f",
             "gridcolor": "white",
             "linecolor": "white",
             "minorgridcolor": "white",
             "startlinecolor": "#2a3f5f"
            },
            "type": "carpet"
           }
          ],
          "choropleth": [
           {
            "colorbar": {
             "outlinewidth": 0,
             "ticks": ""
            },
            "type": "choropleth"
           }
          ],
          "contour": [
           {
            "colorbar": {
             "outlinewidth": 0,
             "ticks": ""
            },
            "colorscale": [
             [
              0,
              "#0d0887"
             ],
             [
              0.1111111111111111,
              "#46039f"
             ],
             [
              0.2222222222222222,
              "#7201a8"
             ],
             [
              0.3333333333333333,
              "#9c179e"
             ],
             [
              0.4444444444444444,
              "#bd3786"
             ],
             [
              0.5555555555555556,
              "#d8576b"
             ],
             [
              0.6666666666666666,
              "#ed7953"
             ],
             [
              0.7777777777777778,
              "#fb9f3a"
             ],
             [
              0.8888888888888888,
              "#fdca26"
             ],
             [
              1,
              "#f0f921"
             ]
            ],
            "type": "contour"
           }
          ],
          "contourcarpet": [
           {
            "colorbar": {
             "outlinewidth": 0,
             "ticks": ""
            },
            "type": "contourcarpet"
           }
          ],
          "heatmap": [
           {
            "colorbar": {
             "outlinewidth": 0,
             "ticks": ""
            },
            "colorscale": [
             [
              0,
              "#0d0887"
             ],
             [
              0.1111111111111111,
              "#46039f"
             ],
             [
              0.2222222222222222,
              "#7201a8"
             ],
             [
              0.3333333333333333,
              "#9c179e"
             ],
             [
              0.4444444444444444,
              "#bd3786"
             ],
             [
              0.5555555555555556,
              "#d8576b"
             ],
             [
              0.6666666666666666,
              "#ed7953"
             ],
             [
              0.7777777777777778,
              "#fb9f3a"
             ],
             [
              0.8888888888888888,
              "#fdca26"
             ],
             [
              1,
              "#f0f921"
             ]
            ],
            "type": "heatmap"
           }
          ],
          "heatmapgl": [
           {
            "colorbar": {
             "outlinewidth": 0,
             "ticks": ""
            },
            "colorscale": [
             [
              0,
              "#0d0887"
             ],
             [
              0.1111111111111111,
              "#46039f"
             ],
             [
              0.2222222222222222,
              "#7201a8"
             ],
             [
              0.3333333333333333,
              "#9c179e"
             ],
             [
              0.4444444444444444,
              "#bd3786"
             ],
             [
              0.5555555555555556,
              "#d8576b"
             ],
             [
              0.6666666666666666,
              "#ed7953"
             ],
             [
              0.7777777777777778,
              "#fb9f3a"
             ],
             [
              0.8888888888888888,
              "#fdca26"
             ],
             [
              1,
              "#f0f921"
             ]
            ],
            "type": "heatmapgl"
           }
          ],
          "histogram": [
           {
            "marker": {
             "pattern": {
              "fillmode": "overlay",
              "size": 10,
              "solidity": 0.2
             }
            },
            "type": "histogram"
           }
          ],
          "histogram2d": [
           {
            "colorbar": {
             "outlinewidth": 0,
             "ticks": ""
            },
            "colorscale": [
             [
              0,
              "#0d0887"
             ],
             [
              0.1111111111111111,
              "#46039f"
             ],
             [
              0.2222222222222222,
              "#7201a8"
             ],
             [
              0.3333333333333333,
              "#9c179e"
             ],
             [
              0.4444444444444444,
              "#bd3786"
             ],
             [
              0.5555555555555556,
              "#d8576b"
             ],
             [
              0.6666666666666666,
              "#ed7953"
             ],
             [
              0.7777777777777778,
              "#fb9f3a"
             ],
             [
              0.8888888888888888,
              "#fdca26"
             ],
             [
              1,
              "#f0f921"
             ]
            ],
            "type": "histogram2d"
           }
          ],
          "histogram2dcontour": [
           {
            "colorbar": {
             "outlinewidth": 0,
             "ticks": ""
            },
            "colorscale": [
             [
              0,
              "#0d0887"
             ],
             [
              0.1111111111111111,
              "#46039f"
             ],
             [
              0.2222222222222222,
              "#7201a8"
             ],
             [
              0.3333333333333333,
              "#9c179e"
             ],
             [
              0.4444444444444444,
              "#bd3786"
             ],
             [
              0.5555555555555556,
              "#d8576b"
             ],
             [
              0.6666666666666666,
              "#ed7953"
             ],
             [
              0.7777777777777778,
              "#fb9f3a"
             ],
             [
              0.8888888888888888,
              "#fdca26"
             ],
             [
              1,
              "#f0f921"
             ]
            ],
            "type": "histogram2dcontour"
           }
          ],
          "mesh3d": [
           {
            "colorbar": {
             "outlinewidth": 0,
             "ticks": ""
            },
            "type": "mesh3d"
           }
          ],
          "parcoords": [
           {
            "line": {
             "colorbar": {
              "outlinewidth": 0,
              "ticks": ""
             }
            },
            "type": "parcoords"
           }
          ],
          "pie": [
           {
            "automargin": true,
            "type": "pie"
           }
          ],
          "scatter": [
           {
            "fillpattern": {
             "fillmode": "overlay",
             "size": 10,
             "solidity": 0.2
            },
            "type": "scatter"
           }
          ],
          "scatter3d": [
           {
            "line": {
             "colorbar": {
              "outlinewidth": 0,
              "ticks": ""
             }
            },
            "marker": {
             "colorbar": {
              "outlinewidth": 0,
              "ticks": ""
             }
            },
            "type": "scatter3d"
           }
          ],
          "scattercarpet": [
           {
            "marker": {
             "colorbar": {
              "outlinewidth": 0,
              "ticks": ""
             }
            },
            "type": "scattercarpet"
           }
          ],
          "scattergeo": [
           {
            "marker": {
             "colorbar": {
              "outlinewidth": 0,
              "ticks": ""
             }
            },
            "type": "scattergeo"
           }
          ],
          "scattergl": [
           {
            "marker": {
             "colorbar": {
              "outlinewidth": 0,
              "ticks": ""
             }
            },
            "type": "scattergl"
           }
          ],
          "scattermapbox": [
           {
            "marker": {
             "colorbar": {
              "outlinewidth": 0,
              "ticks": ""
             }
            },
            "type": "scattermapbox"
           }
          ],
          "scatterpolar": [
           {
            "marker": {
             "colorbar": {
              "outlinewidth": 0,
              "ticks": ""
             }
            },
            "type": "scatterpolar"
           }
          ],
          "scatterpolargl": [
           {
            "marker": {
             "colorbar": {
              "outlinewidth": 0,
              "ticks": ""
             }
            },
            "type": "scatterpolargl"
           }
          ],
          "scatterternary": [
           {
            "marker": {
             "colorbar": {
              "outlinewidth": 0,
              "ticks": ""
             }
            },
            "type": "scatterternary"
           }
          ],
          "surface": [
           {
            "colorbar": {
             "outlinewidth": 0,
             "ticks": ""
            },
            "colorscale": [
             [
              0,
              "#0d0887"
             ],
             [
              0.1111111111111111,
              "#46039f"
             ],
             [
              0.2222222222222222,
              "#7201a8"
             ],
             [
              0.3333333333333333,
              "#9c179e"
             ],
             [
              0.4444444444444444,
              "#bd3786"
             ],
             [
              0.5555555555555556,
              "#d8576b"
             ],
             [
              0.6666666666666666,
              "#ed7953"
             ],
             [
              0.7777777777777778,
              "#fb9f3a"
             ],
             [
              0.8888888888888888,
              "#fdca26"
             ],
             [
              1,
              "#f0f921"
             ]
            ],
            "type": "surface"
           }
          ],
          "table": [
           {
            "cells": {
             "fill": {
              "color": "#EBF0F8"
             },
             "line": {
              "color": "white"
             }
            },
            "header": {
             "fill": {
              "color": "#C8D4E3"
             },
             "line": {
              "color": "white"
             }
            },
            "type": "table"
           }
          ]
         },
         "layout": {
          "annotationdefaults": {
           "arrowcolor": "#2a3f5f",
           "arrowhead": 0,
           "arrowwidth": 1
          },
          "autotypenumbers": "strict",
          "coloraxis": {
           "colorbar": {
            "outlinewidth": 0,
            "ticks": ""
           }
          },
          "colorscale": {
           "diverging": [
            [
             0,
             "#8e0152"
            ],
            [
             0.1,
             "#c51b7d"
            ],
            [
             0.2,
             "#de77ae"
            ],
            [
             0.3,
             "#f1b6da"
            ],
            [
             0.4,
             "#fde0ef"
            ],
            [
             0.5,
             "#f7f7f7"
            ],
            [
             0.6,
             "#e6f5d0"
            ],
            [
             0.7,
             "#b8e186"
            ],
            [
             0.8,
             "#7fbc41"
            ],
            [
             0.9,
             "#4d9221"
            ],
            [
             1,
             "#276419"
            ]
           ],
           "sequential": [
            [
             0,
             "#0d0887"
            ],
            [
             0.1111111111111111,
             "#46039f"
            ],
            [
             0.2222222222222222,
             "#7201a8"
            ],
            [
             0.3333333333333333,
             "#9c179e"
            ],
            [
             0.4444444444444444,
             "#bd3786"
            ],
            [
             0.5555555555555556,
             "#d8576b"
            ],
            [
             0.6666666666666666,
             "#ed7953"
            ],
            [
             0.7777777777777778,
             "#fb9f3a"
            ],
            [
             0.8888888888888888,
             "#fdca26"
            ],
            [
             1,
             "#f0f921"
            ]
           ],
           "sequentialminus": [
            [
             0,
             "#0d0887"
            ],
            [
             0.1111111111111111,
             "#46039f"
            ],
            [
             0.2222222222222222,
             "#7201a8"
            ],
            [
             0.3333333333333333,
             "#9c179e"
            ],
            [
             0.4444444444444444,
             "#bd3786"
            ],
            [
             0.5555555555555556,
             "#d8576b"
            ],
            [
             0.6666666666666666,
             "#ed7953"
            ],
            [
             0.7777777777777778,
             "#fb9f3a"
            ],
            [
             0.8888888888888888,
             "#fdca26"
            ],
            [
             1,
             "#f0f921"
            ]
           ]
          },
          "colorway": [
           "#636efa",
           "#EF553B",
           "#00cc96",
           "#ab63fa",
           "#FFA15A",
           "#19d3f3",
           "#FF6692",
           "#B6E880",
           "#FF97FF",
           "#FECB52"
          ],
          "font": {
           "color": "#2a3f5f"
          },
          "geo": {
           "bgcolor": "white",
           "lakecolor": "white",
           "landcolor": "#E5ECF6",
           "showlakes": true,
           "showland": true,
           "subunitcolor": "white"
          },
          "hoverlabel": {
           "align": "left"
          },
          "hovermode": "closest",
          "mapbox": {
           "style": "light"
          },
          "paper_bgcolor": "white",
          "plot_bgcolor": "#E5ECF6",
          "polar": {
           "angularaxis": {
            "gridcolor": "white",
            "linecolor": "white",
            "ticks": ""
           },
           "bgcolor": "#E5ECF6",
           "radialaxis": {
            "gridcolor": "white",
            "linecolor": "white",
            "ticks": ""
           }
          },
          "scene": {
           "xaxis": {
            "backgroundcolor": "#E5ECF6",
            "gridcolor": "white",
            "gridwidth": 2,
            "linecolor": "white",
            "showbackground": true,
            "ticks": "",
            "zerolinecolor": "white"
           },
           "yaxis": {
            "backgroundcolor": "#E5ECF6",
            "gridcolor": "white",
            "gridwidth": 2,
            "linecolor": "white",
            "showbackground": true,
            "ticks": "",
            "zerolinecolor": "white"
           },
           "zaxis": {
            "backgroundcolor": "#E5ECF6",
            "gridcolor": "white",
            "gridwidth": 2,
            "linecolor": "white",
            "showbackground": true,
            "ticks": "",
            "zerolinecolor": "white"
           }
          },
          "shapedefaults": {
           "line": {
            "color": "#2a3f5f"
           }
          },
          "ternary": {
           "aaxis": {
            "gridcolor": "white",
            "linecolor": "white",
            "ticks": ""
           },
           "baxis": {
            "gridcolor": "white",
            "linecolor": "white",
            "ticks": ""
           },
           "bgcolor": "#E5ECF6",
           "caxis": {
            "gridcolor": "white",
            "linecolor": "white",
            "ticks": ""
           }
          },
          "title": {
           "x": 0.05
          },
          "xaxis": {
           "automargin": true,
           "gridcolor": "white",
           "linecolor": "white",
           "ticks": "",
           "title": {
            "standoff": 15
           },
           "zerolinecolor": "white",
           "zerolinewidth": 2
          },
          "yaxis": {
           "automargin": true,
           "gridcolor": "white",
           "linecolor": "white",
           "ticks": "",
           "title": {
            "standoff": 15
           },
           "zerolinecolor": "white",
           "zerolinewidth": 2
          }
         }
        }
       }
      },
      "image/png": "[encoded data removed]",
      "text/html": [
       "<div>                            <div id=\"f75119cb-7002-48b4-bb01-91c1a870f1f7\" class=\"plotly-graph-div\" style=\"height:900px; width:100%;\"></div>            <script type=\"text/javascript\">                require([\"plotly\"], function(Plotly) {                    window.PLOTLYENV=window.PLOTLYENV || {};                                    if (document.getElementById(\"f75119cb-7002-48b4-bb01-91c1a870f1f7\")) {                    Plotly.newPlot(                        \"f75119cb-7002-48b4-bb01-91c1a870f1f7\",                        [{\"branchvalues\":\"total\",\"domain\":{\"x\":[0.0,1.0],\"y\":[0.0,1.0]},\"hovertemplate\":\"labels=%{label}<br>Percentage=%{value}<br>parent=%{parent}<br>id=%{id}<extra></extra>\",\"ids\":[\"265091840/0\",\"5273876/1\",\"1332062/10\",\"67/100\",\"908811/11\",\"754685/12\",\"681538/13\",\"568973/14\",\"623073/15\",\"625530/16\",\"736439/17\",\"653455/18\",\"503904/19\",\"46443840/2\",\"856063/20\",\"690942/21\",\"593462/22\",\"570304/23\",\"377188/24\",\"645144/25\",\"407398/26\",\"369043/27\",\"327557/28\",\"233849/29\",\"16373669/3\",\"253156/30\",\"178384/31\",\"141789/32\",\"120448/33\",\"106150/34\",\"82078/35\",\"62597/36\",\"48800/37\",\"36797/38\",\"21819/39\",\"11685762/4\",\"29996/40\",\"19044/41\",\"14938/42\",\"10154/43\",\"9113/44\",\"8336/45\",\"6138/46\",\"5125/47\",\"5098/48\",\"705/49\",\"9768215/5\",\"5483/50\",\"2969/51\",\"2641/52\",\"2046/53\",\"1728/54\",\"1772/55\",\"1535/56\",\"1499/57\",\"1368/58\",\"893/59\",\"5994533/6\",\"1585/60\",\"1215/61\",\"1229/62\",\"975/63\",\"1125/64\",\"1315/65\",\"1186/66\",\"903/67\",\"1207/68\",\"965/69\",\"3420501/7\",\"1320/70\",\"1050/71\",\"1219/72\",\"1069/73\",\"787/74\",\"1423/75\",\"1136/76\",\"918/77\",\"1043/78\",\"658/79\",\"2512304/8\",\"1150/80\",\"816/81\",\"798/82\",\"640/83\",\"695/84\",\"579/85\",\"615/86\",\"441/87\",\"471/88\",\"297/89\",\"1528190/9\",\"397/90\",\"263/91\",\"277/92\",\"249/93\",\"206/94\",\"176/95\",\"168/96\",\"156/97\",\"24/98\",\"2/99\",\"2\",\"24\",\"67\",\"156\",\"168\",\"176\",\"206\",\"249\",\"263\",\"277\",\"297\",\"397\",\"441\",\"471\",\"579\",\"615\",\"640\",\"658\",\"695\",\"705\",\"787\",\"798\",\"816\",\"893\",\"903\",\"918\",\"965\",\"975\",\"1043\",\"1050\",\"1069\",\"1125\",\"1136\",\"1150\",\"1186\",\"1207\",\"1215\",\"1219\",\"1229\",\"1315\",\"1320\",\"1368\",\"1423\",\"1499\",\"1535\",\"1585\",\"1728\",\"1772\",\"2046\",\"2641\",\"2969\",\"5098\",\"5125\",\"5483\",\"6138\",\"8336\",\"9113\",\"10154\",\"14938\",\"19044\",\"21819\",\"29996\",\"36797\",\"48800\",\"62597\",\"82078\",\"106150\",\"120448\",\"141789\",\"178384\",\"233849\",\"253156\",\"327557\",\"369043\",\"377188\",\"407398\",\"503904\",\"568973\",\"570304\",\"593462\",\"623073\",\"625530\",\"645144\",\"653455\",\"681538\",\"690942\",\"736439\",\"754685\",\"856063\",\"908811\",\"1332062\",\"1528190\",\"2512304\",\"3420501\",\"5273876\",\"5994533\",\"9768215\",\"11685762\",\"16373669\",\"46443840\",\"265091840\"],\"labels\":[\"0\",\"1\",\"10\",\"100\",\"11\",\"12\",\"13\",\"14\",\"15\",\"16\",\"17\",\"18\",\"19\",\"2\",\"20\",\"21\",\"22\",\"23\",\"24\",\"25\",\"26\",\"27\",\"28\",\"29\",\"3\",\"30\",\"31\",\"32\",\"33\",\"34\",\"35\",\"36\",\"37\",\"38\",\"39\",\"4\",\"40\",\"41\",\"42\",\"43\",\"44\",\"45\",\"46\",\"47\",\"48\",\"49\",\"5\",\"50\",\"51\",\"52\",\"53\",\"54\",\"55\",\"56\",\"57\",\"58\",\"59\",\"6\",\"60\",\"61\",\"62\",\"63\",\"64\",\"65\",\"66\",\"67\",\"68\",\"69\",\"7\",\"70\",\"71\",\"72\",\"73\",\"74\",\"75\",\"76\",\"77\",\"78\",\"79\",\"8\",\"80\",\"81\",\"82\",\"83\",\"84\",\"85\",\"86\",\"87\",\"88\",\"89\",\"9\",\"90\",\"91\",\"92\",\"93\",\"94\",\"95\",\"96\",\"97\",\"98\",\"99\",\"2\",\"24\",\"67\",\"156\",\"168\",\"176\",\"206\",\"249\",\"263\",\"277\",\"297\",\"397\",\"441\",\"471\",\"579\",\"615\",\"640\",\"658\",\"695\",\"705\",\"787\",\"798\",\"816\",\"893\",\"903\",\"918\",\"965\",\"975\",\"1043\",\"1050\",\"1069\",\"1125\",\"1136\",\"1150\",\"1186\",\"1207\",\"1215\",\"1219\",\"1229\",\"1315\",\"1320\",\"1368\",\"1423\",\"1499\",\"1535\",\"1585\",\"1728\",\"1772\",\"2046\",\"2641\",\"2969\",\"5098\",\"5125\",\"5483\",\"6138\",\"8336\",\"9113\",\"10154\",\"14938\",\"19044\",\"21819\",\"29996\",\"36797\",\"48800\",\"62597\",\"82078\",\"106150\",\"120448\",\"141789\",\"178384\",\"233849\",\"253156\",\"327557\",\"369043\",\"377188\",\"407398\",\"503904\",\"568973\",\"570304\",\"593462\",\"623073\",\"625530\",\"645144\",\"653455\",\"681538\",\"690942\",\"736439\",\"754685\",\"856063\",\"908811\",\"1332062\",\"1528190\",\"2512304\",\"3420501\",\"5273876\",\"5994533\",\"9768215\",\"11685762\",\"16373669\",\"46443840\",\"265091840\"],\"name\":\"\",\"parents\":[\"265091840\",\"5273876\",\"1332062\",\"67\",\"908811\",\"754685\",\"681538\",\"568973\",\"623073\",\"625530\",\"736439\",\"653455\",\"503904\",\"46443840\",\"856063\",\"690942\",\"593462\",\"570304\",\"377188\",\"645144\",\"407398\",\"369043\",\"327557\",\"233849\",\"16373669\",\"253156\",\"178384\",\"141789\",\"120448\",\"106150\",\"82078\",\"62597\",\"48800\",\"36797\",\"21819\",\"11685762\",\"29996\",\"19044\",\"14938\",\"10154\",\"9113\",\"8336\",\"6138\",\"5125\",\"5098\",\"705\",\"9768215\",\"5483\",\"2969\",\"2641\",\"2046\",\"1728\",\"1772\",\"1535\",\"1499\",\"1368\",\"893\",\"5994533\",\"1585\",\"1215\",\"1229\",\"975\",\"1125\",\"1315\",\"1186\",\"903\",\"1207\",\"965\",\"3420501\",\"1320\",\"1050\",\"1219\",\"1069\",\"787\",\"1423\",\"1136\",\"918\",\"1043\",\"658\",\"2512304\",\"1150\",\"816\",\"798\",\"640\",\"695\",\"579\",\"615\",\"441\",\"471\",\"297\",\"1528190\",\"397\",\"263\",\"277\",\"249\",\"206\",\"176\",\"168\",\"156\",\"24\",\"2\",\"\",\"\",\"\",\"\",\"\",\"\",\"\",\"\",\"\",\"\",\"\",\"\",\"\",\"\",\"\",\"\",\"\",\"\",\"\",\"\",\"\",\"\",\"\",\"\",\"\",\"\",\"\",\"\",\"\",\"\",\"\",\"\",\"\",\"\",\"\",\"\",\"\",\"\",\"\",\"\",\"\",\"\",\"\",\"\",\"\",\"\",\"\",\"\",\"\",\"\",\"\",\"\",\"\",\"\",\"\",\"\",\"\",\"\",\"\",\"\",\"\",\"\",\"\",\"\",\"\",\"\",\"\",\"\",\"\",\"\",\"\",\"\",\"\",\"\",\"\",\"\",\"\",\"\",\"\",\"\",\"\",\"\",\"\",\"\",\"\",\"\",\"\",\"\",\"\",\"\",\"\",\"\",\"\",\"\",\"\",\"\",\"\",\"\",\"\",\"\",\"\"],\"values\":[0,1,10,100,11,12,13,14,15,16,17,18,19,2,20,21,22,23,24,25,26,27,28,29,3,30,31,32,33,34,35,36,37,38,39,4,40,41,42,43,44,45,46,47,48,49,5,50,51,52,53,54,55,56,57,58,59,6,60,61,62,63,64,65,66,67,68,69,7,70,71,72,73,74,75,76,77,78,79,8,80,81,82,83,84,85,86,87,88,89,9,90,91,92,93,94,95,96,97,98,99,99,98,100,97,96,95,94,93,91,92,89,90,87,88,85,86,83,79,84,49,74,82,81,59,67,77,69,63,78,71,73,64,76,80,66,68,61,72,62,65,70,58,75,57,56,60,54,55,53,52,51,48,47,50,46,45,44,43,42,41,39,40,38,37,36,35,34,33,32,31,29,30,28,27,24,26,19,14,23,22,15,16,25,18,13,21,17,12,20,11,10,9,8,7,1,6,5,4,3,2,0],\"type\":\"treemap\"}],                        {\"template\":{\"data\":{\"histogram2dcontour\":[{\"type\":\"histogram2dcontour\",\"colorbar\":{\"outlinewidth\":0,\"ticks\":\"\"},\"colorscale\":[[0.0,\"#0d0887\"],[0.1111111111111111,\"#46039f\"],[0.2222222222222222,\"#7201a8\"],[0.3333333333333333,\"#9c179e\"],[0.4444444444444444,\"#bd3786\"],[0.5555555555555556,\"#d8576b\"],[0.6666666666666666,\"#ed7953\"],[0.7777777777777778,\"#fb9f3a\"],[0.8888888888888888,\"#fdca26\"],[1.0,\"#f0f921\"]]}],\"choropleth\":[{\"type\":\"choropleth\",\"colorbar\":{\"outlinewidth\":0,\"ticks\":\"\"}}],\"histogram2d\":[{\"type\":\"histogram2d\",\"colorbar\":{\"outlinewidth\":0,\"ticks\":\"\"},\"colorscale\":[[0.0,\"#0d0887\"],[0.1111111111111111,\"#46039f\"],[0.2222222222222222,\"#7201a8\"],[0.3333333333333333,\"#9c179e\"],[0.4444444444444444,\"#bd3786\"],[0.5555555555555556,\"#d8576b\"],[0.6666666666666666,\"#ed7953\"],[0.7777777777777778,\"#fb9f3a\"],[0.8888888888888888,\"#fdca26\"],[1.0,\"#f0f921\"]]}],\"heatmap\":[{\"type\":\"heatmap\",\"colorbar\":{\"outlinewidth\":0,\"ticks\":\"\"},\"colorscale\":[[0.0,\"#0d0887\"],[0.1111111111111111,\"#46039f\"],[0.2222222222222222,\"#7201a8\"],[0.3333333333333333,\"#9c179e\"],[0.4444444444444444,\"#bd3786\"],[0.5555555555555556,\"#d8576b\"],[0.6666666666666666,\"#ed7953\"],[0.7777777777777778,\"#fb9f3a\"],[0.8888888888888888,\"#fdca26\"],[1.0,\"#f0f921\"]]}],\"heatmapgl\":[{\"type\":\"heatmapgl\",\"colorbar\":{\"outlinewidth\":0,\"ticks\":\"\"},\"colorscale\":[[0.0,\"#0d0887\"],[0.1111111111111111,\"#46039f\"],[0.2222222222222222,\"#7201a8\"],[0.3333333333333333,\"#9c179e\"],[0.4444444444444444,\"#bd3786\"],[0.5555555555555556,\"#d8576b\"],[0.6666666666666666,\"#ed7953\"],[0.7777777777777778,\"#fb9f3a\"],[0.8888888888888888,\"#fdca26\"],[1.0,\"#f0f921\"]]}],\"contourcarpet\":[{\"type\":\"contourcarpet\",\"colorbar\":{\"outlinewidth\":0,\"ticks\":\"\"}}],\"contour\":[{\"type\":\"contour\",\"colorbar\":{\"outlinewidth\":0,\"ticks\":\"\"},\"colorscale\":[[0.0,\"#0d0887\"],[0.1111111111111111,\"#46039f\"],[0.2222222222222222,\"#7201a8\"],[0.3333333333333333,\"#9c179e\"],[0.4444444444444444,\"#bd3786\"],[0.5555555555555556,\"#d8576b\"],[0.6666666666666666,\"#ed7953\"],[0.7777777777777778,\"#fb9f3a\"],[0.8888888888888888,\"#fdca26\"],[1.0,\"#f0f921\"]]}],\"surface\":[{\"type\":\"surface\",\"colorbar\":{\"outlinewidth\":0,\"ticks\":\"\"},\"colorscale\":[[0.0,\"#0d0887\"],[0.1111111111111111,\"#46039f\"],[0.2222222222222222,\"#7201a8\"],[0.3333333333333333,\"#9c179e\"],[0.4444444444444444,\"#bd3786\"],[0.5555555555555556,\"#d8576b\"],[0.6666666666666666,\"#ed7953\"],[0.7777777777777778,\"#fb9f3a\"],[0.8888888888888888,\"#fdca26\"],[1.0,\"#f0f921\"]]}],\"mesh3d\":[{\"type\":\"mesh3d\",\"colorbar\":{\"outlinewidth\":0,\"ticks\":\"\"}}],\"scatter\":[{\"fillpattern\":{\"fillmode\":\"overlay\",\"size\":10,\"solidity\":0.2},\"type\":\"scatter\"}],\"parcoords\":[{\"type\":\"parcoords\",\"line\":{\"colorbar\":{\"outlinewidth\":0,\"ticks\":\"\"}}}],\"scatterpolargl\":[{\"type\":\"scatterpolargl\",\"marker\":{\"colorbar\":{\"outlinewidth\":0,\"ticks\":\"\"}}}],\"bar\":[{\"error_x\":{\"color\":\"#2a3f5f\"},\"error_y\":{\"color\":\"#2a3f5f\"},\"marker\":{\"line\":{\"color\":\"#E5ECF6\",\"width\":0.5},\"pattern\":{\"fillmode\":\"overlay\",\"size\":10,\"solidity\":0.2}},\"type\":\"bar\"}],\"scattergeo\":[{\"type\":\"scattergeo\",\"marker\":{\"colorbar\":{\"outlinewidth\":0,\"ticks\":\"\"}}}],\"scatterpolar\":[{\"type\":\"scatterpolar\",\"marker\":{\"colorbar\":{\"outlinewidth\":0,\"ticks\":\"\"}}}],\"histogram\":[{\"marker\":{\"pattern\":{\"fillmode\":\"overlay\",\"size\":10,\"solidity\":0.2}},\"type\":\"histogram\"}],\"scattergl\":[{\"type\":\"scattergl\",\"marker\":{\"colorbar\":{\"outlinewidth\":0,\"ticks\":\"\"}}}],\"scatter3d\":[{\"type\":\"scatter3d\",\"line\":{\"colorbar\":{\"outlinewidth\":0,\"ticks\":\"\"}},\"marker\":{\"colorbar\":{\"outlinewidth\":0,\"ticks\":\"\"}}}],\"scattermapbox\":[{\"type\":\"scattermapbox\",\"marker\":{\"colorbar\":{\"outlinewidth\":0,\"ticks\":\"\"}}}],\"scatterternary\":[{\"type\":\"scatterternary\",\"marker\":{\"colorbar\":{\"outlinewidth\":0,\"ticks\":\"\"}}}],\"scattercarpet\":[{\"type\":\"scattercarpet\",\"marker\":{\"colorbar\":{\"outlinewidth\":0,\"ticks\":\"\"}}}],\"carpet\":[{\"aaxis\":{\"endlinecolor\":\"#2a3f5f\",\"gridcolor\":\"white\",\"linecolor\":\"white\",\"minorgridcolor\":\"white\",\"startlinecolor\":\"#2a3f5f\"},\"baxis\":{\"endlinecolor\":\"#2a3f5f\",\"gridcolor\":\"white\",\"linecolor\":\"white\",\"minorgridcolor\":\"white\",\"startlinecolor\":\"#2a3f5f\"},\"type\":\"carpet\"}],\"table\":[{\"cells\":{\"fill\":{\"color\":\"#EBF0F8\"},\"line\":{\"color\":\"white\"}},\"header\":{\"fill\":{\"color\":\"#C8D4E3\"},\"line\":{\"color\":\"white\"}},\"type\":\"table\"}],\"barpolar\":[{\"marker\":{\"line\":{\"color\":\"#E5ECF6\",\"width\":0.5},\"pattern\":{\"fillmode\":\"overlay\",\"size\":10,\"solidity\":0.2}},\"type\":\"barpolar\"}],\"pie\":[{\"automargin\":true,\"type\":\"pie\"}]},\"layout\":{\"autotypenumbers\":\"strict\",\"colorway\":[\"#636efa\",\"#EF553B\",\"#00cc96\",\"#ab63fa\",\"#FFA15A\",\"#19d3f3\",\"#FF6692\",\"#B6E880\",\"#FF97FF\",\"#FECB52\"],\"font\":{\"color\":\"#2a3f5f\"},\"hovermode\":\"closest\",\"hoverlabel\":{\"align\":\"left\"},\"paper_bgcolor\":\"white\",\"plot_bgcolor\":\"#E5ECF6\",\"polar\":{\"bgcolor\":\"#E5ECF6\",\"angularaxis\":{\"gridcolor\":\"white\",\"linecolor\":\"white\",\"ticks\":\"\"},\"radialaxis\":{\"gridcolor\":\"white\",\"linecolor\":\"white\",\"ticks\":\"\"}},\"ternary\":{\"bgcolor\":\"#E5ECF6\",\"aaxis\":{\"gridcolor\":\"white\",\"linecolor\":\"white\",\"ticks\":\"\"},\"baxis\":{\"gridcolor\":\"white\",\"linecolor\":\"white\",\"ticks\":\"\"},\"caxis\":{\"gridcolor\":\"white\",\"linecolor\":\"white\",\"ticks\":\"\"}},\"coloraxis\":{\"colorbar\":{\"outlinewidth\":0,\"ticks\":\"\"}},\"colorscale\":{\"sequential\":[[0.0,\"#0d0887\"],[0.1111111111111111,\"#46039f\"],[0.2222222222222222,\"#7201a8\"],[0.3333333333333333,\"#9c179e\"],[0.4444444444444444,\"#bd3786\"],[0.5555555555555556,\"#d8576b\"],[0.6666666666666666,\"#ed7953\"],[0.7777777777777778,\"#fb9f3a\"],[0.8888888888888888,\"#fdca26\"],[1.0,\"#f0f921\"]],\"sequentialminus\":[[0.0,\"#0d0887\"],[0.1111111111111111,\"#46039f\"],[0.2222222222222222,\"#7201a8\"],[0.3333333333333333,\"#9c179e\"],[0.4444444444444444,\"#bd3786\"],[0.5555555555555556,\"#d8576b\"],[0.6666666666666666,\"#ed7953\"],[0.7777777777777778,\"#fb9f3a\"],[0.8888888888888888,\"#fdca26\"],[1.0,\"#f0f921\"]],\"diverging\":[[0,\"#8e0152\"],[0.1,\"#c51b7d\"],[0.2,\"#de77ae\"],[0.3,\"#f1b6da\"],[0.4,\"#fde0ef\"],[0.5,\"#f7f7f7\"],[0.6,\"#e6f5d0\"],[0.7,\"#b8e186\"],[0.8,\"#7fbc41\"],[0.9,\"#4d9221\"],[1,\"#276419\"]]},\"xaxis\":{\"gridcolor\":\"white\",\"linecolor\":\"white\",\"ticks\":\"\",\"title\":{\"standoff\":15},\"zerolinecolor\":\"white\",\"automargin\":true,\"zerolinewidth\":2},\"yaxis\":{\"gridcolor\":\"white\",\"linecolor\":\"white\",\"ticks\":\"\",\"title\":{\"standoff\":15},\"zerolinecolor\":\"white\",\"automargin\":true,\"zerolinewidth\":2},\"scene\":{\"xaxis\":{\"backgroundcolor\":\"#E5ECF6\",\"gridcolor\":\"white\",\"linecolor\":\"white\",\"showbackground\":true,\"ticks\":\"\",\"zerolinecolor\":\"white\",\"gridwidth\":2},\"yaxis\":{\"backgroundcolor\":\"#E5ECF6\",\"gridcolor\":\"white\",\"linecolor\":\"white\",\"showbackground\":true,\"ticks\":\"\",\"zerolinecolor\":\"white\",\"gridwidth\":2},\"zaxis\":{\"backgroundcolor\":\"#E5ECF6\",\"gridcolor\":\"white\",\"linecolor\":\"white\",\"showbackground\":true,\"ticks\":\"\",\"zerolinecolor\":\"white\",\"gridwidth\":2}},\"shapedefaults\":{\"line\":{\"color\":\"#2a3f5f\"}},\"annotationdefaults\":{\"arrowcolor\":\"#2a3f5f\",\"arrowhead\":0,\"arrowwidth\":1},\"geo\":{\"bgcolor\":\"white\",\"landcolor\":\"#E5ECF6\",\"subunitcolor\":\"white\",\"showland\":true,\"showlakes\":true,\"lakecolor\":\"white\"},\"title\":{\"x\":0.05},\"mapbox\":{\"style\":\"light\"}}},\"legend\":{\"tracegroupgap\":0},\"margin\":{\"t\":60,\"r\":200},\"height\":900},                        {\"responsive\": true}                    ).then(function(){\n",
       "                            \n",
       "var gd = document.getElementById('f75119cb-7002-48b4-bb01-91c1a870f1f7');\n",
       "var x = new MutationObserver(function (mutations, observer) {{\n",
       "        var display = window.getComputedStyle(gd).display;\n",
       "        if (!display || display === 'none') {{\n",
       "            console.log([gd, 'removed!']);\n",
       "            Plotly.purge(gd);\n",
       "            observer.disconnect();\n",
       "        }}\n",
       "}});\n",
       "\n",
       "// Listen for the removal of the full notebook cells\n",
       "var notebookContainer = gd.closest('#notebook-container');\n",
       "if (notebookContainer) {{\n",
       "    x.observe(notebookContainer, {childList: true});\n",
       "}}\n",
       "\n",
       "// Listen for the clearing of the current output cell\n",
       "var outputEl = gd.closest('.output');\n",
       "if (outputEl) {{\n",
       "    x.observe(outputEl, {childList: true});\n",
       "}}\n",
       "\n",
       "                        })                };                });            </script>        </div>"
      ]
     },
     "metadata": {},
     "output_type": "display_data"
    }
   ],
   "source": [
    "fig = px.treemap(df1,path=['Number_location_with%', 'Percentage'], values='Percentage')#, color='Number_location_with%')\n",
    "fig.update_layout(height=900, margin_r=200)\n",
    "\n",
    "# fig.update_layout(margin = dict(t=100, l=50, r=5, b=25))\n",
    "fig.show()"
   ]
  },
  {
   "cell_type": "code",
   "execution_count": 361,
   "id": "ce66ddd2-6334-49a2-b7ad-56c396e55e91",
   "metadata": {
    "collapsed": true,
    "jupyter": {
     "outputs_hidden": true
    },
    "tags": []
   },
   "outputs": [
    {
     "data": {
      "text/html": [
       "<div>\n",
       "<style scoped>\n",
       "    .dataframe tbody tr th:only-of-type {\n",
       "        vertical-align: middle;\n",
       "    }\n",
       "\n",
       "    .dataframe tbody tr th {\n",
       "        vertical-align: top;\n",
       "    }\n",
       "\n",
       "    .dataframe thead th {\n",
       "        text-align: right;\n",
       "    }\n",
       "</style>\n",
       "<table border=\"1\" class=\"dataframe\">\n",
       "  <thead>\n",
       "    <tr style=\"text-align: right;\">\n",
       "      <th></th>\n",
       "      <th>Percentage</th>\n",
       "      <th>Number_location_with%</th>\n",
       "    </tr>\n",
       "  </thead>\n",
       "  <tbody>\n",
       "    <tr>\n",
       "      <th>1</th>\n",
       "      <td>0</td>\n",
       "      <td>265091840</td>\n",
       "    </tr>\n",
       "    <tr>\n",
       "      <th>9</th>\n",
       "      <td>1</td>\n",
       "      <td>5273876</td>\n",
       "    </tr>\n",
       "    <tr>\n",
       "      <th>4</th>\n",
       "      <td>2</td>\n",
       "      <td>46443840</td>\n",
       "    </tr>\n",
       "    <tr>\n",
       "      <th>5</th>\n",
       "      <td>3</td>\n",
       "      <td>16373669</td>\n",
       "    </tr>\n",
       "    <tr>\n",
       "      <th>7</th>\n",
       "      <td>4</td>\n",
       "      <td>11685762</td>\n",
       "    </tr>\n",
       "  </tbody>\n",
       "</table>\n",
       "</div>"
      ],
      "text/plain": [
       "  Percentage  Number_location_with%\n",
       "1          0              265091840\n",
       "9          1                5273876\n",
       "4          2               46443840\n",
       "5          3               16373669\n",
       "7          4               11685762"
      ]
     },
     "execution_count": 361,
     "metadata": {},
     "output_type": "execute_result"
    }
   ],
   "source": [
    "df1.head()"
   ]
  },
  {
   "cell_type": "code",
   "execution_count": 364,
   "id": "86e008b0-dafd-4922-82dd-b215c37c3d04",
   "metadata": {
    "collapsed": true,
    "jupyter": {
     "outputs_hidden": true
    },
    "tags": []
   },
   "outputs": [
    {
     "data": {
      "application/vnd.plotly.v1+json": {
       "config": {
        "plotlyServerURL": "https://plot.ly"
       },
       "data": [
        {
         "branchvalues": "total",
         "domain": {
          "x": [
           0,
           1
          ],
          "y": [
           0,
           1
          ]
         },
         "hovertemplate": "labels=%{label}<br>Number_location_with%=%{value}<br>parent=%{parent}<br>id=%{id}<extra></extra>",
         "ids": [
          "265091840/0",
          "5273876/1",
          "1332062/10",
          "67/100",
          "908811/11",
          "754685/12",
          "681538/13",
          "568973/14",
          "623073/15",
          "625530/16",
          "736439/17",
          "653455/18",
          "503904/19",
          "46443840/2",
          "856063/20",
          "690942/21",
          "593462/22",
          "570304/23",
          "377188/24",
          "645144/25",
          "407398/26",
          "369043/27",
          "327557/28",
          "233849/29",
          "16373669/3",
          "253156/30",
          "178384/31",
          "141789/32",
          "120448/33",
          "106150/34",
          "82078/35",
          "62597/36",
          "48800/37",
          "36797/38",
          "21819/39",
          "11685762/4",
          "29996/40",
          "19044/41",
          "14938/42",
          "10154/43",
          "9113/44",
          "8336/45",
          "6138/46",
          "5125/47",
          "5098/48",
          "705/49",
          "9768215/5",
          "5483/50",
          "2969/51",
          "2641/52",
          "2046/53",
          "1728/54",
          "1772/55",
          "1535/56",
          "1499/57",
          "1368/58",
          "893/59",
          "5994533/6",
          "1585/60",
          "1215/61",
          "1229/62",
          "975/63",
          "1125/64",
          "1315/65",
          "1186/66",
          "903/67",
          "1207/68",
          "965/69",
          "3420501/7",
          "1320/70",
          "1050/71",
          "1219/72",
          "1069/73",
          "787/74",
          "1423/75",
          "1136/76",
          "918/77",
          "1043/78",
          "658/79",
          "2512304/8",
          "1150/80",
          "816/81",
          "798/82",
          "640/83",
          "695/84",
          "579/85",
          "615/86",
          "441/87",
          "471/88",
          "297/89",
          "1528190/9",
          "397/90",
          "263/91",
          "277/92",
          "249/93",
          "206/94",
          "176/95",
          "168/96",
          "156/97",
          "24/98",
          "2/99",
          "2",
          "24",
          "67",
          "156",
          "168",
          "176",
          "206",
          "249",
          "263",
          "277",
          "297",
          "397",
          "441",
          "471",
          "579",
          "615",
          "640",
          "658",
          "695",
          "705",
          "787",
          "798",
          "816",
          "893",
          "903",
          "918",
          "965",
          "975",
          "1043",
          "1050",
          "1069",
          "1125",
          "1136",
          "1150",
          "1186",
          "1207",
          "1215",
          "1219",
          "1229",
          "1315",
          "1320",
          "1368",
          "1423",
          "1499",
          "1535",
          "1585",
          "1728",
          "1772",
          "2046",
          "2641",
          "2969",
          "5098",
          "5125",
          "5483",
          "6138",
          "8336",
          "9113",
          "10154",
          "14938",
          "19044",
          "21819",
          "29996",
          "36797",
          "48800",
          "62597",
          "82078",
          "106150",
          "120448",
          "141789",
          "178384",
          "233849",
          "253156",
          "327557",
          "369043",
          "377188",
          "407398",
          "503904",
          "568973",
          "570304",
          "593462",
          "623073",
          "625530",
          "645144",
          "653455",
          "681538",
          "690942",
          "736439",
          "754685",
          "856063",
          "908811",
          "1332062",
          "1528190",
          "2512304",
          "3420501",
          "5273876",
          "5994533",
          "9768215",
          "11685762",
          "16373669",
          "46443840",
          "265091840"
         ],
         "labels": [
          "0",
          "1",
          "10",
          "100",
          "11",
          "12",
          "13",
          "14",
          "15",
          "16",
          "17",
          "18",
          "19",
          "2",
          "20",
          "21",
          "22",
          "23",
          "24",
          "25",
          "26",
          "27",
          "28",
          "29",
          "3",
          "30",
          "31",
          "32",
          "33",
          "34",
          "35",
          "36",
          "37",
          "38",
          "39",
          "4",
          "40",
          "41",
          "42",
          "43",
          "44",
          "45",
          "46",
          "47",
          "48",
          "49",
          "5",
          "50",
          "51",
          "52",
          "53",
          "54",
          "55",
          "56",
          "57",
          "58",
          "59",
          "6",
          "60",
          "61",
          "62",
          "63",
          "64",
          "65",
          "66",
          "67",
          "68",
          "69",
          "7",
          "70",
          "71",
          "72",
          "73",
          "74",
          "75",
          "76",
          "77",
          "78",
          "79",
          "8",
          "80",
          "81",
          "82",
          "83",
          "84",
          "85",
          "86",
          "87",
          "88",
          "89",
          "9",
          "90",
          "91",
          "92",
          "93",
          "94",
          "95",
          "96",
          "97",
          "98",
          "99",
          "2",
          "24",
          "67",
          "156",
          "168",
          "176",
          "206",
          "249",
          "263",
          "277",
          "297",
          "397",
          "441",
          "471",
          "579",
          "615",
          "640",
          "658",
          "695",
          "705",
          "787",
          "798",
          "816",
          "893",
          "903",
          "918",
          "965",
          "975",
          "1043",
          "1050",
          "1069",
          "1125",
          "1136",
          "1150",
          "1186",
          "1207",
          "1215",
          "1219",
          "1229",
          "1315",
          "1320",
          "1368",
          "1423",
          "1499",
          "1535",
          "1585",
          "1728",
          "1772",
          "2046",
          "2641",
          "2969",
          "5098",
          "5125",
          "5483",
          "6138",
          "8336",
          "9113",
          "10154",
          "14938",
          "19044",
          "21819",
          "29996",
          "36797",
          "48800",
          "62597",
          "82078",
          "106150",
          "120448",
          "141789",
          "178384",
          "233849",
          "253156",
          "327557",
          "369043",
          "377188",
          "407398",
          "503904",
          "568973",
          "570304",
          "593462",
          "623073",
          "625530",
          "645144",
          "653455",
          "681538",
          "690942",
          "736439",
          "754685",
          "856063",
          "908811",
          "1332062",
          "1528190",
          "2512304",
          "3420501",
          "5273876",
          "5994533",
          "9768215",
          "11685762",
          "16373669",
          "46443840",
          "265091840"
         ],
         "name": "",
         "parents": [
          "265091840",
          "5273876",
          "1332062",
          "67",
          "908811",
          "754685",
          "681538",
          "568973",
          "623073",
          "625530",
          "736439",
          "653455",
          "503904",
          "46443840",
          "856063",
          "690942",
          "593462",
          "570304",
          "377188",
          "645144",
          "407398",
          "369043",
          "327557",
          "233849",
          "16373669",
          "253156",
          "178384",
          "141789",
          "120448",
          "106150",
          "82078",
          "62597",
          "48800",
          "36797",
          "21819",
          "11685762",
          "29996",
          "19044",
          "14938",
          "10154",
          "9113",
          "8336",
          "6138",
          "5125",
          "5098",
          "705",
          "9768215",
          "5483",
          "2969",
          "2641",
          "2046",
          "1728",
          "1772",
          "1535",
          "1499",
          "1368",
          "893",
          "5994533",
          "1585",
          "1215",
          "1229",
          "975",
          "1125",
          "1315",
          "1186",
          "903",
          "1207",
          "965",
          "3420501",
          "1320",
          "1050",
          "1219",
          "1069",
          "787",
          "1423",
          "1136",
          "918",
          "1043",
          "658",
          "2512304",
          "1150",
          "816",
          "798",
          "640",
          "695",
          "579",
          "615",
          "441",
          "471",
          "297",
          "1528190",
          "397",
          "263",
          "277",
          "249",
          "206",
          "176",
          "168",
          "156",
          "24",
          "2",
          "",
          "",
          "",
          "",
          "",
          "",
          "",
          "",
          "",
          "",
          "",
          "",
          "",
          "",
          "",
          "",
          "",
          "",
          "",
          "",
          "",
          "",
          "",
          "",
          "",
          "",
          "",
          "",
          "",
          "",
          "",
          "",
          "",
          "",
          "",
          "",
          "",
          "",
          "",
          "",
          "",
          "",
          "",
          "",
          "",
          "",
          "",
          "",
          "",
          "",
          "",
          "",
          "",
          "",
          "",
          "",
          "",
          "",
          "",
          "",
          "",
          "",
          "",
          "",
          "",
          "",
          "",
          "",
          "",
          "",
          "",
          "",
          "",
          "",
          "",
          "",
          "",
          "",
          "",
          "",
          "",
          "",
          "",
          "",
          "",
          "",
          "",
          "",
          "",
          "",
          "",
          "",
          "",
          "",
          "",
          "",
          "",
          "",
          "",
          "",
          ""
         ],
         "type": "treemap",
         "values": [
          265091840,
          5273876,
          1332062,
          67,
          908811,
          754685,
          681538,
          568973,
          623073,
          625530,
          736439,
          653455,
          503904,
          46443840,
          856063,
          690942,
          593462,
          570304,
          377188,
          645144,
          407398,
          369043,
          327557,
          233849,
          16373669,
          253156,
          178384,
          141789,
          120448,
          106150,
          82078,
          62597,
          48800,
          36797,
          21819,
          11685762,
          29996,
          19044,
          14938,
          10154,
          9113,
          8336,
          6138,
          5125,
          5098,
          705,
          9768215,
          5483,
          2969,
          2641,
          2046,
          1728,
          1772,
          1535,
          1499,
          1368,
          893,
          5994533,
          1585,
          1215,
          1229,
          975,
          1125,
          1315,
          1186,
          903,
          1207,
          965,
          3420501,
          1320,
          1050,
          1219,
          1069,
          787,
          1423,
          1136,
          918,
          1043,
          658,
          2512304,
          1150,
          816,
          798,
          640,
          695,
          579,
          615,
          441,
          471,
          297,
          1528190,
          397,
          263,
          277,
          249,
          206,
          176,
          168,
          156,
          24,
          2,
          2,
          24,
          67,
          156,
          168,
          176,
          206,
          249,
          263,
          277,
          297,
          397,
          441,
          471,
          579,
          615,
          640,
          658,
          695,
          705,
          787,
          798,
          816,
          893,
          903,
          918,
          965,
          975,
          1043,
          1050,
          1069,
          1125,
          1136,
          1150,
          1186,
          1207,
          1215,
          1219,
          1229,
          1315,
          1320,
          1368,
          1423,
          1499,
          1535,
          1585,
          1728,
          1772,
          2046,
          2641,
          2969,
          5098,
          5125,
          5483,
          6138,
          8336,
          9113,
          10154,
          14938,
          19044,
          21819,
          29996,
          36797,
          48800,
          62597,
          82078,
          106150,
          120448,
          141789,
          178384,
          233849,
          253156,
          327557,
          369043,
          377188,
          407398,
          503904,
          568973,
          570304,
          593462,
          623073,
          625530,
          645144,
          653455,
          681538,
          690942,
          736439,
          754685,
          856063,
          908811,
          1332062,
          1528190,
          2512304,
          3420501,
          5273876,
          5994533,
          9768215,
          11685762,
          16373669,
          46443840,
          265091840
         ]
        }
       ],
       "layout": {
        "autosize": true,
        "legend": {
         "tracegroupgap": 0
        },
        "margin": {
         "r": 200,
         "t": 60
        },
        "template": {
         "data": {
          "bar": [
           {
            "error_x": {
             "color": "#2a3f5f"
            },
            "error_y": {
             "color": "#2a3f5f"
            },
            "marker": {
             "line": {
              "color": "#E5ECF6",
              "width": 0.5
             },
             "pattern": {
              "fillmode": "overlay",
              "size": 10,
              "solidity": 0.2
             }
            },
            "type": "bar"
           }
          ],
          "barpolar": [
           {
            "marker": {
             "line": {
              "color": "#E5ECF6",
              "width": 0.5
             },
             "pattern": {
              "fillmode": "overlay",
              "size": 10,
              "solidity": 0.2
             }
            },
            "type": "barpolar"
           }
          ],
          "carpet": [
           {
            "aaxis": {
             "endlinecolor": "#2a3f5f",
             "gridcolor": "white",
             "linecolor": "white",
             "minorgridcolor": "white",
             "startlinecolor": "#2a3f5f"
            },
            "baxis": {
             "endlinecolor": "#2a3f5f",
             "gridcolor": "white",
             "linecolor": "white",
             "minorgridcolor": "white",
             "startlinecolor": "#2a3f5f"
            },
            "type": "carpet"
           }
          ],
          "choropleth": [
           {
            "colorbar": {
             "outlinewidth": 0,
             "ticks": ""
            },
            "type": "choropleth"
           }
          ],
          "contour": [
           {
            "colorbar": {
             "outlinewidth": 0,
             "ticks": ""
            },
            "colorscale": [
             [
              0,
              "#0d0887"
             ],
             [
              0.1111111111111111,
              "#46039f"
             ],
             [
              0.2222222222222222,
              "#7201a8"
             ],
             [
              0.3333333333333333,
              "#9c179e"
             ],
             [
              0.4444444444444444,
              "#bd3786"
             ],
             [
              0.5555555555555556,
              "#d8576b"
             ],
             [
              0.6666666666666666,
              "#ed7953"
             ],
             [
              0.7777777777777778,
              "#fb9f3a"
             ],
             [
              0.8888888888888888,
              "#fdca26"
             ],
             [
              1,
              "#f0f921"
             ]
            ],
            "type": "contour"
           }
          ],
          "contourcarpet": [
           {
            "colorbar": {
             "outlinewidth": 0,
             "ticks": ""
            },
            "type": "contourcarpet"
           }
          ],
          "heatmap": [
           {
            "colorbar": {
             "outlinewidth": 0,
             "ticks": ""
            },
            "colorscale": [
             [
              0,
              "#0d0887"
             ],
             [
              0.1111111111111111,
              "#46039f"
             ],
             [
              0.2222222222222222,
              "#7201a8"
             ],
             [
              0.3333333333333333,
              "#9c179e"
             ],
             [
              0.4444444444444444,
              "#bd3786"
             ],
             [
              0.5555555555555556,
              "#d8576b"
             ],
             [
              0.6666666666666666,
              "#ed7953"
             ],
             [
              0.7777777777777778,
              "#fb9f3a"
             ],
             [
              0.8888888888888888,
              "#fdca26"
             ],
             [
              1,
              "#f0f921"
             ]
            ],
            "type": "heatmap"
           }
          ],
          "heatmapgl": [
           {
            "colorbar": {
             "outlinewidth": 0,
             "ticks": ""
            },
            "colorscale": [
             [
              0,
              "#0d0887"
             ],
             [
              0.1111111111111111,
              "#46039f"
             ],
             [
              0.2222222222222222,
              "#7201a8"
             ],
             [
              0.3333333333333333,
              "#9c179e"
             ],
             [
              0.4444444444444444,
              "#bd3786"
             ],
             [
              0.5555555555555556,
              "#d8576b"
             ],
             [
              0.6666666666666666,
              "#ed7953"
             ],
             [
              0.7777777777777778,
              "#fb9f3a"
             ],
             [
              0.8888888888888888,
              "#fdca26"
             ],
             [
              1,
              "#f0f921"
             ]
            ],
            "type": "heatmapgl"
           }
          ],
          "histogram": [
           {
            "marker": {
             "pattern": {
              "fillmode": "overlay",
              "size": 10,
              "solidity": 0.2
             }
            },
            "type": "histogram"
           }
          ],
          "histogram2d": [
           {
            "colorbar": {
             "outlinewidth": 0,
             "ticks": ""
            },
            "colorscale": [
             [
              0,
              "#0d0887"
             ],
             [
              0.1111111111111111,
              "#46039f"
             ],
             [
              0.2222222222222222,
              "#7201a8"
             ],
             [
              0.3333333333333333,
              "#9c179e"
             ],
             [
              0.4444444444444444,
              "#bd3786"
             ],
             [
              0.5555555555555556,
              "#d8576b"
             ],
             [
              0.6666666666666666,
              "#ed7953"
             ],
             [
              0.7777777777777778,
              "#fb9f3a"
             ],
             [
              0.8888888888888888,
              "#fdca26"
             ],
             [
              1,
              "#f0f921"
             ]
            ],
            "type": "histogram2d"
           }
          ],
          "histogram2dcontour": [
           {
            "colorbar": {
             "outlinewidth": 0,
             "ticks": ""
            },
            "colorscale": [
             [
              0,
              "#0d0887"
             ],
             [
              0.1111111111111111,
              "#46039f"
             ],
             [
              0.2222222222222222,
              "#7201a8"
             ],
             [
              0.3333333333333333,
              "#9c179e"
             ],
             [
              0.4444444444444444,
              "#bd3786"
             ],
             [
              0.5555555555555556,
              "#d8576b"
             ],
             [
              0.6666666666666666,
              "#ed7953"
             ],
             [
              0.7777777777777778,
              "#fb9f3a"
             ],
             [
              0.8888888888888888,
              "#fdca26"
             ],
             [
              1,
              "#f0f921"
             ]
            ],
            "type": "histogram2dcontour"
           }
          ],
          "mesh3d": [
           {
            "colorbar": {
             "outlinewidth": 0,
             "ticks": ""
            },
            "type": "mesh3d"
           }
          ],
          "parcoords": [
           {
            "line": {
             "colorbar": {
              "outlinewidth": 0,
              "ticks": ""
             }
            },
            "type": "parcoords"
           }
          ],
          "pie": [
           {
            "automargin": true,
            "type": "pie"
           }
          ],
          "scatter": [
           {
            "fillpattern": {
             "fillmode": "overlay",
             "size": 10,
             "solidity": 0.2
            },
            "type": "scatter"
           }
          ],
          "scatter3d": [
           {
            "line": {
             "colorbar": {
              "outlinewidth": 0,
              "ticks": ""
             }
            },
            "marker": {
             "colorbar": {
              "outlinewidth": 0,
              "ticks": ""
             }
            },
            "type": "scatter3d"
           }
          ],
          "scattercarpet": [
           {
            "marker": {
             "colorbar": {
              "outlinewidth": 0,
              "ticks": ""
             }
            },
            "type": "scattercarpet"
           }
          ],
          "scattergeo": [
           {
            "marker": {
             "colorbar": {
              "outlinewidth": 0,
              "ticks": ""
             }
            },
            "type": "scattergeo"
           }
          ],
          "scattergl": [
           {
            "marker": {
             "colorbar": {
              "outlinewidth": 0,
              "ticks": ""
             }
            },
            "type": "scattergl"
           }
          ],
          "scattermapbox": [
           {
            "marker": {
             "colorbar": {
              "outlinewidth": 0,
              "ticks": ""
             }
            },
            "type": "scattermapbox"
           }
          ],
          "scatterpolar": [
           {
            "marker": {
             "colorbar": {
              "outlinewidth": 0,
              "ticks": ""
             }
            },
            "type": "scatterpolar"
           }
          ],
          "scatterpolargl": [
           {
            "marker": {
             "colorbar": {
              "outlinewidth": 0,
              "ticks": ""
             }
            },
            "type": "scatterpolargl"
           }
          ],
          "scatterternary": [
           {
            "marker": {
             "colorbar": {
              "outlinewidth": 0,
              "ticks": ""
             }
            },
            "type": "scatterternary"
           }
          ],
          "surface": [
           {
            "colorbar": {
             "outlinewidth": 0,
             "ticks": ""
            },
            "colorscale": [
             [
              0,
              "#0d0887"
             ],
             [
              0.1111111111111111,
              "#46039f"
             ],
             [
              0.2222222222222222,
              "#7201a8"
             ],
             [
              0.3333333333333333,
              "#9c179e"
             ],
             [
              0.4444444444444444,
              "#bd3786"
             ],
             [
              0.5555555555555556,
              "#d8576b"
             ],
             [
              0.6666666666666666,
              "#ed7953"
             ],
             [
              0.7777777777777778,
              "#fb9f3a"
             ],
             [
              0.8888888888888888,
              "#fdca26"
             ],
             [
              1,
              "#f0f921"
             ]
            ],
            "type": "surface"
           }
          ],
          "table": [
           {
            "cells": {
             "fill": {
              "color": "#EBF0F8"
             },
             "line": {
              "color": "white"
             }
            },
            "header": {
             "fill": {
              "color": "#C8D4E3"
             },
             "line": {
              "color": "white"
             }
            },
            "type": "table"
           }
          ]
         },
         "layout": {
          "annotationdefaults": {
           "arrowcolor": "#2a3f5f",
           "arrowhead": 0,
           "arrowwidth": 1
          },
          "autotypenumbers": "strict",
          "coloraxis": {
           "colorbar": {
            "outlinewidth": 0,
            "ticks": ""
           }
          },
          "colorscale": {
           "diverging": [
            [
             0,
             "#8e0152"
            ],
            [
             0.1,
             "#c51b7d"
            ],
            [
             0.2,
             "#de77ae"
            ],
            [
             0.3,
             "#f1b6da"
            ],
            [
             0.4,
             "#fde0ef"
            ],
            [
             0.5,
             "#f7f7f7"
            ],
            [
             0.6,
             "#e6f5d0"
            ],
            [
             0.7,
             "#b8e186"
            ],
            [
             0.8,
             "#7fbc41"
            ],
            [
             0.9,
             "#4d9221"
            ],
            [
             1,
             "#276419"
            ]
           ],
           "sequential": [
            [
             0,
             "#0d0887"
            ],
            [
             0.1111111111111111,
             "#46039f"
            ],
            [
             0.2222222222222222,
             "#7201a8"
            ],
            [
             0.3333333333333333,
             "#9c179e"
            ],
            [
             0.4444444444444444,
             "#bd3786"
            ],
            [
             0.5555555555555556,
             "#d8576b"
            ],
            [
             0.6666666666666666,
             "#ed7953"
            ],
            [
             0.7777777777777778,
             "#fb9f3a"
            ],
            [
             0.8888888888888888,
             "#fdca26"
            ],
            [
             1,
             "#f0f921"
            ]
           ],
           "sequentialminus": [
            [
             0,
             "#0d0887"
            ],
            [
             0.1111111111111111,
             "#46039f"
            ],
            [
             0.2222222222222222,
             "#7201a8"
            ],
            [
             0.3333333333333333,
             "#9c179e"
            ],
            [
             0.4444444444444444,
             "#bd3786"
            ],
            [
             0.5555555555555556,
             "#d8576b"
            ],
            [
             0.6666666666666666,
             "#ed7953"
            ],
            [
             0.7777777777777778,
             "#fb9f3a"
            ],
            [
             0.8888888888888888,
             "#fdca26"
            ],
            [
             1,
             "#f0f921"
            ]
           ]
          },
          "colorway": [
           "#636efa",
           "#EF553B",
           "#00cc96",
           "#ab63fa",
           "#FFA15A",
           "#19d3f3",
           "#FF6692",
           "#B6E880",
           "#FF97FF",
           "#FECB52"
          ],
          "font": {
           "color": "#2a3f5f"
          },
          "geo": {
           "bgcolor": "white",
           "lakecolor": "white",
           "landcolor": "#E5ECF6",
           "showlakes": true,
           "showland": true,
           "subunitcolor": "white"
          },
          "hoverlabel": {
           "align": "left"
          },
          "hovermode": "closest",
          "mapbox": {
           "style": "light"
          },
          "paper_bgcolor": "white",
          "plot_bgcolor": "#E5ECF6",
          "polar": {
           "angularaxis": {
            "gridcolor": "white",
            "linecolor": "white",
            "ticks": ""
           },
           "bgcolor": "#E5ECF6",
           "radialaxis": {
            "gridcolor": "white",
            "linecolor": "white",
            "ticks": ""
           }
          },
          "scene": {
           "xaxis": {
            "backgroundcolor": "#E5ECF6",
            "gridcolor": "white",
            "gridwidth": 2,
            "linecolor": "white",
            "showbackground": true,
            "ticks": "",
            "zerolinecolor": "white"
           },
           "yaxis": {
            "backgroundcolor": "#E5ECF6",
            "gridcolor": "white",
            "gridwidth": 2,
            "linecolor": "white",
            "showbackground": true,
            "ticks": "",
            "zerolinecolor": "white"
           },
           "zaxis": {
            "backgroundcolor": "#E5ECF6",
            "gridcolor": "white",
            "gridwidth": 2,
            "linecolor": "white",
            "showbackground": true,
            "ticks": "",
            "zerolinecolor": "white"
           }
          },
          "shapedefaults": {
           "line": {
            "color": "#2a3f5f"
           }
          },
          "ternary": {
           "aaxis": {
            "gridcolor": "white",
            "linecolor": "white",
            "ticks": ""
           },
           "baxis": {
            "gridcolor": "white",
            "linecolor": "white",
            "ticks": ""
           },
           "bgcolor": "#E5ECF6",
           "caxis": {
            "gridcolor": "white",
            "linecolor": "white",
            "ticks": ""
           }
          },
          "title": {
           "x": 0.05
          },
          "xaxis": {
           "automargin": true,
           "gridcolor": "white",
           "linecolor": "white",
           "ticks": "",
           "title": {
            "standoff": 15
           },
           "zerolinecolor": "white",
           "zerolinewidth": 2
          },
          "yaxis": {
           "automargin": true,
           "gridcolor": "white",
           "linecolor": "white",
           "ticks": "",
           "title": {
            "standoff": 15
           },
           "zerolinecolor": "white",
           "zerolinewidth": 2
          }
         }
        }
       }
      },
      "image/png": "[encoded data removed]",
      "text/html": [
       "<div>                            <div id=\"22b24512-9ceb-4284-8f67-d8b1787643bc\" class=\"plotly-graph-div\" style=\"height:900px; width:100%;\"></div>            <script type=\"text/javascript\">                require([\"plotly\"], function(Plotly) {                    window.PLOTLYENV=window.PLOTLYENV || {};                                    if (document.getElementById(\"22b24512-9ceb-4284-8f67-d8b1787643bc\")) {                    Plotly.newPlot(                        \"22b24512-9ceb-4284-8f67-d8b1787643bc\",                        [{\"branchvalues\":\"total\",\"domain\":{\"x\":[0.0,1.0],\"y\":[0.0,1.0]},\"hovertemplate\":\"labels=%{label}<br>Number_location_with%=%{value}<br>parent=%{parent}<br>id=%{id}<extra></extra>\",\"ids\":[\"265091840/0\",\"5273876/1\",\"1332062/10\",\"67/100\",\"908811/11\",\"754685/12\",\"681538/13\",\"568973/14\",\"623073/15\",\"625530/16\",\"736439/17\",\"653455/18\",\"503904/19\",\"46443840/2\",\"856063/20\",\"690942/21\",\"593462/22\",\"570304/23\",\"377188/24\",\"645144/25\",\"407398/26\",\"369043/27\",\"327557/28\",\"233849/29\",\"16373669/3\",\"253156/30\",\"178384/31\",\"141789/32\",\"120448/33\",\"106150/34\",\"82078/35\",\"62597/36\",\"48800/37\",\"36797/38\",\"21819/39\",\"11685762/4\",\"29996/40\",\"19044/41\",\"14938/42\",\"10154/43\",\"9113/44\",\"8336/45\",\"6138/46\",\"5125/47\",\"5098/48\",\"705/49\",\"9768215/5\",\"5483/50\",\"2969/51\",\"2641/52\",\"2046/53\",\"1728/54\",\"1772/55\",\"1535/56\",\"1499/57\",\"1368/58\",\"893/59\",\"5994533/6\",\"1585/60\",\"1215/61\",\"1229/62\",\"975/63\",\"1125/64\",\"1315/65\",\"1186/66\",\"903/67\",\"1207/68\",\"965/69\",\"3420501/7\",\"1320/70\",\"1050/71\",\"1219/72\",\"1069/73\",\"787/74\",\"1423/75\",\"1136/76\",\"918/77\",\"1043/78\",\"658/79\",\"2512304/8\",\"1150/80\",\"816/81\",\"798/82\",\"640/83\",\"695/84\",\"579/85\",\"615/86\",\"441/87\",\"471/88\",\"297/89\",\"1528190/9\",\"397/90\",\"263/91\",\"277/92\",\"249/93\",\"206/94\",\"176/95\",\"168/96\",\"156/97\",\"24/98\",\"2/99\",\"2\",\"24\",\"67\",\"156\",\"168\",\"176\",\"206\",\"249\",\"263\",\"277\",\"297\",\"397\",\"441\",\"471\",\"579\",\"615\",\"640\",\"658\",\"695\",\"705\",\"787\",\"798\",\"816\",\"893\",\"903\",\"918\",\"965\",\"975\",\"1043\",\"1050\",\"1069\",\"1125\",\"1136\",\"1150\",\"1186\",\"1207\",\"1215\",\"1219\",\"1229\",\"1315\",\"1320\",\"1368\",\"1423\",\"1499\",\"1535\",\"1585\",\"1728\",\"1772\",\"2046\",\"2641\",\"2969\",\"5098\",\"5125\",\"5483\",\"6138\",\"8336\",\"9113\",\"10154\",\"14938\",\"19044\",\"21819\",\"29996\",\"36797\",\"48800\",\"62597\",\"82078\",\"106150\",\"120448\",\"141789\",\"178384\",\"233849\",\"253156\",\"327557\",\"369043\",\"377188\",\"407398\",\"503904\",\"568973\",\"570304\",\"593462\",\"623073\",\"625530\",\"645144\",\"653455\",\"681538\",\"690942\",\"736439\",\"754685\",\"856063\",\"908811\",\"1332062\",\"1528190\",\"2512304\",\"3420501\",\"5273876\",\"5994533\",\"9768215\",\"11685762\",\"16373669\",\"46443840\",\"265091840\"],\"labels\":[\"0\",\"1\",\"10\",\"100\",\"11\",\"12\",\"13\",\"14\",\"15\",\"16\",\"17\",\"18\",\"19\",\"2\",\"20\",\"21\",\"22\",\"23\",\"24\",\"25\",\"26\",\"27\",\"28\",\"29\",\"3\",\"30\",\"31\",\"32\",\"33\",\"34\",\"35\",\"36\",\"37\",\"38\",\"39\",\"4\",\"40\",\"41\",\"42\",\"43\",\"44\",\"45\",\"46\",\"47\",\"48\",\"49\",\"5\",\"50\",\"51\",\"52\",\"53\",\"54\",\"55\",\"56\",\"57\",\"58\",\"59\",\"6\",\"60\",\"61\",\"62\",\"63\",\"64\",\"65\",\"66\",\"67\",\"68\",\"69\",\"7\",\"70\",\"71\",\"72\",\"73\",\"74\",\"75\",\"76\",\"77\",\"78\",\"79\",\"8\",\"80\",\"81\",\"82\",\"83\",\"84\",\"85\",\"86\",\"87\",\"88\",\"89\",\"9\",\"90\",\"91\",\"92\",\"93\",\"94\",\"95\",\"96\",\"97\",\"98\",\"99\",\"2\",\"24\",\"67\",\"156\",\"168\",\"176\",\"206\",\"249\",\"263\",\"277\",\"297\",\"397\",\"441\",\"471\",\"579\",\"615\",\"640\",\"658\",\"695\",\"705\",\"787\",\"798\",\"816\",\"893\",\"903\",\"918\",\"965\",\"975\",\"1043\",\"1050\",\"1069\",\"1125\",\"1136\",\"1150\",\"1186\",\"1207\",\"1215\",\"1219\",\"1229\",\"1315\",\"1320\",\"1368\",\"1423\",\"1499\",\"1535\",\"1585\",\"1728\",\"1772\",\"2046\",\"2641\",\"2969\",\"5098\",\"5125\",\"5483\",\"6138\",\"8336\",\"9113\",\"10154\",\"14938\",\"19044\",\"21819\",\"29996\",\"36797\",\"48800\",\"62597\",\"82078\",\"106150\",\"120448\",\"141789\",\"178384\",\"233849\",\"253156\",\"327557\",\"369043\",\"377188\",\"407398\",\"503904\",\"568973\",\"570304\",\"593462\",\"623073\",\"625530\",\"645144\",\"653455\",\"681538\",\"690942\",\"736439\",\"754685\",\"856063\",\"908811\",\"1332062\",\"1528190\",\"2512304\",\"3420501\",\"5273876\",\"5994533\",\"9768215\",\"11685762\",\"16373669\",\"46443840\",\"265091840\"],\"name\":\"\",\"parents\":[\"265091840\",\"5273876\",\"1332062\",\"67\",\"908811\",\"754685\",\"681538\",\"568973\",\"623073\",\"625530\",\"736439\",\"653455\",\"503904\",\"46443840\",\"856063\",\"690942\",\"593462\",\"570304\",\"377188\",\"645144\",\"407398\",\"369043\",\"327557\",\"233849\",\"16373669\",\"253156\",\"178384\",\"141789\",\"120448\",\"106150\",\"82078\",\"62597\",\"48800\",\"36797\",\"21819\",\"11685762\",\"29996\",\"19044\",\"14938\",\"10154\",\"9113\",\"8336\",\"6138\",\"5125\",\"5098\",\"705\",\"9768215\",\"5483\",\"2969\",\"2641\",\"2046\",\"1728\",\"1772\",\"1535\",\"1499\",\"1368\",\"893\",\"5994533\",\"1585\",\"1215\",\"1229\",\"975\",\"1125\",\"1315\",\"1186\",\"903\",\"1207\",\"965\",\"3420501\",\"1320\",\"1050\",\"1219\",\"1069\",\"787\",\"1423\",\"1136\",\"918\",\"1043\",\"658\",\"2512304\",\"1150\",\"816\",\"798\",\"640\",\"695\",\"579\",\"615\",\"441\",\"471\",\"297\",\"1528190\",\"397\",\"263\",\"277\",\"249\",\"206\",\"176\",\"168\",\"156\",\"24\",\"2\",\"\",\"\",\"\",\"\",\"\",\"\",\"\",\"\",\"\",\"\",\"\",\"\",\"\",\"\",\"\",\"\",\"\",\"\",\"\",\"\",\"\",\"\",\"\",\"\",\"\",\"\",\"\",\"\",\"\",\"\",\"\",\"\",\"\",\"\",\"\",\"\",\"\",\"\",\"\",\"\",\"\",\"\",\"\",\"\",\"\",\"\",\"\",\"\",\"\",\"\",\"\",\"\",\"\",\"\",\"\",\"\",\"\",\"\",\"\",\"\",\"\",\"\",\"\",\"\",\"\",\"\",\"\",\"\",\"\",\"\",\"\",\"\",\"\",\"\",\"\",\"\",\"\",\"\",\"\",\"\",\"\",\"\",\"\",\"\",\"\",\"\",\"\",\"\",\"\",\"\",\"\",\"\",\"\",\"\",\"\",\"\",\"\",\"\",\"\",\"\",\"\"],\"values\":[265091840,5273876,1332062,67,908811,754685,681538,568973,623073,625530,736439,653455,503904,46443840,856063,690942,593462,570304,377188,645144,407398,369043,327557,233849,16373669,253156,178384,141789,120448,106150,82078,62597,48800,36797,21819,11685762,29996,19044,14938,10154,9113,8336,6138,5125,5098,705,9768215,5483,2969,2641,2046,1728,1772,1535,1499,1368,893,5994533,1585,1215,1229,975,1125,1315,1186,903,1207,965,3420501,1320,1050,1219,1069,787,1423,1136,918,1043,658,2512304,1150,816,798,640,695,579,615,441,471,297,1528190,397,263,277,249,206,176,168,156,24,2,2,24,67,156,168,176,206,249,263,277,297,397,441,471,579,615,640,658,695,705,787,798,816,893,903,918,965,975,1043,1050,1069,1125,1136,1150,1186,1207,1215,1219,1229,1315,1320,1368,1423,1499,1535,1585,1728,1772,2046,2641,2969,5098,5125,5483,6138,8336,9113,10154,14938,19044,21819,29996,36797,48800,62597,82078,106150,120448,141789,178384,233849,253156,327557,369043,377188,407398,503904,568973,570304,593462,623073,625530,645144,653455,681538,690942,736439,754685,856063,908811,1332062,1528190,2512304,3420501,5273876,5994533,9768215,11685762,16373669,46443840,265091840],\"type\":\"treemap\"}],                        {\"template\":{\"data\":{\"histogram2dcontour\":[{\"type\":\"histogram2dcontour\",\"colorbar\":{\"outlinewidth\":0,\"ticks\":\"\"},\"colorscale\":[[0.0,\"#0d0887\"],[0.1111111111111111,\"#46039f\"],[0.2222222222222222,\"#7201a8\"],[0.3333333333333333,\"#9c179e\"],[0.4444444444444444,\"#bd3786\"],[0.5555555555555556,\"#d8576b\"],[0.6666666666666666,\"#ed7953\"],[0.7777777777777778,\"#fb9f3a\"],[0.8888888888888888,\"#fdca26\"],[1.0,\"#f0f921\"]]}],\"choropleth\":[{\"type\":\"choropleth\",\"colorbar\":{\"outlinewidth\":0,\"ticks\":\"\"}}],\"histogram2d\":[{\"type\":\"histogram2d\",\"colorbar\":{\"outlinewidth\":0,\"ticks\":\"\"},\"colorscale\":[[0.0,\"#0d0887\"],[0.1111111111111111,\"#46039f\"],[0.2222222222222222,\"#7201a8\"],[0.3333333333333333,\"#9c179e\"],[0.4444444444444444,\"#bd3786\"],[0.5555555555555556,\"#d8576b\"],[0.6666666666666666,\"#ed7953\"],[0.7777777777777778,\"#fb9f3a\"],[0.8888888888888888,\"#fdca26\"],[1.0,\"#f0f921\"]]}],\"heatmap\":[{\"type\":\"heatmap\",\"colorbar\":{\"outlinewidth\":0,\"ticks\":\"\"},\"colorscale\":[[0.0,\"#0d0887\"],[0.1111111111111111,\"#46039f\"],[0.2222222222222222,\"#7201a8\"],[0.3333333333333333,\"#9c179e\"],[0.4444444444444444,\"#bd3786\"],[0.5555555555555556,\"#d8576b\"],[0.6666666666666666,\"#ed7953\"],[0.7777777777777778,\"#fb9f3a\"],[0.8888888888888888,\"#fdca26\"],[1.0,\"#f0f921\"]]}],\"heatmapgl\":[{\"type\":\"heatmapgl\",\"colorbar\":{\"outlinewidth\":0,\"ticks\":\"\"},\"colorscale\":[[0.0,\"#0d0887\"],[0.1111111111111111,\"#46039f\"],[0.2222222222222222,\"#7201a8\"],[0.3333333333333333,\"#9c179e\"],[0.4444444444444444,\"#bd3786\"],[0.5555555555555556,\"#d8576b\"],[0.6666666666666666,\"#ed7953\"],[0.7777777777777778,\"#fb9f3a\"],[0.8888888888888888,\"#fdca26\"],[1.0,\"#f0f921\"]]}],\"contourcarpet\":[{\"type\":\"contourcarpet\",\"colorbar\":{\"outlinewidth\":0,\"ticks\":\"\"}}],\"contour\":[{\"type\":\"contour\",\"colorbar\":{\"outlinewidth\":0,\"ticks\":\"\"},\"colorscale\":[[0.0,\"#0d0887\"],[0.1111111111111111,\"#46039f\"],[0.2222222222222222,\"#7201a8\"],[0.3333333333333333,\"#9c179e\"],[0.4444444444444444,\"#bd3786\"],[0.5555555555555556,\"#d8576b\"],[0.6666666666666666,\"#ed7953\"],[0.7777777777777778,\"#fb9f3a\"],[0.8888888888888888,\"#fdca26\"],[1.0,\"#f0f921\"]]}],\"surface\":[{\"type\":\"surface\",\"colorbar\":{\"outlinewidth\":0,\"ticks\":\"\"},\"colorscale\":[[0.0,\"#0d0887\"],[0.1111111111111111,\"#46039f\"],[0.2222222222222222,\"#7201a8\"],[0.3333333333333333,\"#9c179e\"],[0.4444444444444444,\"#bd3786\"],[0.5555555555555556,\"#d8576b\"],[0.6666666666666666,\"#ed7953\"],[0.7777777777777778,\"#fb9f3a\"],[0.8888888888888888,\"#fdca26\"],[1.0,\"#f0f921\"]]}],\"mesh3d\":[{\"type\":\"mesh3d\",\"colorbar\":{\"outlinewidth\":0,\"ticks\":\"\"}}],\"scatter\":[{\"fillpattern\":{\"fillmode\":\"overlay\",\"size\":10,\"solidity\":0.2},\"type\":\"scatter\"}],\"parcoords\":[{\"type\":\"parcoords\",\"line\":{\"colorbar\":{\"outlinewidth\":0,\"ticks\":\"\"}}}],\"scatterpolargl\":[{\"type\":\"scatterpolargl\",\"marker\":{\"colorbar\":{\"outlinewidth\":0,\"ticks\":\"\"}}}],\"bar\":[{\"error_x\":{\"color\":\"#2a3f5f\"},\"error_y\":{\"color\":\"#2a3f5f\"},\"marker\":{\"line\":{\"color\":\"#E5ECF6\",\"width\":0.5},\"pattern\":{\"fillmode\":\"overlay\",\"size\":10,\"solidity\":0.2}},\"type\":\"bar\"}],\"scattergeo\":[{\"type\":\"scattergeo\",\"marker\":{\"colorbar\":{\"outlinewidth\":0,\"ticks\":\"\"}}}],\"scatterpolar\":[{\"type\":\"scatterpolar\",\"marker\":{\"colorbar\":{\"outlinewidth\":0,\"ticks\":\"\"}}}],\"histogram\":[{\"marker\":{\"pattern\":{\"fillmode\":\"overlay\",\"size\":10,\"solidity\":0.2}},\"type\":\"histogram\"}],\"scattergl\":[{\"type\":\"scattergl\",\"marker\":{\"colorbar\":{\"outlinewidth\":0,\"ticks\":\"\"}}}],\"scatter3d\":[{\"type\":\"scatter3d\",\"line\":{\"colorbar\":{\"outlinewidth\":0,\"ticks\":\"\"}},\"marker\":{\"colorbar\":{\"outlinewidth\":0,\"ticks\":\"\"}}}],\"scattermapbox\":[{\"type\":\"scattermapbox\",\"marker\":{\"colorbar\":{\"outlinewidth\":0,\"ticks\":\"\"}}}],\"scatterternary\":[{\"type\":\"scatterternary\",\"marker\":{\"colorbar\":{\"outlinewidth\":0,\"ticks\":\"\"}}}],\"scattercarpet\":[{\"type\":\"scattercarpet\",\"marker\":{\"colorbar\":{\"outlinewidth\":0,\"ticks\":\"\"}}}],\"carpet\":[{\"aaxis\":{\"endlinecolor\":\"#2a3f5f\",\"gridcolor\":\"white\",\"linecolor\":\"white\",\"minorgridcolor\":\"white\",\"startlinecolor\":\"#2a3f5f\"},\"baxis\":{\"endlinecolor\":\"#2a3f5f\",\"gridcolor\":\"white\",\"linecolor\":\"white\",\"minorgridcolor\":\"white\",\"startlinecolor\":\"#2a3f5f\"},\"type\":\"carpet\"}],\"table\":[{\"cells\":{\"fill\":{\"color\":\"#EBF0F8\"},\"line\":{\"color\":\"white\"}},\"header\":{\"fill\":{\"color\":\"#C8D4E3\"},\"line\":{\"color\":\"white\"}},\"type\":\"table\"}],\"barpolar\":[{\"marker\":{\"line\":{\"color\":\"#E5ECF6\",\"width\":0.5},\"pattern\":{\"fillmode\":\"overlay\",\"size\":10,\"solidity\":0.2}},\"type\":\"barpolar\"}],\"pie\":[{\"automargin\":true,\"type\":\"pie\"}]},\"layout\":{\"autotypenumbers\":\"strict\",\"colorway\":[\"#636efa\",\"#EF553B\",\"#00cc96\",\"#ab63fa\",\"#FFA15A\",\"#19d3f3\",\"#FF6692\",\"#B6E880\",\"#FF97FF\",\"#FECB52\"],\"font\":{\"color\":\"#2a3f5f\"},\"hovermode\":\"closest\",\"hoverlabel\":{\"align\":\"left\"},\"paper_bgcolor\":\"white\",\"plot_bgcolor\":\"#E5ECF6\",\"polar\":{\"bgcolor\":\"#E5ECF6\",\"angularaxis\":{\"gridcolor\":\"white\",\"linecolor\":\"white\",\"ticks\":\"\"},\"radialaxis\":{\"gridcolor\":\"white\",\"linecolor\":\"white\",\"ticks\":\"\"}},\"ternary\":{\"bgcolor\":\"#E5ECF6\",\"aaxis\":{\"gridcolor\":\"white\",\"linecolor\":\"white\",\"ticks\":\"\"},\"baxis\":{\"gridcolor\":\"white\",\"linecolor\":\"white\",\"ticks\":\"\"},\"caxis\":{\"gridcolor\":\"white\",\"linecolor\":\"white\",\"ticks\":\"\"}},\"coloraxis\":{\"colorbar\":{\"outlinewidth\":0,\"ticks\":\"\"}},\"colorscale\":{\"sequential\":[[0.0,\"#0d0887\"],[0.1111111111111111,\"#46039f\"],[0.2222222222222222,\"#7201a8\"],[0.3333333333333333,\"#9c179e\"],[0.4444444444444444,\"#bd3786\"],[0.5555555555555556,\"#d8576b\"],[0.6666666666666666,\"#ed7953\"],[0.7777777777777778,\"#fb9f3a\"],[0.8888888888888888,\"#fdca26\"],[1.0,\"#f0f921\"]],\"sequentialminus\":[[0.0,\"#0d0887\"],[0.1111111111111111,\"#46039f\"],[0.2222222222222222,\"#7201a8\"],[0.3333333333333333,\"#9c179e\"],[0.4444444444444444,\"#bd3786\"],[0.5555555555555556,\"#d8576b\"],[0.6666666666666666,\"#ed7953\"],[0.7777777777777778,\"#fb9f3a\"],[0.8888888888888888,\"#fdca26\"],[1.0,\"#f0f921\"]],\"diverging\":[[0,\"#8e0152\"],[0.1,\"#c51b7d\"],[0.2,\"#de77ae\"],[0.3,\"#f1b6da\"],[0.4,\"#fde0ef\"],[0.5,\"#f7f7f7\"],[0.6,\"#e6f5d0\"],[0.7,\"#b8e186\"],[0.8,\"#7fbc41\"],[0.9,\"#4d9221\"],[1,\"#276419\"]]},\"xaxis\":{\"gridcolor\":\"white\",\"linecolor\":\"white\",\"ticks\":\"\",\"title\":{\"standoff\":15},\"zerolinecolor\":\"white\",\"automargin\":true,\"zerolinewidth\":2},\"yaxis\":{\"gridcolor\":\"white\",\"linecolor\":\"white\",\"ticks\":\"\",\"title\":{\"standoff\":15},\"zerolinecolor\":\"white\",\"automargin\":true,\"zerolinewidth\":2},\"scene\":{\"xaxis\":{\"backgroundcolor\":\"#E5ECF6\",\"gridcolor\":\"white\",\"linecolor\":\"white\",\"showbackground\":true,\"ticks\":\"\",\"zerolinecolor\":\"white\",\"gridwidth\":2},\"yaxis\":{\"backgroundcolor\":\"#E5ECF6\",\"gridcolor\":\"white\",\"linecolor\":\"white\",\"showbackground\":true,\"ticks\":\"\",\"zerolinecolor\":\"white\",\"gridwidth\":2},\"zaxis\":{\"backgroundcolor\":\"#E5ECF6\",\"gridcolor\":\"white\",\"linecolor\":\"white\",\"showbackground\":true,\"ticks\":\"\",\"zerolinecolor\":\"white\",\"gridwidth\":2}},\"shapedefaults\":{\"line\":{\"color\":\"#2a3f5f\"}},\"annotationdefaults\":{\"arrowcolor\":\"#2a3f5f\",\"arrowhead\":0,\"arrowwidth\":1},\"geo\":{\"bgcolor\":\"white\",\"landcolor\":\"#E5ECF6\",\"subunitcolor\":\"white\",\"showland\":true,\"showlakes\":true,\"lakecolor\":\"white\"},\"title\":{\"x\":0.05},\"mapbox\":{\"style\":\"light\"}}},\"legend\":{\"tracegroupgap\":0},\"margin\":{\"t\":60,\"r\":200},\"height\":900},                        {\"responsive\": true}                    ).then(function(){\n",
       "                            \n",
       "var gd = document.getElementById('22b24512-9ceb-4284-8f67-d8b1787643bc');\n",
       "var x = new MutationObserver(function (mutations, observer) {{\n",
       "        var display = window.getComputedStyle(gd).display;\n",
       "        if (!display || display === 'none') {{\n",
       "            console.log([gd, 'removed!']);\n",
       "            Plotly.purge(gd);\n",
       "            observer.disconnect();\n",
       "        }}\n",
       "}});\n",
       "\n",
       "// Listen for the removal of the full notebook cells\n",
       "var notebookContainer = gd.closest('#notebook-container');\n",
       "if (notebookContainer) {{\n",
       "    x.observe(notebookContainer, {childList: true});\n",
       "}}\n",
       "\n",
       "// Listen for the clearing of the current output cell\n",
       "var outputEl = gd.closest('.output');\n",
       "if (outputEl) {{\n",
       "    x.observe(outputEl, {childList: true});\n",
       "}}\n",
       "\n",
       "                        })                };                });            </script>        </div>"
      ]
     },
     "metadata": {},
     "output_type": "display_data"
    }
   ],
   "source": [
    "fig = px.treemap(df1,path=['Number_location_with%', 'Percentage'], values='Number_location_with%')#, color='Percentage')\n",
    "fig.update_layout(height=900, margin_r=200)\n",
    "\n",
    "# fig.update_layout(margin = dict(t=100, l=50, r=5, b=25))\n",
    "fig.show()"
   ]
  },
  {
   "cell_type": "markdown",
   "id": "116c9723-ddd9-4e69-8fd1-9b6c2d96a8e8",
   "metadata": {},
   "source": [
    "# Denovo regions call qualities and also looking into just same as reference call qualities."
   ]
  },
  {
   "cell_type": "code",
   "execution_count": 390,
   "id": "670971cd-c311-459b-8a56-bda0789bdc65",
   "metadata": {},
   "outputs": [],
   "source": [
    "# Only denovo alleles : >= 90%, 0-10, 10-20, 20-30, ...90-100"
   ]
  },
  {
   "cell_type": "code",
   "execution_count": 392,
   "id": "b9b5cad4-6926-41a6-bde6-b6f09e4872b2",
   "metadata": {},
   "outputs": [
    {
     "name": "stderr",
     "output_type": "stream",
     "text": [
      "205884646it [02:22, 1442725.43it/s]\n"
     ]
    }
   ],
   "source": [
    "#\n",
    "\n",
    "Denovo_calls_qualities = {}\n",
    "Denovo_calls_stutter = {}\n",
    "\n",
    "with open('../../Analysis_KT/Calls_stats/Denovo_calls_info.tsv') as denovo_regions:\n",
    "    \n",
    "    for info in tqdm(denovo_regions):\n",
    "        \n",
    "        #\n",
    "        info = info.strip().split()\n",
    "        \n",
    "        #\n",
    "        qual_percent = info[1]\n",
    "        stutter = info[2]\n",
    "        \n",
    "        # qualities\n",
    "        if qual_percent in Denovo_calls_qualities:\n",
    "            Denovo_calls_qualities[qual_percent] += 1\n",
    "        else: Denovo_calls_qualities[qual_percent] = 1\n",
    "        \n",
    "        #stutter\n",
    "        if stutter in Denovo_calls_stutter:\n",
    "            Denovo_calls_stutter[stutter] += 1\n",
    "        else: Denovo_calls_stutter[stutter] = 1\n",
    "    "
   ]
  },
  {
   "cell_type": "code",
   "execution_count": 425,
   "id": "cbea2ad6-3aae-4a0d-b464-a2cbbb3a1200",
   "metadata": {},
   "outputs": [],
   "source": [
    "# putting the value in df\n",
    "\n",
    "#\n",
    "df_quals = pd.DataFrame({'Percentages':list(Denovo_calls_qualities.keys()), 'Frequency':list(Denovo_calls_qualities.values())})\n",
    "df_quals = df_quals.astype(int)\n",
    "df_quals = df_quals.sort_values(by=['Percentages'], ascending=True)\n",
    "\n",
    "#\n",
    "df_stutter = pd.DataFrame({'Percentages':list(Denovo_calls_stutter.keys()), 'Frequency':list(Denovo_calls_stutter.values())})\n",
    "df_stutter = df_stutter.astype(int)\n",
    "df_stutter = df_stutter.sort_values(by=['Percentages'], ascending=True)"
   ]
  },
  {
   "cell_type": "code",
   "execution_count": 432,
   "id": "ca95dd85-31f1-4c39-b077-842d2168f76f",
   "metadata": {},
   "outputs": [
    {
     "data": {
      "text/html": [
       "<div>\n",
       "<style scoped>\n",
       "    .dataframe tbody tr th:only-of-type {\n",
       "        vertical-align: middle;\n",
       "    }\n",
       "\n",
       "    .dataframe tbody tr th {\n",
       "        vertical-align: top;\n",
       "    }\n",
       "\n",
       "    .dataframe thead th {\n",
       "        text-align: right;\n",
       "    }\n",
       "</style>\n",
       "<table border=\"1\" class=\"dataframe\">\n",
       "  <thead>\n",
       "    <tr style=\"text-align: right;\">\n",
       "      <th></th>\n",
       "      <th>Percentages</th>\n",
       "      <th>Frequency</th>\n",
       "    </tr>\n",
       "  </thead>\n",
       "  <tbody>\n",
       "    <tr>\n",
       "      <th>75</th>\n",
       "      <td>18</td>\n",
       "      <td>1</td>\n",
       "    </tr>\n",
       "    <tr>\n",
       "      <th>79</th>\n",
       "      <td>20</td>\n",
       "      <td>1</td>\n",
       "    </tr>\n",
       "    <tr>\n",
       "      <th>78</th>\n",
       "      <td>21</td>\n",
       "      <td>5</td>\n",
       "    </tr>\n",
       "    <tr>\n",
       "      <th>74</th>\n",
       "      <td>22</td>\n",
       "      <td>4</td>\n",
       "    </tr>\n",
       "    <tr>\n",
       "      <th>76</th>\n",
       "      <td>23</td>\n",
       "      <td>5</td>\n",
       "    </tr>\n",
       "  </tbody>\n",
       "</table>\n",
       "</div>"
      ],
      "text/plain": [
       "    Percentages  Frequency\n",
       "75           18          1\n",
       "79           20          1\n",
       "78           21          5\n",
       "74           22          4\n",
       "76           23          5"
      ]
     },
     "execution_count": 432,
     "metadata": {},
     "output_type": "execute_result"
    }
   ],
   "source": [
    "df_quals.head()"
   ]
  },
  {
   "cell_type": "code",
   "execution_count": 435,
   "id": "0458c8b2-059c-4967-87cd-c4c7a8c4104a",
   "metadata": {
    "collapsed": true,
    "jupyter": {
     "outputs_hidden": true
    },
    "tags": []
   },
   "outputs": [
    {
     "name": "stderr",
     "output_type": "stream",
     "text": [
      "100%|█████████████████████████████████████████████████████████████████████████████████████████████████████████████████████████████████████████████████████████████████████| 80/80 [00:00<00:00, 43594.17it/s]"
     ]
    },
    {
     "name": "stdout",
     "output_type": "stream",
     "text": [
      "10-20 1\n",
      "20-30 167\n",
      "30-40 48213\n",
      "40-50 79762\n",
      "50-60 188722\n",
      "60-70 520137\n",
      "70-80 1480927\n",
      "80-90 2221745\n",
      "90-100 201344972\n"
     ]
    },
    {
     "name": "stderr",
     "output_type": "stream",
     "text": [
      "\n"
     ]
    }
   ],
   "source": [
    "# Stratifying the based on percentages.\n",
    "\n",
    "distribution = {}\n",
    "\n",
    "s=0\n",
    "e=10\n",
    "inclusive = 0\n",
    "for index in tqdm(df_quals.index):\n",
    "        \n",
    "        #\n",
    "        percentage_value = int(df_quals['Percentages'][index])\n",
    "        frequency = int(df_quals['Frequency'][index])\n",
    "        \n",
    "        #\n",
    "        Range = f'{s}-{e}'\n",
    "        if e == 100: inclusive =1\n",
    "        if percentage_value in range(s, e+inclusive):\n",
    "            if Range in distribution: \n",
    "                distribution[Range] += frequency\n",
    "            else: distribution[Range] = frequency\n",
    "            \n",
    "        \n",
    "        else:\n",
    "            s = e\n",
    "            e = e + 10\n",
    "            Range = f'{s}-{e}'\n",
    "            if int(percentage_value) in range(s, e):\n",
    "                if Range in distribution:\n",
    "                    distribution[Range] += frequency\n",
    "                else: distribution[Range] = frequency\n",
    "        \n",
    "\n",
    "for value in distribution:\n",
    "    print(value, distribution[value])"
   ]
  },
  {
   "cell_type": "code",
   "execution_count": 449,
   "id": "c25888bb-8339-430c-bb7b-0478c050429a",
   "metadata": {
    "collapsed": true,
    "jupyter": {
     "outputs_hidden": true
    },
    "tags": []
   },
   "outputs": [
    {
     "name": "stderr",
     "output_type": "stream",
     "text": [
      "100%|███████████████████████████████████████████████████████████████████████████████████████████████████████████████████████████████████████████████████████████████████| 101/101 [00:00<00:00, 54944.84it/s]"
     ]
    },
    {
     "name": "stdout",
     "output_type": "stream",
     "text": [
      "0-5 183843965\n",
      "6-10 11564758\n",
      "11-15 2884247\n",
      "16-20 2849868\n",
      "21-25 2489127\n",
      "26-30 1414942\n",
      "31-35 559773\n",
      "36-40 174024\n",
      "41-45 51521\n",
      "46-50 17862\n",
      "51-55 8555\n",
      "56-60 5147\n",
      "61-65 4403\n",
      "66-70 4101\n",
      "71-75 4057\n",
      "76-80 3379\n",
      "81-85 2376\n",
      "86-90 1419\n",
      "91-95 795\n",
      "96-100 327\n"
     ]
    },
    {
     "name": "stderr",
     "output_type": "stream",
     "text": [
      "\n"
     ]
    }
   ],
   "source": [
    "# Stratifying the based on percentages.\n",
    "\n",
    "distribution = {}\n",
    "\n",
    "s=0\n",
    "e=5\n",
    "# inclusive = 0\n",
    "for index in tqdm(df_stutter.index):\n",
    "        \n",
    "        #\n",
    "        percentage_value = int(df_stutter['Percentages'][index])\n",
    "        frequency = int(df_stutter['Frequency'][index])\n",
    "        \n",
    "        #\n",
    "        Range = f'{s}-{e}'\n",
    "        if percentage_value in range(s, e+1):\n",
    "            if Range in distribution: \n",
    "                distribution[Range] += frequency\n",
    "            else: distribution[Range] = frequency\n",
    "            \n",
    "        \n",
    "        else:\n",
    "            s = e+1\n",
    "            e = e + 5\n",
    "            Range = f'{s}-{e}'\n",
    "            if int(percentage_value) in range(s, e):\n",
    "                if Range in distribution:\n",
    "                    distribution[Range] += frequency\n",
    "                else: distribution[Range] = frequency\n",
    "        \n",
    "\n",
    "for value in distribution:\n",
    "    print(value, distribution[value])"
   ]
  },
  {
   "cell_type": "code",
   "execution_count": 452,
   "id": "377a2d6a-658e-4003-9f6d-35ed28343d4f",
   "metadata": {
    "collapsed": true,
    "jupyter": {
     "outputs_hidden": true
    },
    "tags": []
   },
   "outputs": [
    {
     "data": {
      "application/vnd.plotly.v1+json": {
       "config": {
        "plotlyServerURL": "https://plot.ly"
       },
       "data": [
        {
         "branchvalues": "total",
         "customdata": [
          [
           18
          ],
          [
           20
          ],
          [
           21
          ],
          [
           22
          ],
          [
           23
          ],
          [
           24
          ],
          [
           25
          ],
          [
           26
          ],
          [
           27
          ],
          [
           28
          ],
          [
           30
          ],
          [
           31
          ],
          [
           32
          ],
          [
           33
          ],
          [
           34
          ],
          [
           35
          ],
          [
           36
          ],
          [
           37
          ],
          [
           38
          ],
          [
           39
          ],
          [
           40
          ],
          [
           41
          ],
          [
           42
          ],
          [
           43
          ],
          [
           44
          ],
          [
           45
          ],
          [
           46
          ],
          [
           47
          ],
          [
           48
          ],
          [
           49
          ],
          [
           50
          ],
          [
           51
          ],
          [
           52
          ],
          [
           53
          ],
          [
           54
          ],
          [
           55
          ],
          [
           56
          ],
          [
           57
          ],
          [
           59
          ],
          [
           60
          ],
          [
           61
          ],
          [
           62
          ],
          [
           63
          ],
          [
           64
          ],
          [
           65
          ],
          [
           66
          ],
          [
           67
          ],
          [
           68
          ],
          [
           69
          ],
          [
           70
          ],
          [
           71
          ],
          [
           72
          ],
          [
           73
          ],
          [
           74
          ],
          [
           75
          ],
          [
           76
          ],
          [
           77
          ],
          [
           78
          ],
          [
           79
          ],
          [
           80
          ],
          [
           81
          ],
          [
           82
          ],
          [
           83
          ],
          [
           84
          ],
          [
           85
          ],
          [
           86
          ],
          [
           87
          ],
          [
           88
          ],
          [
           89
          ],
          [
           90
          ],
          [
           91
          ],
          [
           92
          ],
          [
           93
          ],
          [
           94
          ],
          [
           95
          ],
          [
           96
          ],
          [
           97
          ],
          [
           98
          ],
          [
           99
          ],
          [
           100
          ],
          [
           19.05263157894737
          ],
          [
           22
          ],
          [
           22.045454545454547
          ],
          [
           24
          ],
          [
           25
          ],
          [
           27
          ],
          [
           26
          ],
          [
           30
          ],
          [
           28
          ],
          [
           31
          ],
          [
           32
          ],
          [
           33
          ],
          [
           38
          ],
          [
           42
          ],
          [
           41
          ],
          [
           36
          ],
          [
           39
          ],
          [
           37
          ],
          [
           44
          ],
          [
           43
          ],
          [
           40
          ],
          [
           45
          ],
          [
           46
          ],
          [
           35
          ],
          [
           47
          ],
          [
           34
          ],
          [
           48
          ],
          [
           49
          ],
          [
           50
          ],
          [
           57
          ],
          [
           55
          ],
          [
           53
          ],
          [
           52
          ],
          [
           54
          ],
          [
           59
          ],
          [
           60
          ],
          [
           61
          ],
          [
           51
          ],
          [
           62
          ],
          [
           64
          ],
          [
           63
          ],
          [
           65
          ],
          [
           66
          ],
          [
           56
          ],
          [
           67
          ],
          [
           69
          ],
          [
           70
          ],
          [
           68
          ],
          [
           72
          ],
          [
           73
          ],
          [
           71
          ],
          [
           75
          ],
          [
           74
          ],
          [
           76
          ],
          [
           77
          ],
          [
           78
          ],
          [
           79
          ],
          [
           80
          ],
          [
           81
          ],
          [
           82
          ],
          [
           84
          ],
          [
           83
          ],
          [
           85
          ],
          [
           86
          ],
          [
           87
          ],
          [
           88
          ],
          [
           89
          ],
          [
           90
          ],
          [
           91
          ],
          [
           92
          ],
          [
           93
          ],
          [
           94
          ],
          [
           95
          ],
          [
           96
          ],
          [
           97
          ],
          [
           98
          ],
          [
           99
          ],
          [
           100
          ]
         ],
         "domain": {
          "x": [
           0,
           1
          ],
          "y": [
           0,
           1
          ]
         },
         "hovertemplate": "labels=%{label}<br>Percentages_sum=%{value}<br>parent=%{parent}<br>id=%{id}<br>Percentages=%{color}<extra></extra>",
         "ids": [
          "1/18",
          "1/20",
          "5/21",
          "4/22",
          "5/23",
          "7/24",
          "17/25",
          "27/26",
          "21/27",
          "80/28",
          "62/30",
          "85/31",
          "106/32",
          "1821/33",
          "8354/34",
          "7902/35",
          "7477/36",
          "7544/37",
          "7355/38",
          "7507/39",
          "7662/40",
          "7440/41",
          "7409/42",
          "7578/43",
          "7550/44",
          "7734/45",
          "7765/46",
          "8219/47",
          "8996/48",
          "9409/49",
          "16999/50",
          "19798/51",
          "19046/52",
          "19030/53",
          "19047/54",
          "18961/55",
          "37842/56",
          "18846/57",
          "19153/59",
          "19413/60",
          "19496/61",
          "20077/62",
          "20253/63",
          "20157/64",
          "20664/65",
          "21705/66",
          "114853/67",
          "132836/68",
          "130683/69",
          "132008/70",
          "144645/71",
          "134884/72",
          "141415/73",
          "146522/74",
          "145086/75",
          "147305/76",
          "157925/77",
          "162531/78",
          "168606/79",
          "181917/80",
          "185855/81",
          "189844/82",
          "204736/83",
          "203438/84",
          "216805/85",
          "225191/86",
          "248662/87",
          "268002/88",
          "297295/89",
          "319149/90",
          "349864/91",
          "383114/92",
          "441752/93",
          "524745/94",
          "622206/95",
          "769316/96",
          "1071263/97",
          "1642960/98",
          "3801610/99",
          "191418993/100",
          "1",
          "4",
          "5",
          "7",
          "17",
          "21",
          "27",
          "62",
          "80",
          "85",
          "106",
          "1821",
          "7355",
          "7409",
          "7440",
          "7477",
          "7507",
          "7544",
          "7550",
          "7578",
          "7662",
          "7734",
          "7765",
          "7902",
          "8219",
          "8354",
          "8996",
          "9409",
          "16999",
          "18846",
          "18961",
          "19030",
          "19046",
          "19047",
          "19153",
          "19413",
          "19496",
          "19798",
          "20077",
          "20157",
          "20253",
          "20664",
          "21705",
          "37842",
          "114853",
          "130683",
          "132008",
          "132836",
          "134884",
          "141415",
          "144645",
          "145086",
          "146522",
          "147305",
          "157925",
          "162531",
          "168606",
          "181917",
          "185855",
          "189844",
          "203438",
          "204736",
          "216805",
          "225191",
          "248662",
          "268002",
          "297295",
          "319149",
          "349864",
          "383114",
          "441752",
          "524745",
          "622206",
          "769316",
          "1071263",
          "1642960",
          "3801610",
          "191418993"
         ],
         "labels": [
          "18",
          "20",
          "21",
          "22",
          "23",
          "24",
          "25",
          "26",
          "27",
          "28",
          "30",
          "31",
          "32",
          "33",
          "34",
          "35",
          "36",
          "37",
          "38",
          "39",
          "40",
          "41",
          "42",
          "43",
          "44",
          "45",
          "46",
          "47",
          "48",
          "49",
          "50",
          "51",
          "52",
          "53",
          "54",
          "55",
          "56",
          "57",
          "59",
          "60",
          "61",
          "62",
          "63",
          "64",
          "65",
          "66",
          "67",
          "68",
          "69",
          "70",
          "71",
          "72",
          "73",
          "74",
          "75",
          "76",
          "77",
          "78",
          "79",
          "80",
          "81",
          "82",
          "83",
          "84",
          "85",
          "86",
          "87",
          "88",
          "89",
          "90",
          "91",
          "92",
          "93",
          "94",
          "95",
          "96",
          "97",
          "98",
          "99",
          "100",
          "1",
          "4",
          "5",
          "7",
          "17",
          "21",
          "27",
          "62",
          "80",
          "85",
          "106",
          "1821",
          "7355",
          "7409",
          "7440",
          "7477",
          "7507",
          "7544",
          "7550",
          "7578",
          "7662",
          "7734",
          "7765",
          "7902",
          "8219",
          "8354",
          "8996",
          "9409",
          "16999",
          "18846",
          "18961",
          "19030",
          "19046",
          "19047",
          "19153",
          "19413",
          "19496",
          "19798",
          "20077",
          "20157",
          "20253",
          "20664",
          "21705",
          "37842",
          "114853",
          "130683",
          "132008",
          "132836",
          "134884",
          "141415",
          "144645",
          "145086",
          "146522",
          "147305",
          "157925",
          "162531",
          "168606",
          "181917",
          "185855",
          "189844",
          "203438",
          "204736",
          "216805",
          "225191",
          "248662",
          "268002",
          "297295",
          "319149",
          "349864",
          "383114",
          "441752",
          "524745",
          "622206",
          "769316",
          "1071263",
          "1642960",
          "3801610",
          "191418993"
         ],
         "marker": {
          "coloraxis": "coloraxis",
          "colors": [
           18,
           20,
           21,
           22,
           23,
           24,
           25,
           26,
           27,
           28,
           30,
           31,
           32,
           33,
           34,
           35,
           36,
           37,
           38,
           39,
           40,
           41,
           42,
           43,
           44,
           45,
           46,
           47,
           48,
           49,
           50,
           51,
           52,
           53,
           54,
           55,
           56,
           57,
           59,
           60,
           61,
           62,
           63,
           64,
           65,
           66,
           67,
           68,
           69,
           70,
           71,
           72,
           73,
           74,
           75,
           76,
           77,
           78,
           79,
           80,
           81,
           82,
           83,
           84,
           85,
           86,
           87,
           88,
           89,
           90,
           91,
           92,
           93,
           94,
           95,
           96,
           97,
           98,
           99,
           100,
           19.05263157894737,
           22,
           22.045454545454547,
           24,
           25,
           27,
           26,
           30,
           28,
           31,
           32,
           33,
           38,
           42,
           41,
           36,
           39,
           37,
           44,
           43,
           40,
           45,
           46,
           35,
           47,
           34,
           48,
           49,
           50,
           57,
           55,
           53,
           52,
           54,
           59,
           60,
           61,
           51,
           62,
           64,
           63,
           65,
           66,
           56,
           67,
           69,
           70,
           68,
           72,
           73,
           71,
           75,
           74,
           76,
           77,
           78,
           79,
           80,
           81,
           82,
           84,
           83,
           85,
           86,
           87,
           88,
           89,
           90,
           91,
           92,
           93,
           94,
           95,
           96,
           97,
           98,
           99,
           100
          ]
         },
         "name": "",
         "parents": [
          "1",
          "1",
          "5",
          "4",
          "5",
          "7",
          "17",
          "27",
          "21",
          "80",
          "62",
          "85",
          "106",
          "1821",
          "8354",
          "7902",
          "7477",
          "7544",
          "7355",
          "7507",
          "7662",
          "7440",
          "7409",
          "7578",
          "7550",
          "7734",
          "7765",
          "8219",
          "8996",
          "9409",
          "16999",
          "19798",
          "19046",
          "19030",
          "19047",
          "18961",
          "37842",
          "18846",
          "19153",
          "19413",
          "19496",
          "20077",
          "20253",
          "20157",
          "20664",
          "21705",
          "114853",
          "132836",
          "130683",
          "132008",
          "144645",
          "134884",
          "141415",
          "146522",
          "145086",
          "147305",
          "157925",
          "162531",
          "168606",
          "181917",
          "185855",
          "189844",
          "204736",
          "203438",
          "216805",
          "225191",
          "248662",
          "268002",
          "297295",
          "319149",
          "349864",
          "383114",
          "441752",
          "524745",
          "622206",
          "769316",
          "1071263",
          "1642960",
          "3801610",
          "191418993",
          "",
          "",
          "",
          "",
          "",
          "",
          "",
          "",
          "",
          "",
          "",
          "",
          "",
          "",
          "",
          "",
          "",
          "",
          "",
          "",
          "",
          "",
          "",
          "",
          "",
          "",
          "",
          "",
          "",
          "",
          "",
          "",
          "",
          "",
          "",
          "",
          "",
          "",
          "",
          "",
          "",
          "",
          "",
          "",
          "",
          "",
          "",
          "",
          "",
          "",
          "",
          "",
          "",
          "",
          "",
          "",
          "",
          "",
          "",
          "",
          "",
          "",
          "",
          "",
          "",
          "",
          "",
          "",
          "",
          "",
          "",
          "",
          "",
          "",
          "",
          "",
          "",
          ""
         ],
         "type": "treemap",
         "values": [
          18,
          20,
          21,
          22,
          23,
          24,
          25,
          26,
          27,
          28,
          30,
          31,
          32,
          33,
          34,
          35,
          36,
          37,
          38,
          39,
          40,
          41,
          42,
          43,
          44,
          45,
          46,
          47,
          48,
          49,
          50,
          51,
          52,
          53,
          54,
          55,
          56,
          57,
          59,
          60,
          61,
          62,
          63,
          64,
          65,
          66,
          67,
          68,
          69,
          70,
          71,
          72,
          73,
          74,
          75,
          76,
          77,
          78,
          79,
          80,
          81,
          82,
          83,
          84,
          85,
          86,
          87,
          88,
          89,
          90,
          91,
          92,
          93,
          94,
          95,
          96,
          97,
          98,
          99,
          100,
          38,
          22,
          44,
          24,
          25,
          27,
          26,
          30,
          28,
          31,
          32,
          33,
          38,
          42,
          41,
          36,
          39,
          37,
          44,
          43,
          40,
          45,
          46,
          35,
          47,
          34,
          48,
          49,
          50,
          57,
          55,
          53,
          52,
          54,
          59,
          60,
          61,
          51,
          62,
          64,
          63,
          65,
          66,
          56,
          67,
          69,
          70,
          68,
          72,
          73,
          71,
          75,
          74,
          76,
          77,
          78,
          79,
          80,
          81,
          82,
          84,
          83,
          85,
          86,
          87,
          88,
          89,
          90,
          91,
          92,
          93,
          94,
          95,
          96,
          97,
          98,
          99,
          100
         ]
        }
       ],
       "layout": {
        "autosize": true,
        "coloraxis": {
         "colorbar": {
          "title": {
           "text": "Percentages"
          }
         },
         "colorscale": [
          [
           0,
           "#0d0887"
          ],
          [
           0.1111111111111111,
           "#46039f"
          ],
          [
           0.2222222222222222,
           "#7201a8"
          ],
          [
           0.3333333333333333,
           "#9c179e"
          ],
          [
           0.4444444444444444,
           "#bd3786"
          ],
          [
           0.5555555555555556,
           "#d8576b"
          ],
          [
           0.6666666666666666,
           "#ed7953"
          ],
          [
           0.7777777777777778,
           "#fb9f3a"
          ],
          [
           0.8888888888888888,
           "#fdca26"
          ],
          [
           1,
           "#f0f921"
          ]
         ]
        },
        "legend": {
         "tracegroupgap": 0
        },
        "margin": {
         "r": 300,
         "t": 60
        },
        "template": {
         "data": {
          "bar": [
           {
            "error_x": {
             "color": "#2a3f5f"
            },
            "error_y": {
             "color": "#2a3f5f"
            },
            "marker": {
             "line": {
              "color": "#E5ECF6",
              "width": 0.5
             },
             "pattern": {
              "fillmode": "overlay",
              "size": 10,
              "solidity": 0.2
             }
            },
            "type": "bar"
           }
          ],
          "barpolar": [
           {
            "marker": {
             "line": {
              "color": "#E5ECF6",
              "width": 0.5
             },
             "pattern": {
              "fillmode": "overlay",
              "size": 10,
              "solidity": 0.2
             }
            },
            "type": "barpolar"
           }
          ],
          "carpet": [
           {
            "aaxis": {
             "endlinecolor": "#2a3f5f",
             "gridcolor": "white",
             "linecolor": "white",
             "minorgridcolor": "white",
             "startlinecolor": "#2a3f5f"
            },
            "baxis": {
             "endlinecolor": "#2a3f5f",
             "gridcolor": "white",
             "linecolor": "white",
             "minorgridcolor": "white",
             "startlinecolor": "#2a3f5f"
            },
            "type": "carpet"
           }
          ],
          "choropleth": [
           {
            "colorbar": {
             "outlinewidth": 0,
             "ticks": ""
            },
            "type": "choropleth"
           }
          ],
          "contour": [
           {
            "colorbar": {
             "outlinewidth": 0,
             "ticks": ""
            },
            "colorscale": [
             [
              0,
              "#0d0887"
             ],
             [
              0.1111111111111111,
              "#46039f"
             ],
             [
              0.2222222222222222,
              "#7201a8"
             ],
             [
              0.3333333333333333,
              "#9c179e"
             ],
             [
              0.4444444444444444,
              "#bd3786"
             ],
             [
              0.5555555555555556,
              "#d8576b"
             ],
             [
              0.6666666666666666,
              "#ed7953"
             ],
             [
              0.7777777777777778,
              "#fb9f3a"
             ],
             [
              0.8888888888888888,
              "#fdca26"
             ],
             [
              1,
              "#f0f921"
             ]
            ],
            "type": "contour"
           }
          ],
          "contourcarpet": [
           {
            "colorbar": {
             "outlinewidth": 0,
             "ticks": ""
            },
            "type": "contourcarpet"
           }
          ],
          "heatmap": [
           {
            "colorbar": {
             "outlinewidth": 0,
             "ticks": ""
            },
            "colorscale": [
             [
              0,
              "#0d0887"
             ],
             [
              0.1111111111111111,
              "#46039f"
             ],
             [
              0.2222222222222222,
              "#7201a8"
             ],
             [
              0.3333333333333333,
              "#9c179e"
             ],
             [
              0.4444444444444444,
              "#bd3786"
             ],
             [
              0.5555555555555556,
              "#d8576b"
             ],
             [
              0.6666666666666666,
              "#ed7953"
             ],
             [
              0.7777777777777778,
              "#fb9f3a"
             ],
             [
              0.8888888888888888,
              "#fdca26"
             ],
             [
              1,
              "#f0f921"
             ]
            ],
            "type": "heatmap"
           }
          ],
          "heatmapgl": [
           {
            "colorbar": {
             "outlinewidth": 0,
             "ticks": ""
            },
            "colorscale": [
             [
              0,
              "#0d0887"
             ],
             [
              0.1111111111111111,
              "#46039f"
             ],
             [
              0.2222222222222222,
              "#7201a8"
             ],
             [
              0.3333333333333333,
              "#9c179e"
             ],
             [
              0.4444444444444444,
              "#bd3786"
             ],
             [
              0.5555555555555556,
              "#d8576b"
             ],
             [
              0.6666666666666666,
              "#ed7953"
             ],
             [
              0.7777777777777778,
              "#fb9f3a"
             ],
             [
              0.8888888888888888,
              "#fdca26"
             ],
             [
              1,
              "#f0f921"
             ]
            ],
            "type": "heatmapgl"
           }
          ],
          "histogram": [
           {
            "marker": {
             "pattern": {
              "fillmode": "overlay",
              "size": 10,
              "solidity": 0.2
             }
            },
            "type": "histogram"
           }
          ],
          "histogram2d": [
           {
            "colorbar": {
             "outlinewidth": 0,
             "ticks": ""
            },
            "colorscale": [
             [
              0,
              "#0d0887"
             ],
             [
              0.1111111111111111,
              "#46039f"
             ],
             [
              0.2222222222222222,
              "#7201a8"
             ],
             [
              0.3333333333333333,
              "#9c179e"
             ],
             [
              0.4444444444444444,
              "#bd3786"
             ],
             [
              0.5555555555555556,
              "#d8576b"
             ],
             [
              0.6666666666666666,
              "#ed7953"
             ],
             [
              0.7777777777777778,
              "#fb9f3a"
             ],
             [
              0.8888888888888888,
              "#fdca26"
             ],
             [
              1,
              "#f0f921"
             ]
            ],
            "type": "histogram2d"
           }
          ],
          "histogram2dcontour": [
           {
            "colorbar": {
             "outlinewidth": 0,
             "ticks": ""
            },
            "colorscale": [
             [
              0,
              "#0d0887"
             ],
             [
              0.1111111111111111,
              "#46039f"
             ],
             [
              0.2222222222222222,
              "#7201a8"
             ],
             [
              0.3333333333333333,
              "#9c179e"
             ],
             [
              0.4444444444444444,
              "#bd3786"
             ],
             [
              0.5555555555555556,
              "#d8576b"
             ],
             [
              0.6666666666666666,
              "#ed7953"
             ],
             [
              0.7777777777777778,
              "#fb9f3a"
             ],
             [
              0.8888888888888888,
              "#fdca26"
             ],
             [
              1,
              "#f0f921"
             ]
            ],
            "type": "histogram2dcontour"
           }
          ],
          "mesh3d": [
           {
            "colorbar": {
             "outlinewidth": 0,
             "ticks": ""
            },
            "type": "mesh3d"
           }
          ],
          "parcoords": [
           {
            "line": {
             "colorbar": {
              "outlinewidth": 0,
              "ticks": ""
             }
            },
            "type": "parcoords"
           }
          ],
          "pie": [
           {
            "automargin": true,
            "type": "pie"
           }
          ],
          "scatter": [
           {
            "fillpattern": {
             "fillmode": "overlay",
             "size": 10,
             "solidity": 0.2
            },
            "type": "scatter"
           }
          ],
          "scatter3d": [
           {
            "line": {
             "colorbar": {
              "outlinewidth": 0,
              "ticks": ""
             }
            },
            "marker": {
             "colorbar": {
              "outlinewidth": 0,
              "ticks": ""
             }
            },
            "type": "scatter3d"
           }
          ],
          "scattercarpet": [
           {
            "marker": {
             "colorbar": {
              "outlinewidth": 0,
              "ticks": ""
             }
            },
            "type": "scattercarpet"
           }
          ],
          "scattergeo": [
           {
            "marker": {
             "colorbar": {
              "outlinewidth": 0,
              "ticks": ""
             }
            },
            "type": "scattergeo"
           }
          ],
          "scattergl": [
           {
            "marker": {
             "colorbar": {
              "outlinewidth": 0,
              "ticks": ""
             }
            },
            "type": "scattergl"
           }
          ],
          "scattermapbox": [
           {
            "marker": {
             "colorbar": {
              "outlinewidth": 0,
              "ticks": ""
             }
            },
            "type": "scattermapbox"
           }
          ],
          "scatterpolar": [
           {
            "marker": {
             "colorbar": {
              "outlinewidth": 0,
              "ticks": ""
             }
            },
            "type": "scatterpolar"
           }
          ],
          "scatterpolargl": [
           {
            "marker": {
             "colorbar": {
              "outlinewidth": 0,
              "ticks": ""
             }
            },
            "type": "scatterpolargl"
           }
          ],
          "scatterternary": [
           {
            "marker": {
             "colorbar": {
              "outlinewidth": 0,
              "ticks": ""
             }
            },
            "type": "scatterternary"
           }
          ],
          "surface": [
           {
            "colorbar": {
             "outlinewidth": 0,
             "ticks": ""
            },
            "colorscale": [
             [
              0,
              "#0d0887"
             ],
             [
              0.1111111111111111,
              "#46039f"
             ],
             [
              0.2222222222222222,
              "#7201a8"
             ],
             [
              0.3333333333333333,
              "#9c179e"
             ],
             [
              0.4444444444444444,
              "#bd3786"
             ],
             [
              0.5555555555555556,
              "#d8576b"
             ],
             [
              0.6666666666666666,
              "#ed7953"
             ],
             [
              0.7777777777777778,
              "#fb9f3a"
             ],
             [
              0.8888888888888888,
              "#fdca26"
             ],
             [
              1,
              "#f0f921"
             ]
            ],
            "type": "surface"
           }
          ],
          "table": [
           {
            "cells": {
             "fill": {
              "color": "#EBF0F8"
             },
             "line": {
              "color": "white"
             }
            },
            "header": {
             "fill": {
              "color": "#C8D4E3"
             },
             "line": {
              "color": "white"
             }
            },
            "type": "table"
           }
          ]
         },
         "layout": {
          "annotationdefaults": {
           "arrowcolor": "#2a3f5f",
           "arrowhead": 0,
           "arrowwidth": 1
          },
          "autotypenumbers": "strict",
          "coloraxis": {
           "colorbar": {
            "outlinewidth": 0,
            "ticks": ""
           }
          },
          "colorscale": {
           "diverging": [
            [
             0,
             "#8e0152"
            ],
            [
             0.1,
             "#c51b7d"
            ],
            [
             0.2,
             "#de77ae"
            ],
            [
             0.3,
             "#f1b6da"
            ],
            [
             0.4,
             "#fde0ef"
            ],
            [
             0.5,
             "#f7f7f7"
            ],
            [
             0.6,
             "#e6f5d0"
            ],
            [
             0.7,
             "#b8e186"
            ],
            [
             0.8,
             "#7fbc41"
            ],
            [
             0.9,
             "#4d9221"
            ],
            [
             1,
             "#276419"
            ]
           ],
           "sequential": [
            [
             0,
             "#0d0887"
            ],
            [
             0.1111111111111111,
             "#46039f"
            ],
            [
             0.2222222222222222,
             "#7201a8"
            ],
            [
             0.3333333333333333,
             "#9c179e"
            ],
            [
             0.4444444444444444,
             "#bd3786"
            ],
            [
             0.5555555555555556,
             "#d8576b"
            ],
            [
             0.6666666666666666,
             "#ed7953"
            ],
            [
             0.7777777777777778,
             "#fb9f3a"
            ],
            [
             0.8888888888888888,
             "#fdca26"
            ],
            [
             1,
             "#f0f921"
            ]
           ],
           "sequentialminus": [
            [
             0,
             "#0d0887"
            ],
            [
             0.1111111111111111,
             "#46039f"
            ],
            [
             0.2222222222222222,
             "#7201a8"
            ],
            [
             0.3333333333333333,
             "#9c179e"
            ],
            [
             0.4444444444444444,
             "#bd3786"
            ],
            [
             0.5555555555555556,
             "#d8576b"
            ],
            [
             0.6666666666666666,
             "#ed7953"
            ],
            [
             0.7777777777777778,
             "#fb9f3a"
            ],
            [
             0.8888888888888888,
             "#fdca26"
            ],
            [
             1,
             "#f0f921"
            ]
           ]
          },
          "colorway": [
           "#636efa",
           "#EF553B",
           "#00cc96",
           "#ab63fa",
           "#FFA15A",
           "#19d3f3",
           "#FF6692",
           "#B6E880",
           "#FF97FF",
           "#FECB52"
          ],
          "font": {
           "color": "#2a3f5f"
          },
          "geo": {
           "bgcolor": "white",
           "lakecolor": "white",
           "landcolor": "#E5ECF6",
           "showlakes": true,
           "showland": true,
           "subunitcolor": "white"
          },
          "hoverlabel": {
           "align": "left"
          },
          "hovermode": "closest",
          "mapbox": {
           "style": "light"
          },
          "paper_bgcolor": "white",
          "plot_bgcolor": "#E5ECF6",
          "polar": {
           "angularaxis": {
            "gridcolor": "white",
            "linecolor": "white",
            "ticks": ""
           },
           "bgcolor": "#E5ECF6",
           "radialaxis": {
            "gridcolor": "white",
            "linecolor": "white",
            "ticks": ""
           }
          },
          "scene": {
           "xaxis": {
            "backgroundcolor": "#E5ECF6",
            "gridcolor": "white",
            "gridwidth": 2,
            "linecolor": "white",
            "showbackground": true,
            "ticks": "",
            "zerolinecolor": "white"
           },
           "yaxis": {
            "backgroundcolor": "#E5ECF6",
            "gridcolor": "white",
            "gridwidth": 2,
            "linecolor": "white",
            "showbackground": true,
            "ticks": "",
            "zerolinecolor": "white"
           },
           "zaxis": {
            "backgroundcolor": "#E5ECF6",
            "gridcolor": "white",
            "gridwidth": 2,
            "linecolor": "white",
            "showbackground": true,
            "ticks": "",
            "zerolinecolor": "white"
           }
          },
          "shapedefaults": {
           "line": {
            "color": "#2a3f5f"
           }
          },
          "ternary": {
           "aaxis": {
            "gridcolor": "white",
            "linecolor": "white",
            "ticks": ""
           },
           "baxis": {
            "gridcolor": "white",
            "linecolor": "white",
            "ticks": ""
           },
           "bgcolor": "#E5ECF6",
           "caxis": {
            "gridcolor": "white",
            "linecolor": "white",
            "ticks": ""
           }
          },
          "title": {
           "x": 0.05
          },
          "xaxis": {
           "automargin": true,
           "gridcolor": "white",
           "linecolor": "white",
           "ticks": "",
           "title": {
            "standoff": 15
           },
           "zerolinecolor": "white",
           "zerolinewidth": 2
          },
          "yaxis": {
           "automargin": true,
           "gridcolor": "white",
           "linecolor": "white",
           "ticks": "",
           "title": {
            "standoff": 15
           },
           "zerolinecolor": "white",
           "zerolinewidth": 2
          }
         }
        }
       }
      },
      "image/png": "[encoded data removed]",
      "text/html": [
       "<div>                            <div id=\"0bb995bf-f9d3-4d5a-9a6c-86c86c98b5cd\" class=\"plotly-graph-div\" style=\"height:900px; width:100%;\"></div>            <script type=\"text/javascript\">                require([\"plotly\"], function(Plotly) {                    window.PLOTLYENV=window.PLOTLYENV || {};                                    if (document.getElementById(\"0bb995bf-f9d3-4d5a-9a6c-86c86c98b5cd\")) {                    Plotly.newPlot(                        \"0bb995bf-f9d3-4d5a-9a6c-86c86c98b5cd\",                        [{\"branchvalues\":\"total\",\"customdata\":[[18.0],[20.0],[21.0],[22.0],[23.0],[24.0],[25.0],[26.0],[27.0],[28.0],[30.0],[31.0],[32.0],[33.0],[34.0],[35.0],[36.0],[37.0],[38.0],[39.0],[40.0],[41.0],[42.0],[43.0],[44.0],[45.0],[46.0],[47.0],[48.0],[49.0],[50.0],[51.0],[52.0],[53.0],[54.0],[55.0],[56.0],[57.0],[59.0],[60.0],[61.0],[62.0],[63.0],[64.0],[65.0],[66.0],[67.0],[68.0],[69.0],[70.0],[71.0],[72.0],[73.0],[74.0],[75.0],[76.0],[77.0],[78.0],[79.0],[80.0],[81.0],[82.0],[83.0],[84.0],[85.0],[86.0],[87.0],[88.0],[89.0],[90.0],[91.0],[92.0],[93.0],[94.0],[95.0],[96.0],[97.0],[98.0],[99.0],[100.0],[19.05263157894737],[22.0],[22.045454545454547],[24.0],[25.0],[27.0],[26.0],[30.0],[28.0],[31.0],[32.0],[33.0],[38.0],[42.0],[41.0],[36.0],[39.0],[37.0],[44.0],[43.0],[40.0],[45.0],[46.0],[35.0],[47.0],[34.0],[48.0],[49.0],[50.0],[57.0],[55.0],[53.0],[52.0],[54.0],[59.0],[60.0],[61.0],[51.0],[62.0],[64.0],[63.0],[65.0],[66.0],[56.0],[67.0],[69.0],[70.0],[68.0],[72.0],[73.0],[71.0],[75.0],[74.0],[76.0],[77.0],[78.0],[79.0],[80.0],[81.0],[82.0],[84.0],[83.0],[85.0],[86.0],[87.0],[88.0],[89.0],[90.0],[91.0],[92.0],[93.0],[94.0],[95.0],[96.0],[97.0],[98.0],[99.0],[100.0]],\"domain\":{\"x\":[0.0,1.0],\"y\":[0.0,1.0]},\"hovertemplate\":\"labels=%{label}<br>Percentages_sum=%{value}<br>parent=%{parent}<br>id=%{id}<br>Percentages=%{color}<extra></extra>\",\"ids\":[\"1/18\",\"1/20\",\"5/21\",\"4/22\",\"5/23\",\"7/24\",\"17/25\",\"27/26\",\"21/27\",\"80/28\",\"62/30\",\"85/31\",\"106/32\",\"1821/33\",\"8354/34\",\"7902/35\",\"7477/36\",\"7544/37\",\"7355/38\",\"7507/39\",\"7662/40\",\"7440/41\",\"7409/42\",\"7578/43\",\"7550/44\",\"7734/45\",\"7765/46\",\"8219/47\",\"8996/48\",\"9409/49\",\"16999/50\",\"19798/51\",\"19046/52\",\"19030/53\",\"19047/54\",\"18961/55\",\"37842/56\",\"18846/57\",\"19153/59\",\"19413/60\",\"19496/61\",\"20077/62\",\"20253/63\",\"20157/64\",\"20664/65\",\"21705/66\",\"114853/67\",\"132836/68\",\"130683/69\",\"132008/70\",\"144645/71\",\"134884/72\",\"141415/73\",\"146522/74\",\"145086/75\",\"147305/76\",\"157925/77\",\"162531/78\",\"168606/79\",\"181917/80\",\"185855/81\",\"189844/82\",\"204736/83\",\"203438/84\",\"216805/85\",\"225191/86\",\"248662/87\",\"268002/88\",\"297295/89\",\"319149/90\",\"349864/91\",\"383114/92\",\"441752/93\",\"524745/94\",\"622206/95\",\"769316/96\",\"1071263/97\",\"1642960/98\",\"3801610/99\",\"191418993/100\",\"1\",\"4\",\"5\",\"7\",\"17\",\"21\",\"27\",\"62\",\"80\",\"85\",\"106\",\"1821\",\"7355\",\"7409\",\"7440\",\"7477\",\"7507\",\"7544\",\"7550\",\"7578\",\"7662\",\"7734\",\"7765\",\"7902\",\"8219\",\"8354\",\"8996\",\"9409\",\"16999\",\"18846\",\"18961\",\"19030\",\"19046\",\"19047\",\"19153\",\"19413\",\"19496\",\"19798\",\"20077\",\"20157\",\"20253\",\"20664\",\"21705\",\"37842\",\"114853\",\"130683\",\"132008\",\"132836\",\"134884\",\"141415\",\"144645\",\"145086\",\"146522\",\"147305\",\"157925\",\"162531\",\"168606\",\"181917\",\"185855\",\"189844\",\"203438\",\"204736\",\"216805\",\"225191\",\"248662\",\"268002\",\"297295\",\"319149\",\"349864\",\"383114\",\"441752\",\"524745\",\"622206\",\"769316\",\"1071263\",\"1642960\",\"3801610\",\"191418993\"],\"labels\":[\"18\",\"20\",\"21\",\"22\",\"23\",\"24\",\"25\",\"26\",\"27\",\"28\",\"30\",\"31\",\"32\",\"33\",\"34\",\"35\",\"36\",\"37\",\"38\",\"39\",\"40\",\"41\",\"42\",\"43\",\"44\",\"45\",\"46\",\"47\",\"48\",\"49\",\"50\",\"51\",\"52\",\"53\",\"54\",\"55\",\"56\",\"57\",\"59\",\"60\",\"61\",\"62\",\"63\",\"64\",\"65\",\"66\",\"67\",\"68\",\"69\",\"70\",\"71\",\"72\",\"73\",\"74\",\"75\",\"76\",\"77\",\"78\",\"79\",\"80\",\"81\",\"82\",\"83\",\"84\",\"85\",\"86\",\"87\",\"88\",\"89\",\"90\",\"91\",\"92\",\"93\",\"94\",\"95\",\"96\",\"97\",\"98\",\"99\",\"100\",\"1\",\"4\",\"5\",\"7\",\"17\",\"21\",\"27\",\"62\",\"80\",\"85\",\"106\",\"1821\",\"7355\",\"7409\",\"7440\",\"7477\",\"7507\",\"7544\",\"7550\",\"7578\",\"7662\",\"7734\",\"7765\",\"7902\",\"8219\",\"8354\",\"8996\",\"9409\",\"16999\",\"18846\",\"18961\",\"19030\",\"19046\",\"19047\",\"19153\",\"19413\",\"19496\",\"19798\",\"20077\",\"20157\",\"20253\",\"20664\",\"21705\",\"37842\",\"114853\",\"130683\",\"132008\",\"132836\",\"134884\",\"141415\",\"144645\",\"145086\",\"146522\",\"147305\",\"157925\",\"162531\",\"168606\",\"181917\",\"185855\",\"189844\",\"203438\",\"204736\",\"216805\",\"225191\",\"248662\",\"268002\",\"297295\",\"319149\",\"349864\",\"383114\",\"441752\",\"524745\",\"622206\",\"769316\",\"1071263\",\"1642960\",\"3801610\",\"191418993\"],\"marker\":{\"coloraxis\":\"coloraxis\",\"colors\":[18.0,20.0,21.0,22.0,23.0,24.0,25.0,26.0,27.0,28.0,30.0,31.0,32.0,33.0,34.0,35.0,36.0,37.0,38.0,39.0,40.0,41.0,42.0,43.0,44.0,45.0,46.0,47.0,48.0,49.0,50.0,51.0,52.0,53.0,54.0,55.0,56.0,57.0,59.0,60.0,61.0,62.0,63.0,64.0,65.0,66.0,67.0,68.0,69.0,70.0,71.0,72.0,73.0,74.0,75.0,76.0,77.0,78.0,79.0,80.0,81.0,82.0,83.0,84.0,85.0,86.0,87.0,88.0,89.0,90.0,91.0,92.0,93.0,94.0,95.0,96.0,97.0,98.0,99.0,100.0,19.05263157894737,22.0,22.045454545454547,24.0,25.0,27.0,26.0,30.0,28.0,31.0,32.0,33.0,38.0,42.0,41.0,36.0,39.0,37.0,44.0,43.0,40.0,45.0,46.0,35.0,47.0,34.0,48.0,49.0,50.0,57.0,55.0,53.0,52.0,54.0,59.0,60.0,61.0,51.0,62.0,64.0,63.0,65.0,66.0,56.0,67.0,69.0,70.0,68.0,72.0,73.0,71.0,75.0,74.0,76.0,77.0,78.0,79.0,80.0,81.0,82.0,84.0,83.0,85.0,86.0,87.0,88.0,89.0,90.0,91.0,92.0,93.0,94.0,95.0,96.0,97.0,98.0,99.0,100.0]},\"name\":\"\",\"parents\":[\"1\",\"1\",\"5\",\"4\",\"5\",\"7\",\"17\",\"27\",\"21\",\"80\",\"62\",\"85\",\"106\",\"1821\",\"8354\",\"7902\",\"7477\",\"7544\",\"7355\",\"7507\",\"7662\",\"7440\",\"7409\",\"7578\",\"7550\",\"7734\",\"7765\",\"8219\",\"8996\",\"9409\",\"16999\",\"19798\",\"19046\",\"19030\",\"19047\",\"18961\",\"37842\",\"18846\",\"19153\",\"19413\",\"19496\",\"20077\",\"20253\",\"20157\",\"20664\",\"21705\",\"114853\",\"132836\",\"130683\",\"132008\",\"144645\",\"134884\",\"141415\",\"146522\",\"145086\",\"147305\",\"157925\",\"162531\",\"168606\",\"181917\",\"185855\",\"189844\",\"204736\",\"203438\",\"216805\",\"225191\",\"248662\",\"268002\",\"297295\",\"319149\",\"349864\",\"383114\",\"441752\",\"524745\",\"622206\",\"769316\",\"1071263\",\"1642960\",\"3801610\",\"191418993\",\"\",\"\",\"\",\"\",\"\",\"\",\"\",\"\",\"\",\"\",\"\",\"\",\"\",\"\",\"\",\"\",\"\",\"\",\"\",\"\",\"\",\"\",\"\",\"\",\"\",\"\",\"\",\"\",\"\",\"\",\"\",\"\",\"\",\"\",\"\",\"\",\"\",\"\",\"\",\"\",\"\",\"\",\"\",\"\",\"\",\"\",\"\",\"\",\"\",\"\",\"\",\"\",\"\",\"\",\"\",\"\",\"\",\"\",\"\",\"\",\"\",\"\",\"\",\"\",\"\",\"\",\"\",\"\",\"\",\"\",\"\",\"\",\"\",\"\",\"\",\"\",\"\",\"\"],\"values\":[18,20,21,22,23,24,25,26,27,28,30,31,32,33,34,35,36,37,38,39,40,41,42,43,44,45,46,47,48,49,50,51,52,53,54,55,56,57,59,60,61,62,63,64,65,66,67,68,69,70,71,72,73,74,75,76,77,78,79,80,81,82,83,84,85,86,87,88,89,90,91,92,93,94,95,96,97,98,99,100,38,22,44,24,25,27,26,30,28,31,32,33,38,42,41,36,39,37,44,43,40,45,46,35,47,34,48,49,50,57,55,53,52,54,59,60,61,51,62,64,63,65,66,56,67,69,70,68,72,73,71,75,74,76,77,78,79,80,81,82,84,83,85,86,87,88,89,90,91,92,93,94,95,96,97,98,99,100],\"type\":\"treemap\"}],                        {\"template\":{\"data\":{\"histogram2dcontour\":[{\"type\":\"histogram2dcontour\",\"colorbar\":{\"outlinewidth\":0,\"ticks\":\"\"},\"colorscale\":[[0.0,\"#0d0887\"],[0.1111111111111111,\"#46039f\"],[0.2222222222222222,\"#7201a8\"],[0.3333333333333333,\"#9c179e\"],[0.4444444444444444,\"#bd3786\"],[0.5555555555555556,\"#d8576b\"],[0.6666666666666666,\"#ed7953\"],[0.7777777777777778,\"#fb9f3a\"],[0.8888888888888888,\"#fdca26\"],[1.0,\"#f0f921\"]]}],\"choropleth\":[{\"type\":\"choropleth\",\"colorbar\":{\"outlinewidth\":0,\"ticks\":\"\"}}],\"histogram2d\":[{\"type\":\"histogram2d\",\"colorbar\":{\"outlinewidth\":0,\"ticks\":\"\"},\"colorscale\":[[0.0,\"#0d0887\"],[0.1111111111111111,\"#46039f\"],[0.2222222222222222,\"#7201a8\"],[0.3333333333333333,\"#9c179e\"],[0.4444444444444444,\"#bd3786\"],[0.5555555555555556,\"#d8576b\"],[0.6666666666666666,\"#ed7953\"],[0.7777777777777778,\"#fb9f3a\"],[0.8888888888888888,\"#fdca26\"],[1.0,\"#f0f921\"]]}],\"heatmap\":[{\"type\":\"heatmap\",\"colorbar\":{\"outlinewidth\":0,\"ticks\":\"\"},\"colorscale\":[[0.0,\"#0d0887\"],[0.1111111111111111,\"#46039f\"],[0.2222222222222222,\"#7201a8\"],[0.3333333333333333,\"#9c179e\"],[0.4444444444444444,\"#bd3786\"],[0.5555555555555556,\"#d8576b\"],[0.6666666666666666,\"#ed7953\"],[0.7777777777777778,\"#fb9f3a\"],[0.8888888888888888,\"#fdca26\"],[1.0,\"#f0f921\"]]}],\"heatmapgl\":[{\"type\":\"heatmapgl\",\"colorbar\":{\"outlinewidth\":0,\"ticks\":\"\"},\"colorscale\":[[0.0,\"#0d0887\"],[0.1111111111111111,\"#46039f\"],[0.2222222222222222,\"#7201a8\"],[0.3333333333333333,\"#9c179e\"],[0.4444444444444444,\"#bd3786\"],[0.5555555555555556,\"#d8576b\"],[0.6666666666666666,\"#ed7953\"],[0.7777777777777778,\"#fb9f3a\"],[0.8888888888888888,\"#fdca26\"],[1.0,\"#f0f921\"]]}],\"contourcarpet\":[{\"type\":\"contourcarpet\",\"colorbar\":{\"outlinewidth\":0,\"ticks\":\"\"}}],\"contour\":[{\"type\":\"contour\",\"colorbar\":{\"outlinewidth\":0,\"ticks\":\"\"},\"colorscale\":[[0.0,\"#0d0887\"],[0.1111111111111111,\"#46039f\"],[0.2222222222222222,\"#7201a8\"],[0.3333333333333333,\"#9c179e\"],[0.4444444444444444,\"#bd3786\"],[0.5555555555555556,\"#d8576b\"],[0.6666666666666666,\"#ed7953\"],[0.7777777777777778,\"#fb9f3a\"],[0.8888888888888888,\"#fdca26\"],[1.0,\"#f0f921\"]]}],\"surface\":[{\"type\":\"surface\",\"colorbar\":{\"outlinewidth\":0,\"ticks\":\"\"},\"colorscale\":[[0.0,\"#0d0887\"],[0.1111111111111111,\"#46039f\"],[0.2222222222222222,\"#7201a8\"],[0.3333333333333333,\"#9c179e\"],[0.4444444444444444,\"#bd3786\"],[0.5555555555555556,\"#d8576b\"],[0.6666666666666666,\"#ed7953\"],[0.7777777777777778,\"#fb9f3a\"],[0.8888888888888888,\"#fdca26\"],[1.0,\"#f0f921\"]]}],\"mesh3d\":[{\"type\":\"mesh3d\",\"colorbar\":{\"outlinewidth\":0,\"ticks\":\"\"}}],\"scatter\":[{\"fillpattern\":{\"fillmode\":\"overlay\",\"size\":10,\"solidity\":0.2},\"type\":\"scatter\"}],\"parcoords\":[{\"type\":\"parcoords\",\"line\":{\"colorbar\":{\"outlinewidth\":0,\"ticks\":\"\"}}}],\"scatterpolargl\":[{\"type\":\"scatterpolargl\",\"marker\":{\"colorbar\":{\"outlinewidth\":0,\"ticks\":\"\"}}}],\"bar\":[{\"error_x\":{\"color\":\"#2a3f5f\"},\"error_y\":{\"color\":\"#2a3f5f\"},\"marker\":{\"line\":{\"color\":\"#E5ECF6\",\"width\":0.5},\"pattern\":{\"fillmode\":\"overlay\",\"size\":10,\"solidity\":0.2}},\"type\":\"bar\"}],\"scattergeo\":[{\"type\":\"scattergeo\",\"marker\":{\"colorbar\":{\"outlinewidth\":0,\"ticks\":\"\"}}}],\"scatterpolar\":[{\"type\":\"scatterpolar\",\"marker\":{\"colorbar\":{\"outlinewidth\":0,\"ticks\":\"\"}}}],\"histogram\":[{\"marker\":{\"pattern\":{\"fillmode\":\"overlay\",\"size\":10,\"solidity\":0.2}},\"type\":\"histogram\"}],\"scattergl\":[{\"type\":\"scattergl\",\"marker\":{\"colorbar\":{\"outlinewidth\":0,\"ticks\":\"\"}}}],\"scatter3d\":[{\"type\":\"scatter3d\",\"line\":{\"colorbar\":{\"outlinewidth\":0,\"ticks\":\"\"}},\"marker\":{\"colorbar\":{\"outlinewidth\":0,\"ticks\":\"\"}}}],\"scattermapbox\":[{\"type\":\"scattermapbox\",\"marker\":{\"colorbar\":{\"outlinewidth\":0,\"ticks\":\"\"}}}],\"scatterternary\":[{\"type\":\"scatterternary\",\"marker\":{\"colorbar\":{\"outlinewidth\":0,\"ticks\":\"\"}}}],\"scattercarpet\":[{\"type\":\"scattercarpet\",\"marker\":{\"colorbar\":{\"outlinewidth\":0,\"ticks\":\"\"}}}],\"carpet\":[{\"aaxis\":{\"endlinecolor\":\"#2a3f5f\",\"gridcolor\":\"white\",\"linecolor\":\"white\",\"minorgridcolor\":\"white\",\"startlinecolor\":\"#2a3f5f\"},\"baxis\":{\"endlinecolor\":\"#2a3f5f\",\"gridcolor\":\"white\",\"linecolor\":\"white\",\"minorgridcolor\":\"white\",\"startlinecolor\":\"#2a3f5f\"},\"type\":\"carpet\"}],\"table\":[{\"cells\":{\"fill\":{\"color\":\"#EBF0F8\"},\"line\":{\"color\":\"white\"}},\"header\":{\"fill\":{\"color\":\"#C8D4E3\"},\"line\":{\"color\":\"white\"}},\"type\":\"table\"}],\"barpolar\":[{\"marker\":{\"line\":{\"color\":\"#E5ECF6\",\"width\":0.5},\"pattern\":{\"fillmode\":\"overlay\",\"size\":10,\"solidity\":0.2}},\"type\":\"barpolar\"}],\"pie\":[{\"automargin\":true,\"type\":\"pie\"}]},\"layout\":{\"autotypenumbers\":\"strict\",\"colorway\":[\"#636efa\",\"#EF553B\",\"#00cc96\",\"#ab63fa\",\"#FFA15A\",\"#19d3f3\",\"#FF6692\",\"#B6E880\",\"#FF97FF\",\"#FECB52\"],\"font\":{\"color\":\"#2a3f5f\"},\"hovermode\":\"closest\",\"hoverlabel\":{\"align\":\"left\"},\"paper_bgcolor\":\"white\",\"plot_bgcolor\":\"#E5ECF6\",\"polar\":{\"bgcolor\":\"#E5ECF6\",\"angularaxis\":{\"gridcolor\":\"white\",\"linecolor\":\"white\",\"ticks\":\"\"},\"radialaxis\":{\"gridcolor\":\"white\",\"linecolor\":\"white\",\"ticks\":\"\"}},\"ternary\":{\"bgcolor\":\"#E5ECF6\",\"aaxis\":{\"gridcolor\":\"white\",\"linecolor\":\"white\",\"ticks\":\"\"},\"baxis\":{\"gridcolor\":\"white\",\"linecolor\":\"white\",\"ticks\":\"\"},\"caxis\":{\"gridcolor\":\"white\",\"linecolor\":\"white\",\"ticks\":\"\"}},\"coloraxis\":{\"colorbar\":{\"outlinewidth\":0,\"ticks\":\"\"}},\"colorscale\":{\"sequential\":[[0.0,\"#0d0887\"],[0.1111111111111111,\"#46039f\"],[0.2222222222222222,\"#7201a8\"],[0.3333333333333333,\"#9c179e\"],[0.4444444444444444,\"#bd3786\"],[0.5555555555555556,\"#d8576b\"],[0.6666666666666666,\"#ed7953\"],[0.7777777777777778,\"#fb9f3a\"],[0.8888888888888888,\"#fdca26\"],[1.0,\"#f0f921\"]],\"sequentialminus\":[[0.0,\"#0d0887\"],[0.1111111111111111,\"#46039f\"],[0.2222222222222222,\"#7201a8\"],[0.3333333333333333,\"#9c179e\"],[0.4444444444444444,\"#bd3786\"],[0.5555555555555556,\"#d8576b\"],[0.6666666666666666,\"#ed7953\"],[0.7777777777777778,\"#fb9f3a\"],[0.8888888888888888,\"#fdca26\"],[1.0,\"#f0f921\"]],\"diverging\":[[0,\"#8e0152\"],[0.1,\"#c51b7d\"],[0.2,\"#de77ae\"],[0.3,\"#f1b6da\"],[0.4,\"#fde0ef\"],[0.5,\"#f7f7f7\"],[0.6,\"#e6f5d0\"],[0.7,\"#b8e186\"],[0.8,\"#7fbc41\"],[0.9,\"#4d9221\"],[1,\"#276419\"]]},\"xaxis\":{\"gridcolor\":\"white\",\"linecolor\":\"white\",\"ticks\":\"\",\"title\":{\"standoff\":15},\"zerolinecolor\":\"white\",\"automargin\":true,\"zerolinewidth\":2},\"yaxis\":{\"gridcolor\":\"white\",\"linecolor\":\"white\",\"ticks\":\"\",\"title\":{\"standoff\":15},\"zerolinecolor\":\"white\",\"automargin\":true,\"zerolinewidth\":2},\"scene\":{\"xaxis\":{\"backgroundcolor\":\"#E5ECF6\",\"gridcolor\":\"white\",\"linecolor\":\"white\",\"showbackground\":true,\"ticks\":\"\",\"zerolinecolor\":\"white\",\"gridwidth\":2},\"yaxis\":{\"backgroundcolor\":\"#E5ECF6\",\"gridcolor\":\"white\",\"linecolor\":\"white\",\"showbackground\":true,\"ticks\":\"\",\"zerolinecolor\":\"white\",\"gridwidth\":2},\"zaxis\":{\"backgroundcolor\":\"#E5ECF6\",\"gridcolor\":\"white\",\"linecolor\":\"white\",\"showbackground\":true,\"ticks\":\"\",\"zerolinecolor\":\"white\",\"gridwidth\":2}},\"shapedefaults\":{\"line\":{\"color\":\"#2a3f5f\"}},\"annotationdefaults\":{\"arrowcolor\":\"#2a3f5f\",\"arrowhead\":0,\"arrowwidth\":1},\"geo\":{\"bgcolor\":\"white\",\"landcolor\":\"#E5ECF6\",\"subunitcolor\":\"white\",\"showland\":true,\"showlakes\":true,\"lakecolor\":\"white\"},\"title\":{\"x\":0.05},\"mapbox\":{\"style\":\"light\"}}},\"coloraxis\":{\"colorbar\":{\"title\":{\"text\":\"Percentages\"}},\"colorscale\":[[0.0,\"#0d0887\"],[0.1111111111111111,\"#46039f\"],[0.2222222222222222,\"#7201a8\"],[0.3333333333333333,\"#9c179e\"],[0.4444444444444444,\"#bd3786\"],[0.5555555555555556,\"#d8576b\"],[0.6666666666666666,\"#ed7953\"],[0.7777777777777778,\"#fb9f3a\"],[0.8888888888888888,\"#fdca26\"],[1.0,\"#f0f921\"]]},\"legend\":{\"tracegroupgap\":0},\"margin\":{\"t\":60,\"r\":300},\"height\":900},                        {\"responsive\": true}                    ).then(function(){\n",
       "                            \n",
       "var gd = document.getElementById('0bb995bf-f9d3-4d5a-9a6c-86c86c98b5cd');\n",
       "var x = new MutationObserver(function (mutations, observer) {{\n",
       "        var display = window.getComputedStyle(gd).display;\n",
       "        if (!display || display === 'none') {{\n",
       "            console.log([gd, 'removed!']);\n",
       "            Plotly.purge(gd);\n",
       "            observer.disconnect();\n",
       "        }}\n",
       "}});\n",
       "\n",
       "// Listen for the removal of the full notebook cells\n",
       "var notebookContainer = gd.closest('#notebook-container');\n",
       "if (notebookContainer) {{\n",
       "    x.observe(notebookContainer, {childList: true});\n",
       "}}\n",
       "\n",
       "// Listen for the clearing of the current output cell\n",
       "var outputEl = gd.closest('.output');\n",
       "if (outputEl) {{\n",
       "    x.observe(outputEl, {childList: true});\n",
       "}}\n",
       "\n",
       "                        })                };                });            </script>        </div>"
      ]
     },
     "metadata": {},
     "output_type": "display_data"
    }
   ],
   "source": [
    "fig = px.treemap(df_quals, path=['Frequency', 'Percentages'], values='Percentages', color='Percentages')#, color='Percentage')\n",
    "fig.update_layout(height=900, margin_r=300)\n",
    "\n",
    "# fig.update_layout(margin = dict(t=100, l=50, r=5, b=25))\n",
    "fig.show()"
   ]
  },
  {
   "cell_type": "code",
   "execution_count": 475,
   "id": "0487d4ff-e0af-4b17-9e03-a3e5447ada6d",
   "metadata": {
    "collapsed": true,
    "jupyter": {
     "outputs_hidden": true
    },
    "tags": []
   },
   "outputs": [
    {
     "data": {
      "text/html": [
       "<div>\n",
       "<style scoped>\n",
       "    .dataframe tbody tr th:only-of-type {\n",
       "        vertical-align: middle;\n",
       "    }\n",
       "\n",
       "    .dataframe tbody tr th {\n",
       "        vertical-align: top;\n",
       "    }\n",
       "\n",
       "    .dataframe thead th {\n",
       "        text-align: right;\n",
       "    }\n",
       "</style>\n",
       "<table border=\"1\" class=\"dataframe\">\n",
       "  <thead>\n",
       "    <tr style=\"text-align: right;\">\n",
       "      <th></th>\n",
       "      <th>Percentages</th>\n",
       "      <th>Frequency</th>\n",
       "    </tr>\n",
       "  </thead>\n",
       "  <tbody>\n",
       "    <tr>\n",
       "      <th>75</th>\n",
       "      <td>18</td>\n",
       "      <td>1</td>\n",
       "    </tr>\n",
       "    <tr>\n",
       "      <th>79</th>\n",
       "      <td>20</td>\n",
       "      <td>1</td>\n",
       "    </tr>\n",
       "    <tr>\n",
       "      <th>78</th>\n",
       "      <td>21</td>\n",
       "      <td>5</td>\n",
       "    </tr>\n",
       "    <tr>\n",
       "      <th>74</th>\n",
       "      <td>22</td>\n",
       "      <td>4</td>\n",
       "    </tr>\n",
       "    <tr>\n",
       "      <th>76</th>\n",
       "      <td>23</td>\n",
       "      <td>5</td>\n",
       "    </tr>\n",
       "  </tbody>\n",
       "</table>\n",
       "</div>"
      ],
      "text/plain": [
       "    Percentages  Frequency\n",
       "75           18          1\n",
       "79           20          1\n",
       "78           21          5\n",
       "74           22          4\n",
       "76           23          5"
      ]
     },
     "execution_count": 475,
     "metadata": {},
     "output_type": "execute_result"
    }
   ],
   "source": [
    "df_quals.head()\n"
   ]
  },
  {
   "cell_type": "code",
   "execution_count": 455,
   "id": "7cbc6ee6-3f7a-4232-a576-d1b1350ebc5e",
   "metadata": {},
   "outputs": [
    {
     "data": {
      "text/plain": [
       "60.5"
      ]
     },
     "execution_count": 455,
     "metadata": {},
     "output_type": "execute_result"
    }
   ],
   "source": [
    "df_quals['Percentages'].median()"
   ]
  },
  {
   "cell_type": "code",
   "execution_count": 457,
   "id": "03823c79-7fa2-4b6e-8781-56459b6b1be7",
   "metadata": {},
   "outputs": [
    {
     "name": "stderr",
     "output_type": "stream",
     "text": [
      "205884646it [02:36, 1313966.48it/s]\n"
     ]
    }
   ],
   "source": [
    "Denovo_calls_qualities1 = []\n",
    "Denovo_calls_stutter1 = []\n",
    "\n",
    "with open('../../Analysis_KT/Calls_stats/Denovo_calls_info.tsv') as denovo_regions:\n",
    "    \n",
    "    for info in tqdm(denovo_regions):\n",
    "        \n",
    "        #\n",
    "        info = info.strip().split()\n",
    "        \n",
    "        #\n",
    "        qual_percent = int(info[1])\n",
    "        stutter = int(info[2])\n",
    "        \n",
    "        #\n",
    "        Denovo_calls_qualities1.append(qual_percent)\n",
    "        Denovo_calls_stutter1.append(stutter)"
   ]
  },
  {
   "cell_type": "code",
   "execution_count": 459,
   "id": "aaf7c4dd-6c62-4b12-9fc5-919a3e402e34",
   "metadata": {},
   "outputs": [
    {
     "data": {
      "text/plain": [
       "(205884646, 205884646)"
      ]
     },
     "execution_count": 459,
     "metadata": {},
     "output_type": "execute_result"
    }
   ],
   "source": [
    "len(Denovo_calls_qualities1), len(Denovo_calls_stutter1)"
   ]
  },
  {
   "cell_type": "code",
   "execution_count": 473,
   "id": "3b58dbec-be24-48d4-ae38-0ac8a05a84db",
   "metadata": {},
   "outputs": [
    {
     "name": "stdout",
     "output_type": "stream",
     "text": [
      "99.33703397678329 2.3214039622944975\n"
     ]
    }
   ],
   "source": [
    "print(sum(Denovo_calls_qualities1)/len(Denovo_calls_qualities1), sum(Denovo_calls_stutter1)/len(Denovo_calls_stutter1))"
   ]
  },
  {
   "cell_type": "code",
   "execution_count": 469,
   "id": "be5a326f-0d17-44b4-beb1-6d7cc6d6e21a",
   "metadata": {},
   "outputs": [
    {
     "data": {
      "text/plain": [
       "100.0"
      ]
     },
     "execution_count": 469,
     "metadata": {},
     "output_type": "execute_result"
    }
   ],
   "source": [
    "statistics.median(Denovo_calls_qualities1)"
   ]
  },
  {
   "cell_type": "code",
   "execution_count": 474,
   "id": "8d5b0044-d472-4417-89f1-20b84cc2fe60",
   "metadata": {},
   "outputs": [
    {
     "data": {
      "text/plain": [
       "0.0"
      ]
     },
     "execution_count": 474,
     "metadata": {},
     "output_type": "execute_result"
    }
   ],
   "source": [
    "statistics.median(Denovo_calls_stutter1)"
   ]
  },
  {
   "cell_type": "code",
   "execution_count": 482,
   "id": "933226f3-080a-468e-9b8b-adf6ce4f0dc9",
   "metadata": {},
   "outputs": [
    {
     "name": "stderr",
     "output_type": "stream",
     "text": [
      "205884646it [02:59, 1147271.30it/s]\n"
     ]
    }
   ],
   "source": [
    "chr_counts = {}\n",
    "\n",
    "with gzip.open('../../Analysis_KT/Calls_stats/Denovo_calls_info.tsv.gz', 'rt') as denovo_regions:\n",
    "    \n",
    "    for info in tqdm(denovo_regions):\n",
    "        \n",
    "        #\n",
    "        info = info.strip().split()\n",
    "        info = info[0].split(':')[0]\n",
    "        if info in chr_counts:\n",
    "            chr_counts[info] += 1\n",
    "        else: chr_counts[info] = 1\n"
   ]
  },
  {
   "cell_type": "code",
   "execution_count": 490,
   "id": "389d8b57-0a2a-4f55-87f7-3c8526417648",
   "metadata": {},
   "outputs": [
    {
     "name": "stdout",
     "output_type": "stream",
     "text": [
      "7315\n"
     ]
    }
   ],
   "source": [
    "s = 0\n",
    "\n",
    "for i in chr_counts:\n",
    "    \n",
    "    if len(i) <6: continue\n",
    "    s += int(chr_counts[i])\n",
    "    \n",
    "print(s)"
   ]
  },
  {
   "cell_type": "code",
   "execution_count": null,
   "id": "74b127c2-a0a0-4558-a201-8a0aa1e50625",
   "metadata": {},
   "outputs": [],
   "source": []
  }
 ],
 "metadata": {
  "kernelspec": {
   "display_name": "Python 3 (ipykernel)",
   "language": "python",
   "name": "python3"
  },
  "language_info": {
   "codemirror_mode": {
    "name": "ipython",
    "version": 3
   },
   "file_extension": ".py",
   "mimetype": "text/x-python",
   "name": "python",
   "nbconvert_exporter": "python",
   "pygments_lexer": "ipython3",
   "version": "3.9.7"
  }
 },
 "nbformat": 4,
 "nbformat_minor": 5
}
